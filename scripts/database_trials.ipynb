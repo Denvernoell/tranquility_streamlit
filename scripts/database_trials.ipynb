{
 "cells": [
  {
   "cell_type": "code",
   "execution_count": null,
   "metadata": {},
   "outputs": [],
   "source": [
    "import tomli\n",
    "with open(\"..\\\\.streamlit\\\\secrets.toml\",'rb') as f:\n",
    "\tconfig = tomli.load(f)"
   ]
  },
  {
   "cell_type": "code",
   "execution_count": 4,
   "metadata": {},
   "outputs": [],
   "source": [
    "from sqlalchemy import create_engine,inspect\n",
    "def connect_to_postgres(username,password,host,database):\n",
    "\tengine = create_engine(f\"postgresql://{username}:{password}@{host}:5432/{database}\")  \n",
    "\treturn engine\n",
    "\n",
    "def ag_water():\n",
    "\tengine = connect_to_postgres(\t\n",
    "\t\tusername='postgres',\n",
    "\t\tpassword=config['password'],\n",
    "\t\thost=config['host'],\n",
    "\t\tdatabase='postgres',\n",
    "\t)\n",
    "\treturn engine\n",
    "con = ag_water()"
   ]
  },
  {
   "cell_type": "code",
   "execution_count": 9,
   "metadata": {},
   "outputs": [
    {
     "data": {
      "text/plain": [
       "['TID_well_names',\n",
       " 'TID_well_ownership',\n",
       " 'TID_well_ownership_single',\n",
       " 'TID_extractions_yearly_AF',\n",
       " 'TID_extractions_monthly_AF',\n",
       " 'TID_current_well_ownership',\n",
       " 'TID_well_depth_to_water_ft',\n",
       " 'TID_subsidence_points',\n",
       " 'TID_subsidence_elevations']"
      ]
     },
     "execution_count": 9,
     "metadata": {},
     "output_type": "execute_result"
    }
   ],
   "source": [
    "inspector = inspect(con)\n",
    "table_names = [i for i in inspector.get_table_names() if i.find('TID_') != -1]\n",
    "table_names"
   ]
  },
  {
   "cell_type": "code",
   "execution_count": 84,
   "metadata": {},
   "outputs": [
    {
     "data": {
      "text/plain": [
       "['TID_well_names',\n",
       " 'TID_well_ownership',\n",
       " 'TID_well_ownership_single',\n",
       " 'TID_extractions_yearly_AF',\n",
       " 'TID_extractions_monthly_AF',\n",
       " 'TID_current_well_ownership',\n",
       " 'TID_well_depth_to_water_ft',\n",
       " 'TID_subsidence_points',\n",
       " 'TID_subsidence_elevations']"
      ]
     },
     "execution_count": 84,
     "metadata": {},
     "output_type": "execute_result"
    }
   ],
   "source": [
    "import pandas as pd\n",
    "dfs = {name:pd.read_sql_table(f\"{name}\",con) for name in table_names}\n",
    "table_names = [i for i in dfs.keys()]\n",
    "table_names"
   ]
  },
  {
   "cell_type": "code",
   "execution_count": 86,
   "metadata": {},
   "outputs": [
    {
     "data": {
      "text/html": [
       "<div>\n",
       "<style scoped>\n",
       "    .dataframe tbody tr th:only-of-type {\n",
       "        vertical-align: middle;\n",
       "    }\n",
       "\n",
       "    .dataframe tbody tr th {\n",
       "        vertical-align: top;\n",
       "    }\n",
       "\n",
       "    .dataframe thead th {\n",
       "        text-align: right;\n",
       "    }\n",
       "</style>\n",
       "<table border=\"1\" class=\"dataframe\">\n",
       "  <thead>\n",
       "    <tr style=\"text-align: right;\">\n",
       "      <th></th>\n",
       "      <th>index</th>\n",
       "      <th>point_id</th>\n",
       "      <th>point_number</th>\n",
       "      <th>northing</th>\n",
       "      <th>easting</th>\n",
       "      <th>latitude</th>\n",
       "      <th>longitude</th>\n",
       "      <th>notes</th>\n",
       "      <th>source</th>\n",
       "    </tr>\n",
       "  </thead>\n",
       "  <tbody>\n",
       "    <tr>\n",
       "      <th>0</th>\n",
       "      <td>0</td>\n",
       "      <td>AG-20</td>\n",
       "      <td>107.0</td>\n",
       "      <td>2.117338e+06</td>\n",
       "      <td>6.200248e+06</td>\n",
       "      <td>36 38 13.287343 N</td>\n",
       "      <td>120 13 54.744731 W</td>\n",
       "      <td>FD_MAG_NAIL</td>\n",
       "      <td>\\\\ppeng.com\\pzdata\\clients\\Tranquillity ID-107...</td>\n",
       "    </tr>\n",
       "    <tr>\n",
       "      <th>1</th>\n",
       "      <td>1</td>\n",
       "      <td>AG-24</td>\n",
       "      <td>116.0</td>\n",
       "      <td>2.129655e+06</td>\n",
       "      <td>6.189336e+06</td>\n",
       "      <td>36 40 13.671861 N</td>\n",
       "      <td>120 16 10.619000 W</td>\n",
       "      <td>FD_MAG_NAIL</td>\n",
       "      <td>\\\\ppeng.com\\pzdata\\clients\\Tranquillity ID-107...</td>\n",
       "    </tr>\n",
       "  </tbody>\n",
       "</table>\n",
       "</div>"
      ],
      "text/plain": [
       "   index point_id  point_number      northing       easting  \\\n",
       "0      0    AG-20         107.0  2.117338e+06  6.200248e+06   \n",
       "1      1    AG-24         116.0  2.129655e+06  6.189336e+06   \n",
       "\n",
       "            latitude           longitude        notes  \\\n",
       "0  36 38 13.287343 N  120 13 54.744731 W  FD_MAG_NAIL   \n",
       "1  36 40 13.671861 N  120 16 10.619000 W  FD_MAG_NAIL   \n",
       "\n",
       "                                              source  \n",
       "0  \\\\ppeng.com\\pzdata\\clients\\Tranquillity ID-107...  \n",
       "1  \\\\ppeng.com\\pzdata\\clients\\Tranquillity ID-107...  "
      ]
     },
     "execution_count": 86,
     "metadata": {},
     "output_type": "execute_result"
    }
   ],
   "source": [
    "import geopandas as gpd\n",
    "points = dfs['TID_subsidence_points']\n",
    "points.head(2)"
   ]
  },
  {
   "cell_type": "code",
   "execution_count": 87,
   "metadata": {},
   "outputs": [
    {
     "data": {
      "text/html": [
       "<div>\n",
       "<style scoped>\n",
       "    .dataframe tbody tr th:only-of-type {\n",
       "        vertical-align: middle;\n",
       "    }\n",
       "\n",
       "    .dataframe tbody tr th {\n",
       "        vertical-align: top;\n",
       "    }\n",
       "\n",
       "    .dataframe thead th {\n",
       "        text-align: right;\n",
       "    }\n",
       "</style>\n",
       "<table border=\"1\" class=\"dataframe\">\n",
       "  <thead>\n",
       "    <tr style=\"text-align: right;\">\n",
       "      <th></th>\n",
       "      <th>index</th>\n",
       "      <th>point_id</th>\n",
       "      <th>date</th>\n",
       "      <th>elevation</th>\n",
       "      <th>source</th>\n",
       "    </tr>\n",
       "  </thead>\n",
       "  <tbody>\n",
       "    <tr>\n",
       "      <th>0</th>\n",
       "      <td>0</td>\n",
       "      <td>AG-20</td>\n",
       "      <td>2022-07-21</td>\n",
       "      <td>161.30</td>\n",
       "      <td>\\\\ppeng.com\\pzdata\\clients\\Tranquillity ID-107...</td>\n",
       "    </tr>\n",
       "    <tr>\n",
       "      <th>1</th>\n",
       "      <td>1</td>\n",
       "      <td>AG-24</td>\n",
       "      <td>2022-07-21</td>\n",
       "      <td>157.04</td>\n",
       "      <td>\\\\ppeng.com\\pzdata\\clients\\Tranquillity ID-107...</td>\n",
       "    </tr>\n",
       "  </tbody>\n",
       "</table>\n",
       "</div>"
      ],
      "text/plain": [
       "   index point_id       date  elevation  \\\n",
       "0      0    AG-20 2022-07-21     161.30   \n",
       "1      1    AG-24 2022-07-21     157.04   \n",
       "\n",
       "                                              source  \n",
       "0  \\\\ppeng.com\\pzdata\\clients\\Tranquillity ID-107...  \n",
       "1  \\\\ppeng.com\\pzdata\\clients\\Tranquillity ID-107...  "
      ]
     },
     "execution_count": 87,
     "metadata": {},
     "output_type": "execute_result"
    }
   ],
   "source": [
    "elevations = dfs['TID_subsidence_elevations']\n",
    "elevations.head(2)"
   ]
  },
  {
   "cell_type": "code",
   "execution_count": 91,
   "metadata": {},
   "outputs": [
    {
     "data": {
      "text/html": [
       "<div>\n",
       "<style scoped>\n",
       "    .dataframe tbody tr th:only-of-type {\n",
       "        vertical-align: middle;\n",
       "    }\n",
       "\n",
       "    .dataframe tbody tr th {\n",
       "        vertical-align: top;\n",
       "    }\n",
       "\n",
       "    .dataframe thead th {\n",
       "        text-align: right;\n",
       "    }\n",
       "</style>\n",
       "<table border=\"1\" class=\"dataframe\">\n",
       "  <thead>\n",
       "    <tr style=\"text-align: right;\">\n",
       "      <th></th>\n",
       "      <th>index_point</th>\n",
       "      <th>point_id</th>\n",
       "      <th>point_number</th>\n",
       "      <th>northing</th>\n",
       "      <th>easting</th>\n",
       "      <th>latitude</th>\n",
       "      <th>longitude</th>\n",
       "      <th>notes</th>\n",
       "      <th>source_point</th>\n",
       "      <th>index_elevation</th>\n",
       "      <th>date</th>\n",
       "      <th>elevation</th>\n",
       "      <th>source_elevation</th>\n",
       "    </tr>\n",
       "  </thead>\n",
       "  <tbody>\n",
       "    <tr>\n",
       "      <th>0</th>\n",
       "      <td>0</td>\n",
       "      <td>AG-20</td>\n",
       "      <td>107.0</td>\n",
       "      <td>2.117338e+06</td>\n",
       "      <td>6.200248e+06</td>\n",
       "      <td>36 38 13.287343 N</td>\n",
       "      <td>120 13 54.744731 W</td>\n",
       "      <td>FD_MAG_NAIL</td>\n",
       "      <td>\\\\ppeng.com\\pzdata\\clients\\Tranquillity ID-107...</td>\n",
       "      <td>0</td>\n",
       "      <td>2022-07-21</td>\n",
       "      <td>161.3000</td>\n",
       "      <td>\\\\ppeng.com\\pzdata\\clients\\Tranquillity ID-107...</td>\n",
       "    </tr>\n",
       "    <tr>\n",
       "      <th>1</th>\n",
       "      <td>0</td>\n",
       "      <td>AG-20</td>\n",
       "      <td>107.0</td>\n",
       "      <td>2.117338e+06</td>\n",
       "      <td>6.200248e+06</td>\n",
       "      <td>36 38 13.287343 N</td>\n",
       "      <td>120 13 54.744731 W</td>\n",
       "      <td>FD_MAG_NAIL</td>\n",
       "      <td>\\\\ppeng.com\\pzdata\\clients\\Tranquillity ID-107...</td>\n",
       "      <td>11</td>\n",
       "      <td>2022-01-04</td>\n",
       "      <td>161.3169</td>\n",
       "      <td>\\\\ppeng.com\\pzdata\\clients\\Tranquillity ID-107...</td>\n",
       "    </tr>\n",
       "  </tbody>\n",
       "</table>\n",
       "</div>"
      ],
      "text/plain": [
       "   index_point point_id  point_number      northing       easting  \\\n",
       "0            0    AG-20         107.0  2.117338e+06  6.200248e+06   \n",
       "1            0    AG-20         107.0  2.117338e+06  6.200248e+06   \n",
       "\n",
       "            latitude           longitude        notes  \\\n",
       "0  36 38 13.287343 N  120 13 54.744731 W  FD_MAG_NAIL   \n",
       "1  36 38 13.287343 N  120 13 54.744731 W  FD_MAG_NAIL   \n",
       "\n",
       "                                        source_point  index_elevation  \\\n",
       "0  \\\\ppeng.com\\pzdata\\clients\\Tranquillity ID-107...                0   \n",
       "1  \\\\ppeng.com\\pzdata\\clients\\Tranquillity ID-107...               11   \n",
       "\n",
       "        date  elevation                                   source_elevation  \n",
       "0 2022-07-21   161.3000  \\\\ppeng.com\\pzdata\\clients\\Tranquillity ID-107...  \n",
       "1 2022-01-04   161.3169  \\\\ppeng.com\\pzdata\\clients\\Tranquillity ID-107...  "
      ]
     },
     "execution_count": 91,
     "metadata": {},
     "output_type": "execute_result"
    }
   ],
   "source": [
    "df = pd.merge(\n",
    "\tpoints,\n",
    "\televations,\n",
    "\tleft_on=\"point_id\",\n",
    "\tright_on=\"point_id\",\n",
    "\thow='left',\n",
    "\tsuffixes=['_point',\"_elevation\"],\n",
    ")\n",
    "df.head(2)"
   ]
  },
  {
   "cell_type": "code",
   "execution_count": 92,
   "metadata": {},
   "outputs": [
    {
     "data": {
      "text/html": [
       "<div>\n",
       "<style scoped>\n",
       "    .dataframe tbody tr th:only-of-type {\n",
       "        vertical-align: middle;\n",
       "    }\n",
       "\n",
       "    .dataframe tbody tr th {\n",
       "        vertical-align: top;\n",
       "    }\n",
       "\n",
       "    .dataframe thead th {\n",
       "        text-align: right;\n",
       "    }\n",
       "</style>\n",
       "<table border=\"1\" class=\"dataframe\">\n",
       "  <thead>\n",
       "    <tr style=\"text-align: right;\">\n",
       "      <th></th>\n",
       "      <th>index_point</th>\n",
       "      <th>point_id</th>\n",
       "      <th>point_number</th>\n",
       "      <th>northing</th>\n",
       "      <th>easting</th>\n",
       "      <th>latitude</th>\n",
       "      <th>longitude</th>\n",
       "      <th>notes</th>\n",
       "      <th>source_point</th>\n",
       "      <th>index_elevation</th>\n",
       "      <th>date</th>\n",
       "      <th>elevation</th>\n",
       "      <th>source_elevation</th>\n",
       "      <th>lat</th>\n",
       "      <th>lon</th>\n",
       "    </tr>\n",
       "  </thead>\n",
       "  <tbody>\n",
       "    <tr>\n",
       "      <th>0</th>\n",
       "      <td>0</td>\n",
       "      <td>AG-20</td>\n",
       "      <td>107.0</td>\n",
       "      <td>2.117338e+06</td>\n",
       "      <td>6.200248e+06</td>\n",
       "      <td>36 38 13.287343 N</td>\n",
       "      <td>120 13 54.744731 W</td>\n",
       "      <td>FD_MAG_NAIL</td>\n",
       "      <td>\\\\ppeng.com\\pzdata\\clients\\Tranquillity ID-107...</td>\n",
       "      <td>0</td>\n",
       "      <td>2022-07-21</td>\n",
       "      <td>161.3000</td>\n",
       "      <td>\\\\ppeng.com\\pzdata\\clients\\Tranquillity ID-107...</td>\n",
       "      <td>36.637024</td>\n",
       "      <td>-120.231874</td>\n",
       "    </tr>\n",
       "    <tr>\n",
       "      <th>1</th>\n",
       "      <td>0</td>\n",
       "      <td>AG-20</td>\n",
       "      <td>107.0</td>\n",
       "      <td>2.117338e+06</td>\n",
       "      <td>6.200248e+06</td>\n",
       "      <td>36 38 13.287343 N</td>\n",
       "      <td>120 13 54.744731 W</td>\n",
       "      <td>FD_MAG_NAIL</td>\n",
       "      <td>\\\\ppeng.com\\pzdata\\clients\\Tranquillity ID-107...</td>\n",
       "      <td>11</td>\n",
       "      <td>2022-01-04</td>\n",
       "      <td>161.3169</td>\n",
       "      <td>\\\\ppeng.com\\pzdata\\clients\\Tranquillity ID-107...</td>\n",
       "      <td>36.637024</td>\n",
       "      <td>-120.231874</td>\n",
       "    </tr>\n",
       "  </tbody>\n",
       "</table>\n",
       "</div>"
      ],
      "text/plain": [
       "   index_point point_id  point_number      northing       easting  \\\n",
       "0            0    AG-20         107.0  2.117338e+06  6.200248e+06   \n",
       "1            0    AG-20         107.0  2.117338e+06  6.200248e+06   \n",
       "\n",
       "            latitude           longitude        notes  \\\n",
       "0  36 38 13.287343 N  120 13 54.744731 W  FD_MAG_NAIL   \n",
       "1  36 38 13.287343 N  120 13 54.744731 W  FD_MAG_NAIL   \n",
       "\n",
       "                                        source_point  index_elevation  \\\n",
       "0  \\\\ppeng.com\\pzdata\\clients\\Tranquillity ID-107...                0   \n",
       "1  \\\\ppeng.com\\pzdata\\clients\\Tranquillity ID-107...               11   \n",
       "\n",
       "        date  elevation                                   source_elevation  \\\n",
       "0 2022-07-21   161.3000  \\\\ppeng.com\\pzdata\\clients\\Tranquillity ID-107...   \n",
       "1 2022-01-04   161.3169  \\\\ppeng.com\\pzdata\\clients\\Tranquillity ID-107...   \n",
       "\n",
       "         lat         lon  \n",
       "0  36.637024 -120.231874  \n",
       "1  36.637024 -120.231874  "
      ]
     },
     "execution_count": 92,
     "metadata": {},
     "output_type": "execute_result"
    }
   ],
   "source": [
    "def to_decimal_degrees(coord):\n",
    "\tC = coord.split(' ')\n",
    "\n",
    "\tdecimal_degree = (float(C[0])) + (float(C[1]) / 60) + (float(C[2]) / 60 / 60)\n",
    "\tif C[3] == 'W':\n",
    "\t\treturn decimal_degree * -1\n",
    "\telse:\n",
    "\t\treturn decimal_degree\n",
    "coord = \"120 13 54.744731 W\"\n",
    "to_decimal_degrees(coord)\n",
    "\n",
    "df = df.assign(\n",
    "\tlat = lambda y: y.latitude.apply(to_decimal_degrees),\n",
    "\tlon = lambda y: y.longitude.apply(to_decimal_degrees),\n",
    ")\n",
    "df.head(2)"
   ]
  },
  {
   "cell_type": "code",
   "execution_count": 93,
   "metadata": {},
   "outputs": [],
   "source": [
    "# gdf = gpd.GeoDataFrame(df,geometry=gpd.points_from_xy(df.northing,df.easting,crs=\"EPSG:32610\"))\n",
    "gdf = gpd.GeoDataFrame(df,geometry=gpd.points_from_xy(\n",
    "\tdf.lon,\n",
    "\tdf.lat,\n",
    "\tcrs=\"EPSG:4326\"\n",
    "\t))\n"
   ]
  },
  {
   "cell_type": "code",
   "execution_count": 95,
   "metadata": {},
   "outputs": [],
   "source": [
    "\n",
    "# gdf.explore(\n",
    "# \ttooltip = ['point_id'],\n",
    "# \tmarker_kwds = dict(radius=10)\n",
    "# )\n"
   ]
  },
  {
   "cell_type": "code",
   "execution_count": 98,
   "metadata": {},
   "outputs": [
    {
     "data": {
      "text/html": [
       "<div>\n",
       "<style scoped>\n",
       "    .dataframe tbody tr th:only-of-type {\n",
       "        vertical-align: middle;\n",
       "    }\n",
       "\n",
       "    .dataframe tbody tr th {\n",
       "        vertical-align: top;\n",
       "    }\n",
       "\n",
       "    .dataframe thead th {\n",
       "        text-align: right;\n",
       "    }\n",
       "</style>\n",
       "<table border=\"1\" class=\"dataframe\">\n",
       "  <thead>\n",
       "    <tr style=\"text-align: right;\">\n",
       "      <th></th>\n",
       "      <th>index_point</th>\n",
       "      <th>point_id</th>\n",
       "      <th>point_number</th>\n",
       "      <th>northing</th>\n",
       "      <th>easting</th>\n",
       "      <th>latitude</th>\n",
       "      <th>longitude</th>\n",
       "      <th>notes</th>\n",
       "      <th>source_point</th>\n",
       "      <th>index_elevation</th>\n",
       "      <th>date</th>\n",
       "      <th>elevation</th>\n",
       "      <th>source_elevation</th>\n",
       "      <th>lat</th>\n",
       "      <th>lon</th>\n",
       "      <th>geometry</th>\n",
       "    </tr>\n",
       "  </thead>\n",
       "  <tbody>\n",
       "    <tr>\n",
       "      <th>0</th>\n",
       "      <td>0</td>\n",
       "      <td>AG-20</td>\n",
       "      <td>107.0</td>\n",
       "      <td>2.117338e+06</td>\n",
       "      <td>6.200248e+06</td>\n",
       "      <td>36 38 13.287343 N</td>\n",
       "      <td>120 13 54.744731 W</td>\n",
       "      <td>FD_MAG_NAIL</td>\n",
       "      <td>\\\\ppeng.com\\pzdata\\clients\\Tranquillity ID-107...</td>\n",
       "      <td>0</td>\n",
       "      <td>2022-07-21</td>\n",
       "      <td>161.3000</td>\n",
       "      <td>\\\\ppeng.com\\pzdata\\clients\\Tranquillity ID-107...</td>\n",
       "      <td>36.637024</td>\n",
       "      <td>-120.231874</td>\n",
       "      <td>POINT (-120.23187 36.63702)</td>\n",
       "    </tr>\n",
       "    <tr>\n",
       "      <th>1</th>\n",
       "      <td>0</td>\n",
       "      <td>AG-20</td>\n",
       "      <td>107.0</td>\n",
       "      <td>2.117338e+06</td>\n",
       "      <td>6.200248e+06</td>\n",
       "      <td>36 38 13.287343 N</td>\n",
       "      <td>120 13 54.744731 W</td>\n",
       "      <td>FD_MAG_NAIL</td>\n",
       "      <td>\\\\ppeng.com\\pzdata\\clients\\Tranquillity ID-107...</td>\n",
       "      <td>11</td>\n",
       "      <td>2022-01-04</td>\n",
       "      <td>161.3169</td>\n",
       "      <td>\\\\ppeng.com\\pzdata\\clients\\Tranquillity ID-107...</td>\n",
       "      <td>36.637024</td>\n",
       "      <td>-120.231874</td>\n",
       "      <td>POINT (-120.23187 36.63702)</td>\n",
       "    </tr>\n",
       "  </tbody>\n",
       "</table>\n",
       "</div>"
      ],
      "text/plain": [
       "   index_point point_id  point_number      northing       easting  \\\n",
       "0            0    AG-20         107.0  2.117338e+06  6.200248e+06   \n",
       "1            0    AG-20         107.0  2.117338e+06  6.200248e+06   \n",
       "\n",
       "            latitude           longitude        notes  \\\n",
       "0  36 38 13.287343 N  120 13 54.744731 W  FD_MAG_NAIL   \n",
       "1  36 38 13.287343 N  120 13 54.744731 W  FD_MAG_NAIL   \n",
       "\n",
       "                                        source_point  index_elevation  \\\n",
       "0  \\\\ppeng.com\\pzdata\\clients\\Tranquillity ID-107...                0   \n",
       "1  \\\\ppeng.com\\pzdata\\clients\\Tranquillity ID-107...               11   \n",
       "\n",
       "        date  elevation                                   source_elevation  \\\n",
       "0 2022-07-21   161.3000  \\\\ppeng.com\\pzdata\\clients\\Tranquillity ID-107...   \n",
       "1 2022-01-04   161.3169  \\\\ppeng.com\\pzdata\\clients\\Tranquillity ID-107...   \n",
       "\n",
       "         lat         lon                     geometry  \n",
       "0  36.637024 -120.231874  POINT (-120.23187 36.63702)  \n",
       "1  36.637024 -120.231874  POINT (-120.23187 36.63702)  "
      ]
     },
     "execution_count": 98,
     "metadata": {},
     "output_type": "execute_result"
    }
   ],
   "source": [
    "gdf.head(2)"
   ]
  },
  {
   "cell_type": "code",
   "execution_count": 102,
   "metadata": {},
   "outputs": [
    {
     "name": "stdout",
     "output_type": "stream",
     "text": [
      "The folium plotting backend does not support this function.\n"
     ]
    },
    {
     "data": {
      "text/html": [
       "<iframe srcdoc=\"&lt;!DOCTYPE html&gt;\n",
       "&lt;html&gt;\n",
       "&lt;head&gt;\n",
       "    \n",
       "    &lt;meta http-equiv=&quot;content-type&quot; content=&quot;text/html; charset=UTF-8&quot; /&gt;\n",
       "    \n",
       "        &lt;script&gt;\n",
       "            L_NO_TOUCH = false;\n",
       "            L_DISABLE_3D = false;\n",
       "        &lt;/script&gt;\n",
       "    \n",
       "    &lt;style&gt;html, body {width: 100%;height: 100%;margin: 0;padding: 0;}&lt;/style&gt;\n",
       "    &lt;style&gt;#map {position:absolute;top:0;bottom:0;right:0;left:0;}&lt;/style&gt;\n",
       "    &lt;script src=&quot;https://cdn.jsdelivr.net/npm/leaflet@1.6.0/dist/leaflet.js&quot;&gt;&lt;/script&gt;\n",
       "    &lt;script src=&quot;https://code.jquery.com/jquery-1.12.4.min.js&quot;&gt;&lt;/script&gt;\n",
       "    &lt;script src=&quot;https://maxcdn.bootstrapcdn.com/bootstrap/3.2.0/js/bootstrap.min.js&quot;&gt;&lt;/script&gt;\n",
       "    &lt;script src=&quot;https://cdnjs.cloudflare.com/ajax/libs/Leaflet.awesome-markers/2.0.2/leaflet.awesome-markers.js&quot;&gt;&lt;/script&gt;\n",
       "    &lt;link rel=&quot;stylesheet&quot; href=&quot;https://cdn.jsdelivr.net/npm/leaflet@1.6.0/dist/leaflet.css&quot;/&gt;\n",
       "    &lt;link rel=&quot;stylesheet&quot; href=&quot;https://maxcdn.bootstrapcdn.com/bootstrap/3.2.0/css/bootstrap.min.css&quot;/&gt;\n",
       "    &lt;link rel=&quot;stylesheet&quot; href=&quot;https://maxcdn.bootstrapcdn.com/bootstrap/3.2.0/css/bootstrap-theme.min.css&quot;/&gt;\n",
       "    &lt;link rel=&quot;stylesheet&quot; href=&quot;https://maxcdn.bootstrapcdn.com/font-awesome/4.6.3/css/font-awesome.min.css&quot;/&gt;\n",
       "    &lt;link rel=&quot;stylesheet&quot; href=&quot;https://cdnjs.cloudflare.com/ajax/libs/Leaflet.awesome-markers/2.0.2/leaflet.awesome-markers.css&quot;/&gt;\n",
       "    &lt;link rel=&quot;stylesheet&quot; href=&quot;https://cdn.jsdelivr.net/gh/python-visualization/folium/folium/templates/leaflet.awesome.rotate.min.css&quot;/&gt;\n",
       "    \n",
       "            &lt;meta name=&quot;viewport&quot; content=&quot;width=device-width,\n",
       "                initial-scale=1.0, maximum-scale=1.0, user-scalable=no&quot; /&gt;\n",
       "            &lt;style&gt;\n",
       "                #map_d79f5d66f12923d688667ddd26def65c {\n",
       "                    position: relative;\n",
       "                    width: 100.0%;\n",
       "                    height: 100.0%;\n",
       "                    left: 0.0%;\n",
       "                    top: 0.0%;\n",
       "                }\n",
       "            &lt;/style&gt;\n",
       "        \n",
       "    &lt;script src=&quot;https://cdnjs.cloudflare.com/ajax/libs/leaflet.fullscreen/1.4.2/Control.FullScreen.min.js&quot;&gt;&lt;/script&gt;\n",
       "    &lt;link rel=&quot;stylesheet&quot; href=&quot;https://cdnjs.cloudflare.com/ajax/libs/leaflet.fullscreen/1.4.2/Control.FullScreen.min.css&quot;/&gt;\n",
       "    &lt;script src=&quot;https://cdnjs.cloudflare.com/ajax/libs/leaflet.draw/1.0.2/leaflet.draw.js&quot;&gt;&lt;/script&gt;\n",
       "    &lt;link rel=&quot;stylesheet&quot; href=&quot;https://cdnjs.cloudflare.com/ajax/libs/leaflet.draw/1.0.2/leaflet.draw.css&quot;/&gt;\n",
       "    &lt;script src=&quot;https://cdn.jsdelivr.net/gh/ljagis/leaflet-measure@2.1.7/dist/leaflet-measure.min.js&quot;&gt;&lt;/script&gt;\n",
       "    &lt;link rel=&quot;stylesheet&quot; href=&quot;https://cdn.jsdelivr.net/gh/ljagis/leaflet-measure@2.1.7/dist/leaflet-measure.min.css&quot;/&gt;\n",
       "    &lt;script src=&quot;https://unpkg.com/leaflet-control-geocoder/dist/Control.Geocoder.js&quot;&gt;&lt;/script&gt;\n",
       "    &lt;link rel=&quot;stylesheet&quot; href=&quot;https://unpkg.com/leaflet-control-geocoder/dist/Control.Geocoder.css&quot;/&gt;\n",
       "    \n",
       "                    &lt;style&gt;\n",
       "                        .foliumtooltip {\n",
       "                            \n",
       "                        }\n",
       "                       .foliumtooltip table{\n",
       "                            margin: auto;\n",
       "                        }\n",
       "                        .foliumtooltip tr{\n",
       "                            text-align: left;\n",
       "                        }\n",
       "                        .foliumtooltip th{\n",
       "                            padding: 2px; padding-right: 8px;\n",
       "                        }\n",
       "                    &lt;/style&gt;\n",
       "            \n",
       "&lt;/head&gt;\n",
       "&lt;body&gt;\n",
       "    \n",
       "    \n",
       "            &lt;div class=&quot;folium-map&quot; id=&quot;map_d79f5d66f12923d688667ddd26def65c&quot; &gt;&lt;/div&gt;\n",
       "        \n",
       "&lt;/body&gt;\n",
       "&lt;script&gt;\n",
       "    \n",
       "    \n",
       "            var map_d79f5d66f12923d688667ddd26def65c = L.map(\n",
       "                &quot;map_d79f5d66f12923d688667ddd26def65c&quot;,\n",
       "                {\n",
       "                    center: [20.0, 0.0],\n",
       "                    crs: L.CRS.EPSG3857,\n",
       "                    zoom: 2,\n",
       "                    zoomControl: true,\n",
       "                    preferCanvas: false,\n",
       "                    drawExport: false,\n",
       "                    layersControl: true,\n",
       "                }\n",
       "            );\n",
       "            L.control.scale().addTo(map_d79f5d66f12923d688667ddd26def65c);\n",
       "\n",
       "            \n",
       "\n",
       "        \n",
       "    \n",
       "            var tile_layer_cd30403b29fa4356f81a7f101446d43e = L.tileLayer(\n",
       "                &quot;https://{s}.tile.openstreetmap.org/{z}/{x}/{y}.png&quot;,\n",
       "                {&quot;attribution&quot;: &quot;Data by \\u0026copy; \\u003ca href=\\&quot;http://openstreetmap.org\\&quot;\\u003eOpenStreetMap\\u003c/a\\u003e, under \\u003ca href=\\&quot;http://www.openstreetmap.org/copyright\\&quot;\\u003eODbL\\u003c/a\\u003e.&quot;, &quot;detectRetina&quot;: false, &quot;maxNativeZoom&quot;: 24, &quot;maxZoom&quot;: 24, &quot;minZoom&quot;: 0, &quot;noWrap&quot;: false, &quot;opacity&quot;: 1, &quot;subdomains&quot;: &quot;abc&quot;, &quot;tms&quot;: false}\n",
       "            ).addTo(map_d79f5d66f12923d688667ddd26def65c);\n",
       "        \n",
       "    \n",
       "            L.control.fullscreen(\n",
       "                {&quot;forceSeparateButton&quot;: false, &quot;position&quot;: &quot;topleft&quot;, &quot;title&quot;: &quot;Full Screen&quot;, &quot;titleCancel&quot;: &quot;Exit Full Screen&quot;}\n",
       "            ).addTo(map_d79f5d66f12923d688667ddd26def65c);\n",
       "        \n",
       "    \n",
       "            var options = {\n",
       "              position: &quot;topleft&quot;,\n",
       "              draw: {},\n",
       "              edit: {},\n",
       "            }\n",
       "            // FeatureGroup is to store editable layers.\n",
       "            var drawnItems = new L.featureGroup().addTo(\n",
       "                map_d79f5d66f12923d688667ddd26def65c\n",
       "            );\n",
       "            options.edit.featureGroup = drawnItems;\n",
       "            var draw_control_9c868b04c51a1883bd21dc2967798593 = new L.Control.Draw(\n",
       "                options\n",
       "            ).addTo( map_d79f5d66f12923d688667ddd26def65c );\n",
       "            map_d79f5d66f12923d688667ddd26def65c.on(L.Draw.Event.CREATED, function(e) {\n",
       "                var layer = e.layer,\n",
       "                    type = e.layerType;\n",
       "                var coords = JSON.stringify(layer.toGeoJSON());\n",
       "                layer.on(&#x27;click&#x27;, function() {\n",
       "                    alert(coords);\n",
       "                    console.log(coords);\n",
       "                });\n",
       "                drawnItems.addLayer(layer);\n",
       "             });\n",
       "            map_d79f5d66f12923d688667ddd26def65c.on(&#x27;draw:created&#x27;, function(e) {\n",
       "                drawnItems.addLayer(e.layer);\n",
       "            });\n",
       "            \n",
       "        \n",
       "    \n",
       "            var measure_control_28817ec972f54a049c4d8183b82da49d = new L.Control.Measure(\n",
       "                {&quot;position&quot;: &quot;bottomleft&quot;, &quot;primaryAreaUnit&quot;: &quot;sqmeters&quot;, &quot;primaryLengthUnit&quot;: &quot;meters&quot;, &quot;secondaryAreaUnit&quot;: &quot;acres&quot;, &quot;secondaryLengthUnit&quot;: &quot;miles&quot;});\n",
       "            map_d79f5d66f12923d688667ddd26def65c.addControl(measure_control_28817ec972f54a049c4d8183b82da49d);\n",
       "\n",
       "        \n",
       "    \n",
       "            L.Control.geocoder(\n",
       "                {&quot;collapsed&quot;: true, &quot;defaultMarkGeocode&quot;: true, &quot;position&quot;: &quot;topleft&quot;}\n",
       "            ).on(&#x27;markgeocode&#x27;, function(e) {\n",
       "                map_d79f5d66f12923d688667ddd26def65c.setView(e.geocode.center, 11);\n",
       "            }).addTo(map_d79f5d66f12923d688667ddd26def65c);\n",
       "\n",
       "        \n",
       "    \n",
       "            map_d79f5d66f12923d688667ddd26def65c.fitBounds(\n",
       "                [[20, 0], [20, 0]],\n",
       "                {&quot;maxZoom&quot;: 2}\n",
       "            );\n",
       "        \n",
       "    \n",
       "        function geo_json_9bf69f528fcddce7949dcd47c3c744dd_styler(feature) {\n",
       "            switch(feature.id) {\n",
       "                default:\n",
       "                    return {&quot;color&quot;: &quot;#000000&quot;, &quot;fillOpacity&quot;: 0.1, &quot;opacity&quot;: 1, &quot;weight&quot;: 1};\n",
       "            }\n",
       "        }\n",
       "        function geo_json_9bf69f528fcddce7949dcd47c3c744dd_highlighter(feature) {\n",
       "            switch(feature.id) {\n",
       "                default:\n",
       "                    return {&quot;fillOpacity&quot;: 0.5, &quot;weight&quot;: 2};\n",
       "            }\n",
       "        }\n",
       "\n",
       "        function geo_json_9bf69f528fcddce7949dcd47c3c744dd_onEachFeature(feature, layer) {\n",
       "            layer.on({\n",
       "                mouseout: function(e) {\n",
       "                    if(typeof e.target.setStyle === &quot;function&quot;){\n",
       "                        geo_json_9bf69f528fcddce7949dcd47c3c744dd.resetStyle(e.target);\n",
       "                    }\n",
       "                },\n",
       "                mouseover: function(e) {\n",
       "                    if(typeof e.target.setStyle === &quot;function&quot;){\n",
       "                        const highlightStyle = geo_json_9bf69f528fcddce7949dcd47c3c744dd_highlighter(e.target.feature)\n",
       "                        e.target.setStyle(highlightStyle);\n",
       "                    }\n",
       "                },\n",
       "            });\n",
       "        };\n",
       "        var geo_json_9bf69f528fcddce7949dcd47c3c744dd = L.geoJson(null, {\n",
       "                onEachFeature: geo_json_9bf69f528fcddce7949dcd47c3c744dd_onEachFeature,\n",
       "            \n",
       "                style: geo_json_9bf69f528fcddce7949dcd47c3c744dd_styler,\n",
       "        });\n",
       "\n",
       "        function geo_json_9bf69f528fcddce7949dcd47c3c744dd_add (data) {\n",
       "            geo_json_9bf69f528fcddce7949dcd47c3c744dd\n",
       "                .addData(data)\n",
       "                .addTo(map_d79f5d66f12923d688667ddd26def65c);\n",
       "        }\n",
       "            geo_json_9bf69f528fcddce7949dcd47c3c744dd_add({&quot;bbox&quot;: [-120.31783753361111, 36.589257136111115, -120.16262884555556, 36.67599903638889], &quot;features&quot;: [{&quot;bbox&quot;: [-120.23187353638889, 36.63702426194445, -120.23187353638889, 36.63702426194445], &quot;geometry&quot;: {&quot;coordinates&quot;: [-120.23187353638889, 36.63702426194445], &quot;type&quot;: &quot;Point&quot;}, &quot;id&quot;: &quot;0&quot;, &quot;properties&quot;: {&quot;easting&quot;: 6200248.1447, &quot;elevation&quot;: 161.3, &quot;index_elevation&quot;: 0, &quot;index_point&quot;: 0, &quot;lat&quot;: 36.63702426194445, &quot;latitude&quot;: &quot;36 38 13.287343 N&quot;, &quot;lon&quot;: -120.23187353638889, &quot;longitude&quot;: &quot;120 13 54.744731 W&quot;, &quot;northing&quot;: 2117337.9832, &quot;notes&quot;: &quot;FD_MAG_NAIL&quot;, &quot;point_id&quot;: &quot;AG-20&quot;, &quot;point_number&quot;: 107.0, &quot;source_elevation&quot;: &quot;\\\\\\\\ppeng.com\\\\pzdata\\\\clients\\\\Tranquillity ID-1075\\\\Ongoing-1075\\\\140-District Boundaries\\\\146 Benchmarks - GPS Control\\\\2013-01 Control-Well Survey\\\\2022-07\\\\2022July-2013Elevation_comparison.xls&quot;, &quot;source_point&quot;: &quot;\\\\\\\\ppeng.com\\\\pzdata\\\\clients\\\\Tranquillity ID-1075\\\\Ongoing-1075\\\\140-District Boundaries\\\\146 Benchmarks - GPS Control\\\\2013-01 Control-Well Survey\\\\2022-07\\\\2022July-2013Elevation_comparison.xls&quot;}, &quot;type&quot;: &quot;Feature&quot;}, {&quot;bbox&quot;: [-120.23187353638889, 36.63702426194445, -120.23187353638889, 36.63702426194445], &quot;geometry&quot;: {&quot;coordinates&quot;: [-120.23187353638889, 36.63702426194445], &quot;type&quot;: &quot;Point&quot;}, &quot;id&quot;: &quot;1&quot;, &quot;properties&quot;: {&quot;easting&quot;: 6200248.1447, &quot;elevation&quot;: 161.3169, &quot;index_elevation&quot;: 11, &quot;index_point&quot;: 0, &quot;lat&quot;: 36.63702426194445, &quot;latitude&quot;: &quot;36 38 13.287343 N&quot;, &quot;lon&quot;: -120.23187353638889, &quot;longitude&quot;: &quot;120 13 54.744731 W&quot;, &quot;northing&quot;: 2117337.9832, &quot;notes&quot;: &quot;FD_MAG_NAIL&quot;, &quot;point_id&quot;: &quot;AG-20&quot;, &quot;point_number&quot;: 107.0, &quot;source_elevation&quot;: &quot;\\\\\\\\ppeng.com\\\\pzdata\\\\clients\\\\Tranquillity ID-1075\\\\Ongoing-1075\\\\140-District Boundaries\\\\146 Benchmarks - GPS Control\\\\2013-01 Control-Well Survey\\\\2022-07\\\\2022July-2013Elevation_comparison.xls&quot;, &quot;source_point&quot;: &quot;\\\\\\\\ppeng.com\\\\pzdata\\\\clients\\\\Tranquillity ID-1075\\\\Ongoing-1075\\\\140-District Boundaries\\\\146 Benchmarks - GPS Control\\\\2013-01 Control-Well Survey\\\\2022-07\\\\2022July-2013Elevation_comparison.xls&quot;}, &quot;type&quot;: &quot;Feature&quot;}, {&quot;bbox&quot;: [-120.23187353638889, 36.63702426194445, -120.23187353638889, 36.63702426194445], &quot;geometry&quot;: {&quot;coordinates&quot;: [-120.23187353638889, 36.63702426194445], &quot;type&quot;: &quot;Point&quot;}, &quot;id&quot;: &quot;2&quot;, &quot;properties&quot;: {&quot;easting&quot;: 6200248.1447, &quot;elevation&quot;: 161.38, &quot;index_elevation&quot;: 22, &quot;index_point&quot;: 0, &quot;lat&quot;: 36.63702426194445, &quot;latitude&quot;: &quot;36 38 13.287343 N&quot;, &quot;lon&quot;: -120.23187353638889, &quot;longitude&quot;: &quot;120 13 54.744731 W&quot;, &quot;northing&quot;: 2117337.9832, &quot;notes&quot;: &quot;FD_MAG_NAIL&quot;, &quot;point_id&quot;: &quot;AG-20&quot;, &quot;point_number&quot;: 107.0, &quot;source_elevation&quot;: &quot;\\\\\\\\ppeng.com\\\\pzdata\\\\clients\\\\Tranquillity ID-1075\\\\Ongoing-1075\\\\140-District Boundaries\\\\146 Benchmarks - GPS Control\\\\2013-01 Control-Well Survey\\\\2022-07\\\\2022July-2013Elevation_comparison.xls&quot;, &quot;source_point&quot;: &quot;\\\\\\\\ppeng.com\\\\pzdata\\\\clients\\\\Tranquillity ID-1075\\\\Ongoing-1075\\\\140-District Boundaries\\\\146 Benchmarks - GPS Control\\\\2013-01 Control-Well Survey\\\\2022-07\\\\2022July-2013Elevation_comparison.xls&quot;}, &quot;type&quot;: &quot;Feature&quot;}, {&quot;bbox&quot;: [-120.23187353638889, 36.63702426194445, -120.23187353638889, 36.63702426194445], &quot;geometry&quot;: {&quot;coordinates&quot;: [-120.23187353638889, 36.63702426194445], &quot;type&quot;: &quot;Point&quot;}, &quot;id&quot;: &quot;3&quot;, &quot;properties&quot;: {&quot;easting&quot;: 6200248.1447, &quot;elevation&quot;: 161.5, &quot;index_elevation&quot;: 33, &quot;index_point&quot;: 0, &quot;lat&quot;: 36.63702426194445, &quot;latitude&quot;: &quot;36 38 13.287343 N&quot;, &quot;lon&quot;: -120.23187353638889, &quot;longitude&quot;: &quot;120 13 54.744731 W&quot;, &quot;northing&quot;: 2117337.9832, &quot;notes&quot;: &quot;FD_MAG_NAIL&quot;, &quot;point_id&quot;: &quot;AG-20&quot;, &quot;point_number&quot;: 107.0, &quot;source_elevation&quot;: &quot;\\\\\\\\ppeng.com\\\\pzdata\\\\clients\\\\Tranquillity ID-1075\\\\Ongoing-1075\\\\140-District Boundaries\\\\146 Benchmarks - GPS Control\\\\2013-01 Control-Well Survey\\\\2022-07\\\\2022July-2013Elevation_comparison.xls&quot;, &quot;source_point&quot;: &quot;\\\\\\\\ppeng.com\\\\pzdata\\\\clients\\\\Tranquillity ID-1075\\\\Ongoing-1075\\\\140-District Boundaries\\\\146 Benchmarks - GPS Control\\\\2013-01 Control-Well Survey\\\\2022-07\\\\2022July-2013Elevation_comparison.xls&quot;}, &quot;type&quot;: &quot;Feature&quot;}, {&quot;bbox&quot;: [-120.23187353638889, 36.63702426194445, -120.23187353638889, 36.63702426194445], &quot;geometry&quot;: {&quot;coordinates&quot;: [-120.23187353638889, 36.63702426194445], &quot;type&quot;: &quot;Point&quot;}, &quot;id&quot;: &quot;4&quot;, &quot;properties&quot;: {&quot;easting&quot;: 6200248.1447, &quot;elevation&quot;: 161.672, &quot;index_elevation&quot;: 44, &quot;index_point&quot;: 0, &quot;lat&quot;: 36.63702426194445, &quot;latitude&quot;: &quot;36 38 13.287343 N&quot;, &quot;lon&quot;: -120.23187353638889, &quot;longitude&quot;: &quot;120 13 54.744731 W&quot;, &quot;northing&quot;: 2117337.9832, &quot;notes&quot;: &quot;FD_MAG_NAIL&quot;, &quot;point_id&quot;: &quot;AG-20&quot;, &quot;point_number&quot;: 107.0, &quot;source_elevation&quot;: &quot;\\\\\\\\ppeng.com\\\\pzdata\\\\clients\\\\Tranquillity ID-1075\\\\Ongoing-1075\\\\140-District Boundaries\\\\146 Benchmarks - GPS Control\\\\2013-01 Control-Well Survey\\\\2022-07\\\\2022July-2013Elevation_comparison.xls&quot;, &quot;source_point&quot;: &quot;\\\\\\\\ppeng.com\\\\pzdata\\\\clients\\\\Tranquillity ID-1075\\\\Ongoing-1075\\\\140-District Boundaries\\\\146 Benchmarks - GPS Control\\\\2013-01 Control-Well Survey\\\\2022-07\\\\2022July-2013Elevation_comparison.xls&quot;}, &quot;type&quot;: &quot;Feature&quot;}, {&quot;bbox&quot;: [-120.23187353638889, 36.63702426194445, -120.23187353638889, 36.63702426194445], &quot;geometry&quot;: {&quot;coordinates&quot;: [-120.23187353638889, 36.63702426194445], &quot;type&quot;: &quot;Point&quot;}, &quot;id&quot;: &quot;5&quot;, &quot;properties&quot;: {&quot;easting&quot;: 6200248.1447, &quot;elevation&quot;: 161.69, &quot;index_elevation&quot;: 55, &quot;index_point&quot;: 0, &quot;lat&quot;: 36.63702426194445, &quot;latitude&quot;: &quot;36 38 13.287343 N&quot;, &quot;lon&quot;: -120.23187353638889, &quot;longitude&quot;: &quot;120 13 54.744731 W&quot;, &quot;northing&quot;: 2117337.9832, &quot;notes&quot;: &quot;FD_MAG_NAIL&quot;, &quot;point_id&quot;: &quot;AG-20&quot;, &quot;point_number&quot;: 107.0, &quot;source_elevation&quot;: &quot;\\\\\\\\ppeng.com\\\\pzdata\\\\clients\\\\Tranquillity ID-1075\\\\Ongoing-1075\\\\140-District Boundaries\\\\146 Benchmarks - GPS Control\\\\2013-01 Control-Well Survey\\\\2022-07\\\\2022July-2013Elevation_comparison.xls&quot;, &quot;source_point&quot;: &quot;\\\\\\\\ppeng.com\\\\pzdata\\\\clients\\\\Tranquillity ID-1075\\\\Ongoing-1075\\\\140-District Boundaries\\\\146 Benchmarks - GPS Control\\\\2013-01 Control-Well Survey\\\\2022-07\\\\2022July-2013Elevation_comparison.xls&quot;}, &quot;type&quot;: &quot;Feature&quot;}, {&quot;bbox&quot;: [-120.23187353638889, 36.63702426194445, -120.23187353638889, 36.63702426194445], &quot;geometry&quot;: {&quot;coordinates&quot;: [-120.23187353638889, 36.63702426194445], &quot;type&quot;: &quot;Point&quot;}, &quot;id&quot;: &quot;6&quot;, &quot;properties&quot;: {&quot;easting&quot;: 6200248.1447, &quot;elevation&quot;: 161.73, &quot;index_elevation&quot;: 66, &quot;index_point&quot;: 0, &quot;lat&quot;: 36.63702426194445, &quot;latitude&quot;: &quot;36 38 13.287343 N&quot;, &quot;lon&quot;: -120.23187353638889, &quot;longitude&quot;: &quot;120 13 54.744731 W&quot;, &quot;northing&quot;: 2117337.9832, &quot;notes&quot;: &quot;FD_MAG_NAIL&quot;, &quot;point_id&quot;: &quot;AG-20&quot;, &quot;point_number&quot;: 107.0, &quot;source_elevation&quot;: &quot;\\\\\\\\ppeng.com\\\\pzdata\\\\clients\\\\Tranquillity ID-1075\\\\Ongoing-1075\\\\140-District Boundaries\\\\146 Benchmarks - GPS Control\\\\2013-01 Control-Well Survey\\\\2022-07\\\\2022July-2013Elevation_comparison.xls&quot;, &quot;source_point&quot;: &quot;\\\\\\\\ppeng.com\\\\pzdata\\\\clients\\\\Tranquillity ID-1075\\\\Ongoing-1075\\\\140-District Boundaries\\\\146 Benchmarks - GPS Control\\\\2013-01 Control-Well Survey\\\\2022-07\\\\2022July-2013Elevation_comparison.xls&quot;}, &quot;type&quot;: &quot;Feature&quot;}, {&quot;bbox&quot;: [-120.23187353638889, 36.63702426194445, -120.23187353638889, 36.63702426194445], &quot;geometry&quot;: {&quot;coordinates&quot;: [-120.23187353638889, 36.63702426194445], &quot;type&quot;: &quot;Point&quot;}, &quot;id&quot;: &quot;7&quot;, &quot;properties&quot;: {&quot;easting&quot;: 6200248.1447, &quot;elevation&quot;: 161.67, &quot;index_elevation&quot;: 77, &quot;index_point&quot;: 0, &quot;lat&quot;: 36.63702426194445, &quot;latitude&quot;: &quot;36 38 13.287343 N&quot;, &quot;lon&quot;: -120.23187353638889, &quot;longitude&quot;: &quot;120 13 54.744731 W&quot;, &quot;northing&quot;: 2117337.9832, &quot;notes&quot;: &quot;FD_MAG_NAIL&quot;, &quot;point_id&quot;: &quot;AG-20&quot;, &quot;point_number&quot;: 107.0, &quot;source_elevation&quot;: &quot;\\\\\\\\ppeng.com\\\\pzdata\\\\clients\\\\Tranquillity ID-1075\\\\Ongoing-1075\\\\140-District Boundaries\\\\146 Benchmarks - GPS Control\\\\2013-01 Control-Well Survey\\\\2022-07\\\\2022July-2013Elevation_comparison.xls&quot;, &quot;source_point&quot;: &quot;\\\\\\\\ppeng.com\\\\pzdata\\\\clients\\\\Tranquillity ID-1075\\\\Ongoing-1075\\\\140-District Boundaries\\\\146 Benchmarks - GPS Control\\\\2013-01 Control-Well Survey\\\\2022-07\\\\2022July-2013Elevation_comparison.xls&quot;}, &quot;type&quot;: &quot;Feature&quot;}, {&quot;bbox&quot;: [-120.23187353638889, 36.63702426194445, -120.23187353638889, 36.63702426194445], &quot;geometry&quot;: {&quot;coordinates&quot;: [-120.23187353638889, 36.63702426194445], &quot;type&quot;: &quot;Point&quot;}, &quot;id&quot;: &quot;8&quot;, &quot;properties&quot;: {&quot;easting&quot;: 6200248.1447, &quot;elevation&quot;: 161.81, &quot;index_elevation&quot;: 88, &quot;index_point&quot;: 0, &quot;lat&quot;: 36.63702426194445, &quot;latitude&quot;: &quot;36 38 13.287343 N&quot;, &quot;lon&quot;: -120.23187353638889, &quot;longitude&quot;: &quot;120 13 54.744731 W&quot;, &quot;northing&quot;: 2117337.9832, &quot;notes&quot;: &quot;FD_MAG_NAIL&quot;, &quot;point_id&quot;: &quot;AG-20&quot;, &quot;point_number&quot;: 107.0, &quot;source_elevation&quot;: &quot;\\\\\\\\ppeng.com\\\\pzdata\\\\clients\\\\Tranquillity ID-1075\\\\Ongoing-1075\\\\140-District Boundaries\\\\146 Benchmarks - GPS Control\\\\2013-01 Control-Well Survey\\\\2022-07\\\\2022July-2013Elevation_comparison.xls&quot;, &quot;source_point&quot;: &quot;\\\\\\\\ppeng.com\\\\pzdata\\\\clients\\\\Tranquillity ID-1075\\\\Ongoing-1075\\\\140-District Boundaries\\\\146 Benchmarks - GPS Control\\\\2013-01 Control-Well Survey\\\\2022-07\\\\2022July-2013Elevation_comparison.xls&quot;}, &quot;type&quot;: &quot;Feature&quot;}, {&quot;bbox&quot;: [-120.23187353638889, 36.63702426194445, -120.23187353638889, 36.63702426194445], &quot;geometry&quot;: {&quot;coordinates&quot;: [-120.23187353638889, 36.63702426194445], &quot;type&quot;: &quot;Point&quot;}, &quot;id&quot;: &quot;9&quot;, &quot;properties&quot;: {&quot;easting&quot;: 6200248.1447, &quot;elevation&quot;: 161.75, &quot;index_elevation&quot;: 99, &quot;index_point&quot;: 0, &quot;lat&quot;: 36.63702426194445, &quot;latitude&quot;: &quot;36 38 13.287343 N&quot;, &quot;lon&quot;: -120.23187353638889, &quot;longitude&quot;: &quot;120 13 54.744731 W&quot;, &quot;northing&quot;: 2117337.9832, &quot;notes&quot;: &quot;FD_MAG_NAIL&quot;, &quot;point_id&quot;: &quot;AG-20&quot;, &quot;point_number&quot;: 107.0, &quot;source_elevation&quot;: &quot;\\\\\\\\ppeng.com\\\\pzdata\\\\clients\\\\Tranquillity ID-1075\\\\Ongoing-1075\\\\140-District Boundaries\\\\146 Benchmarks - GPS Control\\\\2013-01 Control-Well Survey\\\\2022-07\\\\2022July-2013Elevation_comparison.xls&quot;, &quot;source_point&quot;: &quot;\\\\\\\\ppeng.com\\\\pzdata\\\\clients\\\\Tranquillity ID-1075\\\\Ongoing-1075\\\\140-District Boundaries\\\\146 Benchmarks - GPS Control\\\\2013-01 Control-Well Survey\\\\2022-07\\\\2022July-2013Elevation_comparison.xls&quot;}, &quot;type&quot;: &quot;Feature&quot;}, {&quot;bbox&quot;: [-120.23187353638889, 36.63702426194445, -120.23187353638889, 36.63702426194445], &quot;geometry&quot;: {&quot;coordinates&quot;: [-120.23187353638889, 36.63702426194445], &quot;type&quot;: &quot;Point&quot;}, &quot;id&quot;: &quot;10&quot;, &quot;properties&quot;: {&quot;easting&quot;: 6200248.1447, &quot;elevation&quot;: 161.8577, &quot;index_elevation&quot;: 110, &quot;index_point&quot;: 0, &quot;lat&quot;: 36.63702426194445, &quot;latitude&quot;: &quot;36 38 13.287343 N&quot;, &quot;lon&quot;: -120.23187353638889, &quot;longitude&quot;: &quot;120 13 54.744731 W&quot;, &quot;northing&quot;: 2117337.9832, &quot;notes&quot;: &quot;FD_MAG_NAIL&quot;, &quot;point_id&quot;: &quot;AG-20&quot;, &quot;point_number&quot;: 107.0, &quot;source_elevation&quot;: &quot;\\\\\\\\ppeng.com\\\\pzdata\\\\clients\\\\Tranquillity ID-1075\\\\Ongoing-1075\\\\140-District Boundaries\\\\146 Benchmarks - GPS Control\\\\2013-01 Control-Well Survey\\\\2022-07\\\\2022July-2013Elevation_comparison.xls&quot;, &quot;source_point&quot;: &quot;\\\\\\\\ppeng.com\\\\pzdata\\\\clients\\\\Tranquillity ID-1075\\\\Ongoing-1075\\\\140-District Boundaries\\\\146 Benchmarks - GPS Control\\\\2013-01 Control-Well Survey\\\\2022-07\\\\2022July-2013Elevation_comparison.xls&quot;}, &quot;type&quot;: &quot;Feature&quot;}, {&quot;bbox&quot;: [-120.23187353638889, 36.63702426194445, -120.23187353638889, 36.63702426194445], &quot;geometry&quot;: {&quot;coordinates&quot;: [-120.23187353638889, 36.63702426194445], &quot;type&quot;: &quot;Point&quot;}, &quot;id&quot;: &quot;11&quot;, &quot;properties&quot;: {&quot;easting&quot;: 6200248.1447, &quot;elevation&quot;: 163.0012, &quot;index_elevation&quot;: 121, &quot;index_point&quot;: 0, &quot;lat&quot;: 36.63702426194445, &quot;latitude&quot;: &quot;36 38 13.287343 N&quot;, &quot;lon&quot;: -120.23187353638889, &quot;longitude&quot;: &quot;120 13 54.744731 W&quot;, &quot;northing&quot;: 2117337.9832, &quot;notes&quot;: &quot;FD_MAG_NAIL&quot;, &quot;point_id&quot;: &quot;AG-20&quot;, &quot;point_number&quot;: 107.0, &quot;source_elevation&quot;: &quot;\\\\\\\\ppeng.com\\\\pzdata\\\\clients\\\\Tranquillity ID-1075\\\\Ongoing-1075\\\\140-District Boundaries\\\\146 Benchmarks - GPS Control\\\\2013-01 Control-Well Survey\\\\2022-07\\\\2022July-2013Elevation_comparison.xls&quot;, &quot;source_point&quot;: &quot;\\\\\\\\ppeng.com\\\\pzdata\\\\clients\\\\Tranquillity ID-1075\\\\Ongoing-1075\\\\140-District Boundaries\\\\146 Benchmarks - GPS Control\\\\2013-01 Control-Well Survey\\\\2022-07\\\\2022July-2013Elevation_comparison.xls&quot;}, &quot;type&quot;: &quot;Feature&quot;}, {&quot;bbox&quot;: [-120.23187353638889, 36.63702426194445, -120.23187353638889, 36.63702426194445], &quot;geometry&quot;: {&quot;coordinates&quot;: [-120.23187353638889, 36.63702426194445], &quot;type&quot;: &quot;Point&quot;}, &quot;id&quot;: &quot;12&quot;, &quot;properties&quot;: {&quot;easting&quot;: 6200248.1447, &quot;elevation&quot;: 163.46, &quot;index_elevation&quot;: 132, &quot;index_point&quot;: 0, &quot;lat&quot;: 36.63702426194445, &quot;latitude&quot;: &quot;36 38 13.287343 N&quot;, &quot;lon&quot;: -120.23187353638889, &quot;longitude&quot;: &quot;120 13 54.744731 W&quot;, &quot;northing&quot;: 2117337.9832, &quot;notes&quot;: &quot;FD_MAG_NAIL&quot;, &quot;point_id&quot;: &quot;AG-20&quot;, &quot;point_number&quot;: 107.0, &quot;source_elevation&quot;: &quot;\\\\\\\\ppeng.com\\\\pzdata\\\\clients\\\\Tranquillity ID-1075\\\\Ongoing-1075\\\\140-District Boundaries\\\\146 Benchmarks - GPS Control\\\\2013-01 Control-Well Survey\\\\2022-07\\\\2022July-2013Elevation_comparison.xls&quot;, &quot;source_point&quot;: &quot;\\\\\\\\ppeng.com\\\\pzdata\\\\clients\\\\Tranquillity ID-1075\\\\Ongoing-1075\\\\140-District Boundaries\\\\146 Benchmarks - GPS Control\\\\2013-01 Control-Well Survey\\\\2022-07\\\\2022July-2013Elevation_comparison.xls&quot;}, &quot;type&quot;: &quot;Feature&quot;}, {&quot;bbox&quot;: [-120.23187353638889, 36.63702426194445, -120.23187353638889, 36.63702426194445], &quot;geometry&quot;: {&quot;coordinates&quot;: [-120.23187353638889, 36.63702426194445], &quot;type&quot;: &quot;Point&quot;}, &quot;id&quot;: &quot;13&quot;, &quot;properties&quot;: {&quot;easting&quot;: 6200248.1447, &quot;elevation&quot;: 163.7292, &quot;index_elevation&quot;: 143, &quot;index_point&quot;: 0, &quot;lat&quot;: 36.63702426194445, &quot;latitude&quot;: &quot;36 38 13.287343 N&quot;, &quot;lon&quot;: -120.23187353638889, &quot;longitude&quot;: &quot;120 13 54.744731 W&quot;, &quot;northing&quot;: 2117337.9832, &quot;notes&quot;: &quot;FD_MAG_NAIL&quot;, &quot;point_id&quot;: &quot;AG-20&quot;, &quot;point_number&quot;: 107.0, &quot;source_elevation&quot;: &quot;\\\\\\\\ppeng.com\\\\pzdata\\\\clients\\\\Tranquillity ID-1075\\\\Ongoing-1075\\\\140-District Boundaries\\\\146 Benchmarks - GPS Control\\\\2013-01 Control-Well Survey\\\\2022-07\\\\2022July-2013Elevation_comparison.xls&quot;, &quot;source_point&quot;: &quot;\\\\\\\\ppeng.com\\\\pzdata\\\\clients\\\\Tranquillity ID-1075\\\\Ongoing-1075\\\\140-District Boundaries\\\\146 Benchmarks - GPS Control\\\\2013-01 Control-Well Survey\\\\2022-07\\\\2022July-2013Elevation_comparison.xls&quot;}, &quot;type&quot;: &quot;Feature&quot;}, {&quot;bbox&quot;: [-120.23187353638889, 36.63702426194445, -120.23187353638889, 36.63702426194445], &quot;geometry&quot;: {&quot;coordinates&quot;: [-120.23187353638889, 36.63702426194445], &quot;type&quot;: &quot;Point&quot;}, &quot;id&quot;: &quot;14&quot;, &quot;properties&quot;: {&quot;easting&quot;: 6200248.1447, &quot;elevation&quot;: 163.67, &quot;index_elevation&quot;: 154, &quot;index_point&quot;: 0, &quot;lat&quot;: 36.63702426194445, &quot;latitude&quot;: &quot;36 38 13.287343 N&quot;, &quot;lon&quot;: -120.23187353638889, &quot;longitude&quot;: &quot;120 13 54.744731 W&quot;, &quot;northing&quot;: 2117337.9832, &quot;notes&quot;: &quot;FD_MAG_NAIL&quot;, &quot;point_id&quot;: &quot;AG-20&quot;, &quot;point_number&quot;: 107.0, &quot;source_elevation&quot;: &quot;\\\\\\\\ppeng.com\\\\pzdata\\\\clients\\\\Tranquillity ID-1075\\\\Ongoing-1075\\\\140-District Boundaries\\\\146 Benchmarks - GPS Control\\\\2013-01 Control-Well Survey\\\\2022-07\\\\2022July-2013Elevation_comparison.xls&quot;, &quot;source_point&quot;: &quot;\\\\\\\\ppeng.com\\\\pzdata\\\\clients\\\\Tranquillity ID-1075\\\\Ongoing-1075\\\\140-District Boundaries\\\\146 Benchmarks - GPS Control\\\\2013-01 Control-Well Survey\\\\2022-07\\\\2022July-2013Elevation_comparison.xls&quot;}, &quot;type&quot;: &quot;Feature&quot;}, {&quot;bbox&quot;: [-120.26961638888889, 36.67046440583333, -120.26961638888889, 36.67046440583333], &quot;geometry&quot;: {&quot;coordinates&quot;: [-120.26961638888889, 36.67046440583333], &quot;type&quot;: &quot;Point&quot;}, &quot;id&quot;: &quot;15&quot;, &quot;properties&quot;: {&quot;easting&quot;: 6189336.3649, &quot;elevation&quot;: 157.04, &quot;index_elevation&quot;: 1, &quot;index_point&quot;: 1, &quot;lat&quot;: 36.67046440583333, &quot;latitude&quot;: &quot;36 40 13.671861 N&quot;, &quot;lon&quot;: -120.26961638888889, &quot;longitude&quot;: &quot;120 16 10.619000 W&quot;, &quot;northing&quot;: 2129655.2281, &quot;notes&quot;: &quot;FD_MAG_NAIL&quot;, &quot;point_id&quot;: &quot;AG-24&quot;, &quot;point_number&quot;: 116.0, &quot;source_elevation&quot;: &quot;\\\\\\\\ppeng.com\\\\pzdata\\\\clients\\\\Tranquillity ID-1075\\\\Ongoing-1075\\\\140-District Boundaries\\\\146 Benchmarks - GPS Control\\\\2013-01 Control-Well Survey\\\\2022-07\\\\2022July-2013Elevation_comparison.xls&quot;, &quot;source_point&quot;: &quot;\\\\\\\\ppeng.com\\\\pzdata\\\\clients\\\\Tranquillity ID-1075\\\\Ongoing-1075\\\\140-District Boundaries\\\\146 Benchmarks - GPS Control\\\\2013-01 Control-Well Survey\\\\2022-07\\\\2022July-2013Elevation_comparison.xls&quot;}, &quot;type&quot;: &quot;Feature&quot;}, {&quot;bbox&quot;: [-120.26961638888889, 36.67046440583333, -120.26961638888889, 36.67046440583333], &quot;geometry&quot;: {&quot;coordinates&quot;: [-120.26961638888889, 36.67046440583333], &quot;type&quot;: &quot;Point&quot;}, &quot;id&quot;: &quot;16&quot;, &quot;properties&quot;: {&quot;easting&quot;: 6189336.3649, &quot;elevation&quot;: 157.2234, &quot;index_elevation&quot;: 12, &quot;index_point&quot;: 1, &quot;lat&quot;: 36.67046440583333, &quot;latitude&quot;: &quot;36 40 13.671861 N&quot;, &quot;lon&quot;: -120.26961638888889, &quot;longitude&quot;: &quot;120 16 10.619000 W&quot;, &quot;northing&quot;: 2129655.2281, &quot;notes&quot;: &quot;FD_MAG_NAIL&quot;, &quot;point_id&quot;: &quot;AG-24&quot;, &quot;point_number&quot;: 116.0, &quot;source_elevation&quot;: &quot;\\\\\\\\ppeng.com\\\\pzdata\\\\clients\\\\Tranquillity ID-1075\\\\Ongoing-1075\\\\140-District Boundaries\\\\146 Benchmarks - GPS Control\\\\2013-01 Control-Well Survey\\\\2022-07\\\\2022July-2013Elevation_comparison.xls&quot;, &quot;source_point&quot;: &quot;\\\\\\\\ppeng.com\\\\pzdata\\\\clients\\\\Tranquillity ID-1075\\\\Ongoing-1075\\\\140-District Boundaries\\\\146 Benchmarks - GPS Control\\\\2013-01 Control-Well Survey\\\\2022-07\\\\2022July-2013Elevation_comparison.xls&quot;}, &quot;type&quot;: &quot;Feature&quot;}, {&quot;bbox&quot;: [-120.26961638888889, 36.67046440583333, -120.26961638888889, 36.67046440583333], &quot;geometry&quot;: {&quot;coordinates&quot;: [-120.26961638888889, 36.67046440583333], &quot;type&quot;: &quot;Point&quot;}, &quot;id&quot;: &quot;17&quot;, &quot;properties&quot;: {&quot;easting&quot;: 6189336.3649, &quot;elevation&quot;: 157.29, &quot;index_elevation&quot;: 23, &quot;index_point&quot;: 1, &quot;lat&quot;: 36.67046440583333, &quot;latitude&quot;: &quot;36 40 13.671861 N&quot;, &quot;lon&quot;: -120.26961638888889, &quot;longitude&quot;: &quot;120 16 10.619000 W&quot;, &quot;northing&quot;: 2129655.2281, &quot;notes&quot;: &quot;FD_MAG_NAIL&quot;, &quot;point_id&quot;: &quot;AG-24&quot;, &quot;point_number&quot;: 116.0, &quot;source_elevation&quot;: &quot;\\\\\\\\ppeng.com\\\\pzdata\\\\clients\\\\Tranquillity ID-1075\\\\Ongoing-1075\\\\140-District Boundaries\\\\146 Benchmarks - GPS Control\\\\2013-01 Control-Well Survey\\\\2022-07\\\\2022July-2013Elevation_comparison.xls&quot;, &quot;source_point&quot;: &quot;\\\\\\\\ppeng.com\\\\pzdata\\\\clients\\\\Tranquillity ID-1075\\\\Ongoing-1075\\\\140-District Boundaries\\\\146 Benchmarks - GPS Control\\\\2013-01 Control-Well Survey\\\\2022-07\\\\2022July-2013Elevation_comparison.xls&quot;}, &quot;type&quot;: &quot;Feature&quot;}, {&quot;bbox&quot;: [-120.26961638888889, 36.67046440583333, -120.26961638888889, 36.67046440583333], &quot;geometry&quot;: {&quot;coordinates&quot;: [-120.26961638888889, 36.67046440583333], &quot;type&quot;: &quot;Point&quot;}, &quot;id&quot;: &quot;18&quot;, &quot;properties&quot;: {&quot;easting&quot;: 6189336.3649, &quot;elevation&quot;: 157.49, &quot;index_elevation&quot;: 34, &quot;index_point&quot;: 1, &quot;lat&quot;: 36.67046440583333, &quot;latitude&quot;: &quot;36 40 13.671861 N&quot;, &quot;lon&quot;: -120.26961638888889, &quot;longitude&quot;: &quot;120 16 10.619000 W&quot;, &quot;northing&quot;: 2129655.2281, &quot;notes&quot;: &quot;FD_MAG_NAIL&quot;, &quot;point_id&quot;: &quot;AG-24&quot;, &quot;point_number&quot;: 116.0, &quot;source_elevation&quot;: &quot;\\\\\\\\ppeng.com\\\\pzdata\\\\clients\\\\Tranquillity ID-1075\\\\Ongoing-1075\\\\140-District Boundaries\\\\146 Benchmarks - GPS Control\\\\2013-01 Control-Well Survey\\\\2022-07\\\\2022July-2013Elevation_comparison.xls&quot;, &quot;source_point&quot;: &quot;\\\\\\\\ppeng.com\\\\pzdata\\\\clients\\\\Tranquillity ID-1075\\\\Ongoing-1075\\\\140-District Boundaries\\\\146 Benchmarks - GPS Control\\\\2013-01 Control-Well Survey\\\\2022-07\\\\2022July-2013Elevation_comparison.xls&quot;}, &quot;type&quot;: &quot;Feature&quot;}, {&quot;bbox&quot;: [-120.26961638888889, 36.67046440583333, -120.26961638888889, 36.67046440583333], &quot;geometry&quot;: {&quot;coordinates&quot;: [-120.26961638888889, 36.67046440583333], &quot;type&quot;: &quot;Point&quot;}, &quot;id&quot;: &quot;19&quot;, &quot;properties&quot;: {&quot;easting&quot;: 6189336.3649, &quot;elevation&quot;: 157.74, &quot;index_elevation&quot;: 45, &quot;index_point&quot;: 1, &quot;lat&quot;: 36.67046440583333, &quot;latitude&quot;: &quot;36 40 13.671861 N&quot;, &quot;lon&quot;: -120.26961638888889, &quot;longitude&quot;: &quot;120 16 10.619000 W&quot;, &quot;northing&quot;: 2129655.2281, &quot;notes&quot;: &quot;FD_MAG_NAIL&quot;, &quot;point_id&quot;: &quot;AG-24&quot;, &quot;point_number&quot;: 116.0, &quot;source_elevation&quot;: &quot;\\\\\\\\ppeng.com\\\\pzdata\\\\clients\\\\Tranquillity ID-1075\\\\Ongoing-1075\\\\140-District Boundaries\\\\146 Benchmarks - GPS Control\\\\2013-01 Control-Well Survey\\\\2022-07\\\\2022July-2013Elevation_comparison.xls&quot;, &quot;source_point&quot;: &quot;\\\\\\\\ppeng.com\\\\pzdata\\\\clients\\\\Tranquillity ID-1075\\\\Ongoing-1075\\\\140-District Boundaries\\\\146 Benchmarks - GPS Control\\\\2013-01 Control-Well Survey\\\\2022-07\\\\2022July-2013Elevation_comparison.xls&quot;}, &quot;type&quot;: &quot;Feature&quot;}, {&quot;bbox&quot;: [-120.26961638888889, 36.67046440583333, -120.26961638888889, 36.67046440583333], &quot;geometry&quot;: {&quot;coordinates&quot;: [-120.26961638888889, 36.67046440583333], &quot;type&quot;: &quot;Point&quot;}, &quot;id&quot;: &quot;20&quot;, &quot;properties&quot;: {&quot;easting&quot;: 6189336.3649, &quot;elevation&quot;: 157.74, &quot;index_elevation&quot;: 56, &quot;index_point&quot;: 1, &quot;lat&quot;: 36.67046440583333, &quot;latitude&quot;: &quot;36 40 13.671861 N&quot;, &quot;lon&quot;: -120.26961638888889, &quot;longitude&quot;: &quot;120 16 10.619000 W&quot;, &quot;northing&quot;: 2129655.2281, &quot;notes&quot;: &quot;FD_MAG_NAIL&quot;, &quot;point_id&quot;: &quot;AG-24&quot;, &quot;point_number&quot;: 116.0, &quot;source_elevation&quot;: &quot;\\\\\\\\ppeng.com\\\\pzdata\\\\clients\\\\Tranquillity ID-1075\\\\Ongoing-1075\\\\140-District Boundaries\\\\146 Benchmarks - GPS Control\\\\2013-01 Control-Well Survey\\\\2022-07\\\\2022July-2013Elevation_comparison.xls&quot;, &quot;source_point&quot;: &quot;\\\\\\\\ppeng.com\\\\pzdata\\\\clients\\\\Tranquillity ID-1075\\\\Ongoing-1075\\\\140-District Boundaries\\\\146 Benchmarks - GPS Control\\\\2013-01 Control-Well Survey\\\\2022-07\\\\2022July-2013Elevation_comparison.xls&quot;}, &quot;type&quot;: &quot;Feature&quot;}, {&quot;bbox&quot;: [-120.26961638888889, 36.67046440583333, -120.26961638888889, 36.67046440583333], &quot;geometry&quot;: {&quot;coordinates&quot;: [-120.26961638888889, 36.67046440583333], &quot;type&quot;: &quot;Point&quot;}, &quot;id&quot;: &quot;21&quot;, &quot;properties&quot;: {&quot;easting&quot;: 6189336.3649, &quot;elevation&quot;: 157.81, &quot;index_elevation&quot;: 67, &quot;index_point&quot;: 1, &quot;lat&quot;: 36.67046440583333, &quot;latitude&quot;: &quot;36 40 13.671861 N&quot;, &quot;lon&quot;: -120.26961638888889, &quot;longitude&quot;: &quot;120 16 10.619000 W&quot;, &quot;northing&quot;: 2129655.2281, &quot;notes&quot;: &quot;FD_MAG_NAIL&quot;, &quot;point_id&quot;: &quot;AG-24&quot;, &quot;point_number&quot;: 116.0, &quot;source_elevation&quot;: &quot;\\\\\\\\ppeng.com\\\\pzdata\\\\clients\\\\Tranquillity ID-1075\\\\Ongoing-1075\\\\140-District Boundaries\\\\146 Benchmarks - GPS Control\\\\2013-01 Control-Well Survey\\\\2022-07\\\\2022July-2013Elevation_comparison.xls&quot;, &quot;source_point&quot;: &quot;\\\\\\\\ppeng.com\\\\pzdata\\\\clients\\\\Tranquillity ID-1075\\\\Ongoing-1075\\\\140-District Boundaries\\\\146 Benchmarks - GPS Control\\\\2013-01 Control-Well Survey\\\\2022-07\\\\2022July-2013Elevation_comparison.xls&quot;}, &quot;type&quot;: &quot;Feature&quot;}, {&quot;bbox&quot;: [-120.26961638888889, 36.67046440583333, -120.26961638888889, 36.67046440583333], &quot;geometry&quot;: {&quot;coordinates&quot;: [-120.26961638888889, 36.67046440583333], &quot;type&quot;: &quot;Point&quot;}, &quot;id&quot;: &quot;22&quot;, &quot;properties&quot;: {&quot;easting&quot;: 6189336.3649, &quot;elevation&quot;: 157.77, &quot;index_elevation&quot;: 78, &quot;index_point&quot;: 1, &quot;lat&quot;: 36.67046440583333, &quot;latitude&quot;: &quot;36 40 13.671861 N&quot;, &quot;lon&quot;: -120.26961638888889, &quot;longitude&quot;: &quot;120 16 10.619000 W&quot;, &quot;northing&quot;: 2129655.2281, &quot;notes&quot;: &quot;FD_MAG_NAIL&quot;, &quot;point_id&quot;: &quot;AG-24&quot;, &quot;point_number&quot;: 116.0, &quot;source_elevation&quot;: &quot;\\\\\\\\ppeng.com\\\\pzdata\\\\clients\\\\Tranquillity ID-1075\\\\Ongoing-1075\\\\140-District Boundaries\\\\146 Benchmarks - GPS Control\\\\2013-01 Control-Well Survey\\\\2022-07\\\\2022July-2013Elevation_comparison.xls&quot;, &quot;source_point&quot;: &quot;\\\\\\\\ppeng.com\\\\pzdata\\\\clients\\\\Tranquillity ID-1075\\\\Ongoing-1075\\\\140-District Boundaries\\\\146 Benchmarks - GPS Control\\\\2013-01 Control-Well Survey\\\\2022-07\\\\2022July-2013Elevation_comparison.xls&quot;}, &quot;type&quot;: &quot;Feature&quot;}, {&quot;bbox&quot;: [-120.26961638888889, 36.67046440583333, -120.26961638888889, 36.67046440583333], &quot;geometry&quot;: {&quot;coordinates&quot;: [-120.26961638888889, 36.67046440583333], &quot;type&quot;: &quot;Point&quot;}, &quot;id&quot;: &quot;23&quot;, &quot;properties&quot;: {&quot;easting&quot;: 6189336.3649, &quot;elevation&quot;: 157.91, &quot;index_elevation&quot;: 89, &quot;index_point&quot;: 1, &quot;lat&quot;: 36.67046440583333, &quot;latitude&quot;: &quot;36 40 13.671861 N&quot;, &quot;lon&quot;: -120.26961638888889, &quot;longitude&quot;: &quot;120 16 10.619000 W&quot;, &quot;northing&quot;: 2129655.2281, &quot;notes&quot;: &quot;FD_MAG_NAIL&quot;, &quot;point_id&quot;: &quot;AG-24&quot;, &quot;point_number&quot;: 116.0, &quot;source_elevation&quot;: &quot;\\\\\\\\ppeng.com\\\\pzdata\\\\clients\\\\Tranquillity ID-1075\\\\Ongoing-1075\\\\140-District Boundaries\\\\146 Benchmarks - GPS Control\\\\2013-01 Control-Well Survey\\\\2022-07\\\\2022July-2013Elevation_comparison.xls&quot;, &quot;source_point&quot;: &quot;\\\\\\\\ppeng.com\\\\pzdata\\\\clients\\\\Tranquillity ID-1075\\\\Ongoing-1075\\\\140-District Boundaries\\\\146 Benchmarks - GPS Control\\\\2013-01 Control-Well Survey\\\\2022-07\\\\2022July-2013Elevation_comparison.xls&quot;}, &quot;type&quot;: &quot;Feature&quot;}, {&quot;bbox&quot;: [-120.26961638888889, 36.67046440583333, -120.26961638888889, 36.67046440583333], &quot;geometry&quot;: {&quot;coordinates&quot;: [-120.26961638888889, 36.67046440583333], &quot;type&quot;: &quot;Point&quot;}, &quot;id&quot;: &quot;24&quot;, &quot;properties&quot;: {&quot;easting&quot;: 6189336.3649, &quot;elevation&quot;: 157.9, &quot;index_elevation&quot;: 100, &quot;index_point&quot;: 1, &quot;lat&quot;: 36.67046440583333, &quot;latitude&quot;: &quot;36 40 13.671861 N&quot;, &quot;lon&quot;: -120.26961638888889, &quot;longitude&quot;: &quot;120 16 10.619000 W&quot;, &quot;northing&quot;: 2129655.2281, &quot;notes&quot;: &quot;FD_MAG_NAIL&quot;, &quot;point_id&quot;: &quot;AG-24&quot;, &quot;point_number&quot;: 116.0, &quot;source_elevation&quot;: &quot;\\\\\\\\ppeng.com\\\\pzdata\\\\clients\\\\Tranquillity ID-1075\\\\Ongoing-1075\\\\140-District Boundaries\\\\146 Benchmarks - GPS Control\\\\2013-01 Control-Well Survey\\\\2022-07\\\\2022July-2013Elevation_comparison.xls&quot;, &quot;source_point&quot;: &quot;\\\\\\\\ppeng.com\\\\pzdata\\\\clients\\\\Tranquillity ID-1075\\\\Ongoing-1075\\\\140-District Boundaries\\\\146 Benchmarks - GPS Control\\\\2013-01 Control-Well Survey\\\\2022-07\\\\2022July-2013Elevation_comparison.xls&quot;}, &quot;type&quot;: &quot;Feature&quot;}, {&quot;bbox&quot;: [-120.26961638888889, 36.67046440583333, -120.26961638888889, 36.67046440583333], &quot;geometry&quot;: {&quot;coordinates&quot;: [-120.26961638888889, 36.67046440583333], &quot;type&quot;: &quot;Point&quot;}, &quot;id&quot;: &quot;25&quot;, &quot;properties&quot;: {&quot;easting&quot;: 6189336.3649, &quot;elevation&quot;: 158.0505, &quot;index_elevation&quot;: 111, &quot;index_point&quot;: 1, &quot;lat&quot;: 36.67046440583333, &quot;latitude&quot;: &quot;36 40 13.671861 N&quot;, &quot;lon&quot;: -120.26961638888889, &quot;longitude&quot;: &quot;120 16 10.619000 W&quot;, &quot;northing&quot;: 2129655.2281, &quot;notes&quot;: &quot;FD_MAG_NAIL&quot;, &quot;point_id&quot;: &quot;AG-24&quot;, &quot;point_number&quot;: 116.0, &quot;source_elevation&quot;: &quot;\\\\\\\\ppeng.com\\\\pzdata\\\\clients\\\\Tranquillity ID-1075\\\\Ongoing-1075\\\\140-District Boundaries\\\\146 Benchmarks - GPS Control\\\\2013-01 Control-Well Survey\\\\2022-07\\\\2022July-2013Elevation_comparison.xls&quot;, &quot;source_point&quot;: &quot;\\\\\\\\ppeng.com\\\\pzdata\\\\clients\\\\Tranquillity ID-1075\\\\Ongoing-1075\\\\140-District Boundaries\\\\146 Benchmarks - GPS Control\\\\2013-01 Control-Well Survey\\\\2022-07\\\\2022July-2013Elevation_comparison.xls&quot;}, &quot;type&quot;: &quot;Feature&quot;}, {&quot;bbox&quot;: [-120.26961638888889, 36.67046440583333, -120.26961638888889, 36.67046440583333], &quot;geometry&quot;: {&quot;coordinates&quot;: [-120.26961638888889, 36.67046440583333], &quot;type&quot;: &quot;Point&quot;}, &quot;id&quot;: &quot;26&quot;, &quot;properties&quot;: {&quot;easting&quot;: 6189336.3649, &quot;elevation&quot;: 159.28, &quot;index_elevation&quot;: 122, &quot;index_point&quot;: 1, &quot;lat&quot;: 36.67046440583333, &quot;latitude&quot;: &quot;36 40 13.671861 N&quot;, &quot;lon&quot;: -120.26961638888889, &quot;longitude&quot;: &quot;120 16 10.619000 W&quot;, &quot;northing&quot;: 2129655.2281, &quot;notes&quot;: &quot;FD_MAG_NAIL&quot;, &quot;point_id&quot;: &quot;AG-24&quot;, &quot;point_number&quot;: 116.0, &quot;source_elevation&quot;: &quot;\\\\\\\\ppeng.com\\\\pzdata\\\\clients\\\\Tranquillity ID-1075\\\\Ongoing-1075\\\\140-District Boundaries\\\\146 Benchmarks - GPS Control\\\\2013-01 Control-Well Survey\\\\2022-07\\\\2022July-2013Elevation_comparison.xls&quot;, &quot;source_point&quot;: &quot;\\\\\\\\ppeng.com\\\\pzdata\\\\clients\\\\Tranquillity ID-1075\\\\Ongoing-1075\\\\140-District Boundaries\\\\146 Benchmarks - GPS Control\\\\2013-01 Control-Well Survey\\\\2022-07\\\\2022July-2013Elevation_comparison.xls&quot;}, &quot;type&quot;: &quot;Feature&quot;}, {&quot;bbox&quot;: [-120.26961638888889, 36.67046440583333, -120.26961638888889, 36.67046440583333], &quot;geometry&quot;: {&quot;coordinates&quot;: [-120.26961638888889, 36.67046440583333], &quot;type&quot;: &quot;Point&quot;}, &quot;id&quot;: &quot;27&quot;, &quot;properties&quot;: {&quot;easting&quot;: 6189336.3649, &quot;elevation&quot;: 160.0, &quot;index_elevation&quot;: 133, &quot;index_point&quot;: 1, &quot;lat&quot;: 36.67046440583333, &quot;latitude&quot;: &quot;36 40 13.671861 N&quot;, &quot;lon&quot;: -120.26961638888889, &quot;longitude&quot;: &quot;120 16 10.619000 W&quot;, &quot;northing&quot;: 2129655.2281, &quot;notes&quot;: &quot;FD_MAG_NAIL&quot;, &quot;point_id&quot;: &quot;AG-24&quot;, &quot;point_number&quot;: 116.0, &quot;source_elevation&quot;: &quot;\\\\\\\\ppeng.com\\\\pzdata\\\\clients\\\\Tranquillity ID-1075\\\\Ongoing-1075\\\\140-District Boundaries\\\\146 Benchmarks - GPS Control\\\\2013-01 Control-Well Survey\\\\2022-07\\\\2022July-2013Elevation_comparison.xls&quot;, &quot;source_point&quot;: &quot;\\\\\\\\ppeng.com\\\\pzdata\\\\clients\\\\Tranquillity ID-1075\\\\Ongoing-1075\\\\140-District Boundaries\\\\146 Benchmarks - GPS Control\\\\2013-01 Control-Well Survey\\\\2022-07\\\\2022July-2013Elevation_comparison.xls&quot;}, &quot;type&quot;: &quot;Feature&quot;}, {&quot;bbox&quot;: [-120.26961638888889, 36.67046440583333, -120.26961638888889, 36.67046440583333], &quot;geometry&quot;: {&quot;coordinates&quot;: [-120.26961638888889, 36.67046440583333], &quot;type&quot;: &quot;Point&quot;}, &quot;id&quot;: &quot;28&quot;, &quot;properties&quot;: {&quot;easting&quot;: 6189336.3649, &quot;elevation&quot;: 160.7496, &quot;index_elevation&quot;: 144, &quot;index_point&quot;: 1, &quot;lat&quot;: 36.67046440583333, &quot;latitude&quot;: &quot;36 40 13.671861 N&quot;, &quot;lon&quot;: -120.26961638888889, &quot;longitude&quot;: &quot;120 16 10.619000 W&quot;, &quot;northing&quot;: 2129655.2281, &quot;notes&quot;: &quot;FD_MAG_NAIL&quot;, &quot;point_id&quot;: &quot;AG-24&quot;, &quot;point_number&quot;: 116.0, &quot;source_elevation&quot;: &quot;\\\\\\\\ppeng.com\\\\pzdata\\\\clients\\\\Tranquillity ID-1075\\\\Ongoing-1075\\\\140-District Boundaries\\\\146 Benchmarks - GPS Control\\\\2013-01 Control-Well Survey\\\\2022-07\\\\2022July-2013Elevation_comparison.xls&quot;, &quot;source_point&quot;: &quot;\\\\\\\\ppeng.com\\\\pzdata\\\\clients\\\\Tranquillity ID-1075\\\\Ongoing-1075\\\\140-District Boundaries\\\\146 Benchmarks - GPS Control\\\\2013-01 Control-Well Survey\\\\2022-07\\\\2022July-2013Elevation_comparison.xls&quot;}, &quot;type&quot;: &quot;Feature&quot;}, {&quot;bbox&quot;: [-120.26961638888889, 36.67046440583333, -120.26961638888889, 36.67046440583333], &quot;geometry&quot;: {&quot;coordinates&quot;: [-120.26961638888889, 36.67046440583333], &quot;type&quot;: &quot;Point&quot;}, &quot;id&quot;: &quot;29&quot;, &quot;properties&quot;: {&quot;easting&quot;: 6189336.3649, &quot;elevation&quot;: 161.18, &quot;index_elevation&quot;: 155, &quot;index_point&quot;: 1, &quot;lat&quot;: 36.67046440583333, &quot;latitude&quot;: &quot;36 40 13.671861 N&quot;, &quot;lon&quot;: -120.26961638888889, &quot;longitude&quot;: &quot;120 16 10.619000 W&quot;, &quot;northing&quot;: 2129655.2281, &quot;notes&quot;: &quot;FD_MAG_NAIL&quot;, &quot;point_id&quot;: &quot;AG-24&quot;, &quot;point_number&quot;: 116.0, &quot;source_elevation&quot;: &quot;\\\\\\\\ppeng.com\\\\pzdata\\\\clients\\\\Tranquillity ID-1075\\\\Ongoing-1075\\\\140-District Boundaries\\\\146 Benchmarks - GPS Control\\\\2013-01 Control-Well Survey\\\\2022-07\\\\2022July-2013Elevation_comparison.xls&quot;, &quot;source_point&quot;: &quot;\\\\\\\\ppeng.com\\\\pzdata\\\\clients\\\\Tranquillity ID-1075\\\\Ongoing-1075\\\\140-District Boundaries\\\\146 Benchmarks - GPS Control\\\\2013-01 Control-Well Survey\\\\2022-07\\\\2022July-2013Elevation_comparison.xls&quot;}, &quot;type&quot;: &quot;Feature&quot;}, {&quot;bbox&quot;: [-120.25238293805556, 36.65129153583333, -120.25238293805556, 36.65129153583333], &quot;geometry&quot;: {&quot;coordinates&quot;: [-120.25238293805556, 36.65129153583333], &quot;type&quot;: &quot;Point&quot;}, &quot;id&quot;: &quot;30&quot;, &quot;properties&quot;: {&quot;easting&quot;: 6194298.9745, &quot;elevation&quot;: 157.99, &quot;index_elevation&quot;: 2, &quot;index_point&quot;: 2, &quot;lat&quot;: 36.65129153583333, &quot;latitude&quot;: &quot;36 39 04.649529 N&quot;, &quot;lon&quot;: -120.25238293805556, &quot;longitude&quot;: &quot;120 15 08.578577 W&quot;, &quot;northing&quot;: 2122609.449, &quot;notes&quot;: &quot;FD_MAG_NAIL&quot;, &quot;point_id&quot;: &quot;MW-19B&quot;, &quot;point_number&quot;: 109.0, &quot;source_elevation&quot;: &quot;\\\\\\\\ppeng.com\\\\pzdata\\\\clients\\\\Tranquillity ID-1075\\\\Ongoing-1075\\\\140-District Boundaries\\\\146 Benchmarks - GPS Control\\\\2013-01 Control-Well Survey\\\\2022-07\\\\2022July-2013Elevation_comparison.xls&quot;, &quot;source_point&quot;: &quot;\\\\\\\\ppeng.com\\\\pzdata\\\\clients\\\\Tranquillity ID-1075\\\\Ongoing-1075\\\\140-District Boundaries\\\\146 Benchmarks - GPS Control\\\\2013-01 Control-Well Survey\\\\2022-07\\\\2022July-2013Elevation_comparison.xls&quot;}, &quot;type&quot;: &quot;Feature&quot;}, {&quot;bbox&quot;: [-120.25238293805556, 36.65129153583333, -120.25238293805556, 36.65129153583333], &quot;geometry&quot;: {&quot;coordinates&quot;: [-120.25238293805556, 36.65129153583333], &quot;type&quot;: &quot;Point&quot;}, &quot;id&quot;: &quot;31&quot;, &quot;properties&quot;: {&quot;easting&quot;: 6194298.9745, &quot;elevation&quot;: 158.0672, &quot;index_elevation&quot;: 13, &quot;index_point&quot;: 2, &quot;lat&quot;: 36.65129153583333, &quot;latitude&quot;: &quot;36 39 04.649529 N&quot;, &quot;lon&quot;: -120.25238293805556, &quot;longitude&quot;: &quot;120 15 08.578577 W&quot;, &quot;northing&quot;: 2122609.449, &quot;notes&quot;: &quot;FD_MAG_NAIL&quot;, &quot;point_id&quot;: &quot;MW-19B&quot;, &quot;point_number&quot;: 109.0, &quot;source_elevation&quot;: &quot;\\\\\\\\ppeng.com\\\\pzdata\\\\clients\\\\Tranquillity ID-1075\\\\Ongoing-1075\\\\140-District Boundaries\\\\146 Benchmarks - GPS Control\\\\2013-01 Control-Well Survey\\\\2022-07\\\\2022July-2013Elevation_comparison.xls&quot;, &quot;source_point&quot;: &quot;\\\\\\\\ppeng.com\\\\pzdata\\\\clients\\\\Tranquillity ID-1075\\\\Ongoing-1075\\\\140-District Boundaries\\\\146 Benchmarks - GPS Control\\\\2013-01 Control-Well Survey\\\\2022-07\\\\2022July-2013Elevation_comparison.xls&quot;}, &quot;type&quot;: &quot;Feature&quot;}, {&quot;bbox&quot;: [-120.25238293805556, 36.65129153583333, -120.25238293805556, 36.65129153583333], &quot;geometry&quot;: {&quot;coordinates&quot;: [-120.25238293805556, 36.65129153583333], &quot;type&quot;: &quot;Point&quot;}, &quot;id&quot;: &quot;32&quot;, &quot;properties&quot;: {&quot;easting&quot;: 6194298.9745, &quot;elevation&quot;: 158.09, &quot;index_elevation&quot;: 24, &quot;index_point&quot;: 2, &quot;lat&quot;: 36.65129153583333, &quot;latitude&quot;: &quot;36 39 04.649529 N&quot;, &quot;lon&quot;: -120.25238293805556, &quot;longitude&quot;: &quot;120 15 08.578577 W&quot;, &quot;northing&quot;: 2122609.449, &quot;notes&quot;: &quot;FD_MAG_NAIL&quot;, &quot;point_id&quot;: &quot;MW-19B&quot;, &quot;point_number&quot;: 109.0, &quot;source_elevation&quot;: &quot;\\\\\\\\ppeng.com\\\\pzdata\\\\clients\\\\Tranquillity ID-1075\\\\Ongoing-1075\\\\140-District Boundaries\\\\146 Benchmarks - GPS Control\\\\2013-01 Control-Well Survey\\\\2022-07\\\\2022July-2013Elevation_comparison.xls&quot;, &quot;source_point&quot;: &quot;\\\\\\\\ppeng.com\\\\pzdata\\\\clients\\\\Tranquillity ID-1075\\\\Ongoing-1075\\\\140-District Boundaries\\\\146 Benchmarks - GPS Control\\\\2013-01 Control-Well Survey\\\\2022-07\\\\2022July-2013Elevation_comparison.xls&quot;}, &quot;type&quot;: &quot;Feature&quot;}, {&quot;bbox&quot;: [-120.25238293805556, 36.65129153583333, -120.25238293805556, 36.65129153583333], &quot;geometry&quot;: {&quot;coordinates&quot;: [-120.25238293805556, 36.65129153583333], &quot;type&quot;: &quot;Point&quot;}, &quot;id&quot;: &quot;33&quot;, &quot;properties&quot;: {&quot;easting&quot;: 6194298.9745, &quot;elevation&quot;: 158.31, &quot;index_elevation&quot;: 35, &quot;index_point&quot;: 2, &quot;lat&quot;: 36.65129153583333, &quot;latitude&quot;: &quot;36 39 04.649529 N&quot;, &quot;lon&quot;: -120.25238293805556, &quot;longitude&quot;: &quot;120 15 08.578577 W&quot;, &quot;northing&quot;: 2122609.449, &quot;notes&quot;: &quot;FD_MAG_NAIL&quot;, &quot;point_id&quot;: &quot;MW-19B&quot;, &quot;point_number&quot;: 109.0, &quot;source_elevation&quot;: &quot;\\\\\\\\ppeng.com\\\\pzdata\\\\clients\\\\Tranquillity ID-1075\\\\Ongoing-1075\\\\140-District Boundaries\\\\146 Benchmarks - GPS Control\\\\2013-01 Control-Well Survey\\\\2022-07\\\\2022July-2013Elevation_comparison.xls&quot;, &quot;source_point&quot;: &quot;\\\\\\\\ppeng.com\\\\pzdata\\\\clients\\\\Tranquillity ID-1075\\\\Ongoing-1075\\\\140-District Boundaries\\\\146 Benchmarks - GPS Control\\\\2013-01 Control-Well Survey\\\\2022-07\\\\2022July-2013Elevation_comparison.xls&quot;}, &quot;type&quot;: &quot;Feature&quot;}, {&quot;bbox&quot;: [-120.25238293805556, 36.65129153583333, -120.25238293805556, 36.65129153583333], &quot;geometry&quot;: {&quot;coordinates&quot;: [-120.25238293805556, 36.65129153583333], &quot;type&quot;: &quot;Point&quot;}, &quot;id&quot;: &quot;34&quot;, &quot;properties&quot;: {&quot;easting&quot;: 6194298.9745, &quot;elevation&quot;: 158.524, &quot;index_elevation&quot;: 46, &quot;index_point&quot;: 2, &quot;lat&quot;: 36.65129153583333, &quot;latitude&quot;: &quot;36 39 04.649529 N&quot;, &quot;lon&quot;: -120.25238293805556, &quot;longitude&quot;: &quot;120 15 08.578577 W&quot;, &quot;northing&quot;: 2122609.449, &quot;notes&quot;: &quot;FD_MAG_NAIL&quot;, &quot;point_id&quot;: &quot;MW-19B&quot;, &quot;point_number&quot;: 109.0, &quot;source_elevation&quot;: &quot;\\\\\\\\ppeng.com\\\\pzdata\\\\clients\\\\Tranquillity ID-1075\\\\Ongoing-1075\\\\140-District Boundaries\\\\146 Benchmarks - GPS Control\\\\2013-01 Control-Well Survey\\\\2022-07\\\\2022July-2013Elevation_comparison.xls&quot;, &quot;source_point&quot;: &quot;\\\\\\\\ppeng.com\\\\pzdata\\\\clients\\\\Tranquillity ID-1075\\\\Ongoing-1075\\\\140-District Boundaries\\\\146 Benchmarks - GPS Control\\\\2013-01 Control-Well Survey\\\\2022-07\\\\2022July-2013Elevation_comparison.xls&quot;}, &quot;type&quot;: &quot;Feature&quot;}, {&quot;bbox&quot;: [-120.25238293805556, 36.65129153583333, -120.25238293805556, 36.65129153583333], &quot;geometry&quot;: {&quot;coordinates&quot;: [-120.25238293805556, 36.65129153583333], &quot;type&quot;: &quot;Point&quot;}, &quot;id&quot;: &quot;35&quot;, &quot;properties&quot;: {&quot;easting&quot;: 6194298.9745, &quot;elevation&quot;: 158.54, &quot;index_elevation&quot;: 57, &quot;index_point&quot;: 2, &quot;lat&quot;: 36.65129153583333, &quot;latitude&quot;: &quot;36 39 04.649529 N&quot;, &quot;lon&quot;: -120.25238293805556, &quot;longitude&quot;: &quot;120 15 08.578577 W&quot;, &quot;northing&quot;: 2122609.449, &quot;notes&quot;: &quot;FD_MAG_NAIL&quot;, &quot;point_id&quot;: &quot;MW-19B&quot;, &quot;point_number&quot;: 109.0, &quot;source_elevation&quot;: &quot;\\\\\\\\ppeng.com\\\\pzdata\\\\clients\\\\Tranquillity ID-1075\\\\Ongoing-1075\\\\140-District Boundaries\\\\146 Benchmarks - GPS Control\\\\2013-01 Control-Well Survey\\\\2022-07\\\\2022July-2013Elevation_comparison.xls&quot;, &quot;source_point&quot;: &quot;\\\\\\\\ppeng.com\\\\pzdata\\\\clients\\\\Tranquillity ID-1075\\\\Ongoing-1075\\\\140-District Boundaries\\\\146 Benchmarks - GPS Control\\\\2013-01 Control-Well Survey\\\\2022-07\\\\2022July-2013Elevation_comparison.xls&quot;}, &quot;type&quot;: &quot;Feature&quot;}, {&quot;bbox&quot;: [-120.25238293805556, 36.65129153583333, -120.25238293805556, 36.65129153583333], &quot;geometry&quot;: {&quot;coordinates&quot;: [-120.25238293805556, 36.65129153583333], &quot;type&quot;: &quot;Point&quot;}, &quot;id&quot;: &quot;36&quot;, &quot;properties&quot;: {&quot;easting&quot;: 6194298.9745, &quot;elevation&quot;: 158.59, &quot;index_elevation&quot;: 68, &quot;index_point&quot;: 2, &quot;lat&quot;: 36.65129153583333, &quot;latitude&quot;: &quot;36 39 04.649529 N&quot;, &quot;lon&quot;: -120.25238293805556, &quot;longitude&quot;: &quot;120 15 08.578577 W&quot;, &quot;northing&quot;: 2122609.449, &quot;notes&quot;: &quot;FD_MAG_NAIL&quot;, &quot;point_id&quot;: &quot;MW-19B&quot;, &quot;point_number&quot;: 109.0, &quot;source_elevation&quot;: &quot;\\\\\\\\ppeng.com\\\\pzdata\\\\clients\\\\Tranquillity ID-1075\\\\Ongoing-1075\\\\140-District Boundaries\\\\146 Benchmarks - GPS Control\\\\2013-01 Control-Well Survey\\\\2022-07\\\\2022July-2013Elevation_comparison.xls&quot;, &quot;source_point&quot;: &quot;\\\\\\\\ppeng.com\\\\pzdata\\\\clients\\\\Tranquillity ID-1075\\\\Ongoing-1075\\\\140-District Boundaries\\\\146 Benchmarks - GPS Control\\\\2013-01 Control-Well Survey\\\\2022-07\\\\2022July-2013Elevation_comparison.xls&quot;}, &quot;type&quot;: &quot;Feature&quot;}, {&quot;bbox&quot;: [-120.25238293805556, 36.65129153583333, -120.25238293805556, 36.65129153583333], &quot;geometry&quot;: {&quot;coordinates&quot;: [-120.25238293805556, 36.65129153583333], &quot;type&quot;: &quot;Point&quot;}, &quot;id&quot;: &quot;37&quot;, &quot;properties&quot;: {&quot;easting&quot;: 6194298.9745, &quot;elevation&quot;: 158.52, &quot;index_elevation&quot;: 79, &quot;index_point&quot;: 2, &quot;lat&quot;: 36.65129153583333, &quot;latitude&quot;: &quot;36 39 04.649529 N&quot;, &quot;lon&quot;: -120.25238293805556, &quot;longitude&quot;: &quot;120 15 08.578577 W&quot;, &quot;northing&quot;: 2122609.449, &quot;notes&quot;: &quot;FD_MAG_NAIL&quot;, &quot;point_id&quot;: &quot;MW-19B&quot;, &quot;point_number&quot;: 109.0, &quot;source_elevation&quot;: &quot;\\\\\\\\ppeng.com\\\\pzdata\\\\clients\\\\Tranquillity ID-1075\\\\Ongoing-1075\\\\140-District Boundaries\\\\146 Benchmarks - GPS Control\\\\2013-01 Control-Well Survey\\\\2022-07\\\\2022July-2013Elevation_comparison.xls&quot;, &quot;source_point&quot;: &quot;\\\\\\\\ppeng.com\\\\pzdata\\\\clients\\\\Tranquillity ID-1075\\\\Ongoing-1075\\\\140-District Boundaries\\\\146 Benchmarks - GPS Control\\\\2013-01 Control-Well Survey\\\\2022-07\\\\2022July-2013Elevation_comparison.xls&quot;}, &quot;type&quot;: &quot;Feature&quot;}, {&quot;bbox&quot;: [-120.25238293805556, 36.65129153583333, -120.25238293805556, 36.65129153583333], &quot;geometry&quot;: {&quot;coordinates&quot;: [-120.25238293805556, 36.65129153583333], &quot;type&quot;: &quot;Point&quot;}, &quot;id&quot;: &quot;38&quot;, &quot;properties&quot;: {&quot;easting&quot;: 6194298.9745, &quot;elevation&quot;: 158.67, &quot;index_elevation&quot;: 90, &quot;index_point&quot;: 2, &quot;lat&quot;: 36.65129153583333, &quot;latitude&quot;: &quot;36 39 04.649529 N&quot;, &quot;lon&quot;: -120.25238293805556, &quot;longitude&quot;: &quot;120 15 08.578577 W&quot;, &quot;northing&quot;: 2122609.449, &quot;notes&quot;: &quot;FD_MAG_NAIL&quot;, &quot;point_id&quot;: &quot;MW-19B&quot;, &quot;point_number&quot;: 109.0, &quot;source_elevation&quot;: &quot;\\\\\\\\ppeng.com\\\\pzdata\\\\clients\\\\Tranquillity ID-1075\\\\Ongoing-1075\\\\140-District Boundaries\\\\146 Benchmarks - GPS Control\\\\2013-01 Control-Well Survey\\\\2022-07\\\\2022July-2013Elevation_comparison.xls&quot;, &quot;source_point&quot;: &quot;\\\\\\\\ppeng.com\\\\pzdata\\\\clients\\\\Tranquillity ID-1075\\\\Ongoing-1075\\\\140-District Boundaries\\\\146 Benchmarks - GPS Control\\\\2013-01 Control-Well Survey\\\\2022-07\\\\2022July-2013Elevation_comparison.xls&quot;}, &quot;type&quot;: &quot;Feature&quot;}, {&quot;bbox&quot;: [-120.25238293805556, 36.65129153583333, -120.25238293805556, 36.65129153583333], &quot;geometry&quot;: {&quot;coordinates&quot;: [-120.25238293805556, 36.65129153583333], &quot;type&quot;: &quot;Point&quot;}, &quot;id&quot;: &quot;39&quot;, &quot;properties&quot;: {&quot;easting&quot;: 6194298.9745, &quot;elevation&quot;: 158.62, &quot;index_elevation&quot;: 101, &quot;index_point&quot;: 2, &quot;lat&quot;: 36.65129153583333, &quot;latitude&quot;: &quot;36 39 04.649529 N&quot;, &quot;lon&quot;: -120.25238293805556, &quot;longitude&quot;: &quot;120 15 08.578577 W&quot;, &quot;northing&quot;: 2122609.449, &quot;notes&quot;: &quot;FD_MAG_NAIL&quot;, &quot;point_id&quot;: &quot;MW-19B&quot;, &quot;point_number&quot;: 109.0, &quot;source_elevation&quot;: &quot;\\\\\\\\ppeng.com\\\\pzdata\\\\clients\\\\Tranquillity ID-1075\\\\Ongoing-1075\\\\140-District Boundaries\\\\146 Benchmarks - GPS Control\\\\2013-01 Control-Well Survey\\\\2022-07\\\\2022July-2013Elevation_comparison.xls&quot;, &quot;source_point&quot;: &quot;\\\\\\\\ppeng.com\\\\pzdata\\\\clients\\\\Tranquillity ID-1075\\\\Ongoing-1075\\\\140-District Boundaries\\\\146 Benchmarks - GPS Control\\\\2013-01 Control-Well Survey\\\\2022-07\\\\2022July-2013Elevation_comparison.xls&quot;}, &quot;type&quot;: &quot;Feature&quot;}, {&quot;bbox&quot;: [-120.25238293805556, 36.65129153583333, -120.25238293805556, 36.65129153583333], &quot;geometry&quot;: {&quot;coordinates&quot;: [-120.25238293805556, 36.65129153583333], &quot;type&quot;: &quot;Point&quot;}, &quot;id&quot;: &quot;40&quot;, &quot;properties&quot;: {&quot;easting&quot;: 6194298.9745, &quot;elevation&quot;: 158.7487, &quot;index_elevation&quot;: 112, &quot;index_point&quot;: 2, &quot;lat&quot;: 36.65129153583333, &quot;latitude&quot;: &quot;36 39 04.649529 N&quot;, &quot;lon&quot;: -120.25238293805556, &quot;longitude&quot;: &quot;120 15 08.578577 W&quot;, &quot;northing&quot;: 2122609.449, &quot;notes&quot;: &quot;FD_MAG_NAIL&quot;, &quot;point_id&quot;: &quot;MW-19B&quot;, &quot;point_number&quot;: 109.0, &quot;source_elevation&quot;: &quot;\\\\\\\\ppeng.com\\\\pzdata\\\\clients\\\\Tranquillity ID-1075\\\\Ongoing-1075\\\\140-District Boundaries\\\\146 Benchmarks - GPS Control\\\\2013-01 Control-Well Survey\\\\2022-07\\\\2022July-2013Elevation_comparison.xls&quot;, &quot;source_point&quot;: &quot;\\\\\\\\ppeng.com\\\\pzdata\\\\clients\\\\Tranquillity ID-1075\\\\Ongoing-1075\\\\140-District Boundaries\\\\146 Benchmarks - GPS Control\\\\2013-01 Control-Well Survey\\\\2022-07\\\\2022July-2013Elevation_comparison.xls&quot;}, &quot;type&quot;: &quot;Feature&quot;}, {&quot;bbox&quot;: [-120.25238293805556, 36.65129153583333, -120.25238293805556, 36.65129153583333], &quot;geometry&quot;: {&quot;coordinates&quot;: [-120.25238293805556, 36.65129153583333], &quot;type&quot;: &quot;Point&quot;}, &quot;id&quot;: &quot;41&quot;, &quot;properties&quot;: {&quot;easting&quot;: 6194298.9745, &quot;elevation&quot;: 159.99, &quot;index_elevation&quot;: 123, &quot;index_point&quot;: 2, &quot;lat&quot;: 36.65129153583333, &quot;latitude&quot;: &quot;36 39 04.649529 N&quot;, &quot;lon&quot;: -120.25238293805556, &quot;longitude&quot;: &quot;120 15 08.578577 W&quot;, &quot;northing&quot;: 2122609.449, &quot;notes&quot;: &quot;FD_MAG_NAIL&quot;, &quot;point_id&quot;: &quot;MW-19B&quot;, &quot;point_number&quot;: 109.0, &quot;source_elevation&quot;: &quot;\\\\\\\\ppeng.com\\\\pzdata\\\\clients\\\\Tranquillity ID-1075\\\\Ongoing-1075\\\\140-District Boundaries\\\\146 Benchmarks - GPS Control\\\\2013-01 Control-Well Survey\\\\2022-07\\\\2022July-2013Elevation_comparison.xls&quot;, &quot;source_point&quot;: &quot;\\\\\\\\ppeng.com\\\\pzdata\\\\clients\\\\Tranquillity ID-1075\\\\Ongoing-1075\\\\140-District Boundaries\\\\146 Benchmarks - GPS Control\\\\2013-01 Control-Well Survey\\\\2022-07\\\\2022July-2013Elevation_comparison.xls&quot;}, &quot;type&quot;: &quot;Feature&quot;}, {&quot;bbox&quot;: [-120.25238293805556, 36.65129153583333, -120.25238293805556, 36.65129153583333], &quot;geometry&quot;: {&quot;coordinates&quot;: [-120.25238293805556, 36.65129153583333], &quot;type&quot;: &quot;Point&quot;}, &quot;id&quot;: &quot;42&quot;, &quot;properties&quot;: {&quot;easting&quot;: 6194298.9745, &quot;elevation&quot;: 160.65, &quot;index_elevation&quot;: 134, &quot;index_point&quot;: 2, &quot;lat&quot;: 36.65129153583333, &quot;latitude&quot;: &quot;36 39 04.649529 N&quot;, &quot;lon&quot;: -120.25238293805556, &quot;longitude&quot;: &quot;120 15 08.578577 W&quot;, &quot;northing&quot;: 2122609.449, &quot;notes&quot;: &quot;FD_MAG_NAIL&quot;, &quot;point_id&quot;: &quot;MW-19B&quot;, &quot;point_number&quot;: 109.0, &quot;source_elevation&quot;: &quot;\\\\\\\\ppeng.com\\\\pzdata\\\\clients\\\\Tranquillity ID-1075\\\\Ongoing-1075\\\\140-District Boundaries\\\\146 Benchmarks - GPS Control\\\\2013-01 Control-Well Survey\\\\2022-07\\\\2022July-2013Elevation_comparison.xls&quot;, &quot;source_point&quot;: &quot;\\\\\\\\ppeng.com\\\\pzdata\\\\clients\\\\Tranquillity ID-1075\\\\Ongoing-1075\\\\140-District Boundaries\\\\146 Benchmarks - GPS Control\\\\2013-01 Control-Well Survey\\\\2022-07\\\\2022July-2013Elevation_comparison.xls&quot;}, &quot;type&quot;: &quot;Feature&quot;}, {&quot;bbox&quot;: [-120.25238293805556, 36.65129153583333, -120.25238293805556, 36.65129153583333], &quot;geometry&quot;: {&quot;coordinates&quot;: [-120.25238293805556, 36.65129153583333], &quot;type&quot;: &quot;Point&quot;}, &quot;id&quot;: &quot;43&quot;, &quot;properties&quot;: {&quot;easting&quot;: 6194298.9745, &quot;elevation&quot;: 161.1494, &quot;index_elevation&quot;: 145, &quot;index_point&quot;: 2, &quot;lat&quot;: 36.65129153583333, &quot;latitude&quot;: &quot;36 39 04.649529 N&quot;, &quot;lon&quot;: -120.25238293805556, &quot;longitude&quot;: &quot;120 15 08.578577 W&quot;, &quot;northing&quot;: 2122609.449, &quot;notes&quot;: &quot;FD_MAG_NAIL&quot;, &quot;point_id&quot;: &quot;MW-19B&quot;, &quot;point_number&quot;: 109.0, &quot;source_elevation&quot;: &quot;\\\\\\\\ppeng.com\\\\pzdata\\\\clients\\\\Tranquillity ID-1075\\\\Ongoing-1075\\\\140-District Boundaries\\\\146 Benchmarks - GPS Control\\\\2013-01 Control-Well Survey\\\\2022-07\\\\2022July-2013Elevation_comparison.xls&quot;, &quot;source_point&quot;: &quot;\\\\\\\\ppeng.com\\\\pzdata\\\\clients\\\\Tranquillity ID-1075\\\\Ongoing-1075\\\\140-District Boundaries\\\\146 Benchmarks - GPS Control\\\\2013-01 Control-Well Survey\\\\2022-07\\\\2022July-2013Elevation_comparison.xls&quot;}, &quot;type&quot;: &quot;Feature&quot;}, {&quot;bbox&quot;: [-120.25238293805556, 36.65129153583333, -120.25238293805556, 36.65129153583333], &quot;geometry&quot;: {&quot;coordinates&quot;: [-120.25238293805556, 36.65129153583333], &quot;type&quot;: &quot;Point&quot;}, &quot;id&quot;: &quot;44&quot;, &quot;properties&quot;: {&quot;easting&quot;: 6194298.9745, &quot;elevation&quot;: 161.29, &quot;index_elevation&quot;: 156, &quot;index_point&quot;: 2, &quot;lat&quot;: 36.65129153583333, &quot;latitude&quot;: &quot;36 39 04.649529 N&quot;, &quot;lon&quot;: -120.25238293805556, &quot;longitude&quot;: &quot;120 15 08.578577 W&quot;, &quot;northing&quot;: 2122609.449, &quot;notes&quot;: &quot;FD_MAG_NAIL&quot;, &quot;point_id&quot;: &quot;MW-19B&quot;, &quot;point_number&quot;: 109.0, &quot;source_elevation&quot;: &quot;\\\\\\\\ppeng.com\\\\pzdata\\\\clients\\\\Tranquillity ID-1075\\\\Ongoing-1075\\\\140-District Boundaries\\\\146 Benchmarks - GPS Control\\\\2013-01 Control-Well Survey\\\\2022-07\\\\2022July-2013Elevation_comparison.xls&quot;, &quot;source_point&quot;: &quot;\\\\\\\\ppeng.com\\\\pzdata\\\\clients\\\\Tranquillity ID-1075\\\\Ongoing-1075\\\\140-District Boundaries\\\\146 Benchmarks - GPS Control\\\\2013-01 Control-Well Survey\\\\2022-07\\\\2022July-2013Elevation_comparison.xls&quot;}, &quot;type&quot;: &quot;Feature&quot;}, {&quot;bbox&quot;: [-120.23194794083334, 36.60278699944445, -120.23194794083334, 36.60278699944445], &quot;geometry&quot;: {&quot;coordinates&quot;: [-120.23194794083334, 36.60278699944445], &quot;type&quot;: &quot;Point&quot;}, &quot;id&quot;: &quot;45&quot;, &quot;properties&quot;: {&quot;easting&quot;: 6200066.4354, &quot;elevation&quot;: 169.19, &quot;index_elevation&quot;: 3, &quot;index_point&quot;: 3, &quot;lat&quot;: 36.60278699944445, &quot;latitude&quot;: &quot;36 36 10.033198 N&quot;, &quot;lon&quot;: -120.23194794083334, &quot;longitude&quot;: &quot;120 13 55.012587 W&quot;, &quot;northing&quot;: 2104875.0673, &quot;notes&quot;: &quot;FD_MAG_NAIL&quot;, &quot;point_id&quot;: &quot;MW-TW3&quot;, &quot;point_number&quot;: 101.0, &quot;source_elevation&quot;: &quot;\\\\\\\\ppeng.com\\\\pzdata\\\\clients\\\\Tranquillity ID-1075\\\\Ongoing-1075\\\\140-District Boundaries\\\\146 Benchmarks - GPS Control\\\\2013-01 Control-Well Survey\\\\2022-07\\\\2022July-2013Elevation_comparison.xls&quot;, &quot;source_point&quot;: &quot;\\\\\\\\ppeng.com\\\\pzdata\\\\clients\\\\Tranquillity ID-1075\\\\Ongoing-1075\\\\140-District Boundaries\\\\146 Benchmarks - GPS Control\\\\2013-01 Control-Well Survey\\\\2022-07\\\\2022July-2013Elevation_comparison.xls&quot;}, &quot;type&quot;: &quot;Feature&quot;}, {&quot;bbox&quot;: [-120.23194794083334, 36.60278699944445, -120.23194794083334, 36.60278699944445], &quot;geometry&quot;: {&quot;coordinates&quot;: [-120.23194794083334, 36.60278699944445], &quot;type&quot;: &quot;Point&quot;}, &quot;id&quot;: &quot;46&quot;, &quot;properties&quot;: {&quot;easting&quot;: 6200066.4354, &quot;elevation&quot;: 169.15, &quot;index_elevation&quot;: 14, &quot;index_point&quot;: 3, &quot;lat&quot;: 36.60278699944445, &quot;latitude&quot;: &quot;36 36 10.033198 N&quot;, &quot;lon&quot;: -120.23194794083334, &quot;longitude&quot;: &quot;120 13 55.012587 W&quot;, &quot;northing&quot;: 2104875.0673, &quot;notes&quot;: &quot;FD_MAG_NAIL&quot;, &quot;point_id&quot;: &quot;MW-TW3&quot;, &quot;point_number&quot;: 101.0, &quot;source_elevation&quot;: &quot;\\\\\\\\ppeng.com\\\\pzdata\\\\clients\\\\Tranquillity ID-1075\\\\Ongoing-1075\\\\140-District Boundaries\\\\146 Benchmarks - GPS Control\\\\2013-01 Control-Well Survey\\\\2022-07\\\\2022July-2013Elevation_comparison.xls&quot;, &quot;source_point&quot;: &quot;\\\\\\\\ppeng.com\\\\pzdata\\\\clients\\\\Tranquillity ID-1075\\\\Ongoing-1075\\\\140-District Boundaries\\\\146 Benchmarks - GPS Control\\\\2013-01 Control-Well Survey\\\\2022-07\\\\2022July-2013Elevation_comparison.xls&quot;}, &quot;type&quot;: &quot;Feature&quot;}, {&quot;bbox&quot;: [-120.23194794083334, 36.60278699944445, -120.23194794083334, 36.60278699944445], &quot;geometry&quot;: {&quot;coordinates&quot;: [-120.23194794083334, 36.60278699944445], &quot;type&quot;: &quot;Point&quot;}, &quot;id&quot;: &quot;47&quot;, &quot;properties&quot;: {&quot;easting&quot;: 6200066.4354, &quot;elevation&quot;: 169.23, &quot;index_elevation&quot;: 25, &quot;index_point&quot;: 3, &quot;lat&quot;: 36.60278699944445, &quot;latitude&quot;: &quot;36 36 10.033198 N&quot;, &quot;lon&quot;: -120.23194794083334, &quot;longitude&quot;: &quot;120 13 55.012587 W&quot;, &quot;northing&quot;: 2104875.0673, &quot;notes&quot;: &quot;FD_MAG_NAIL&quot;, &quot;point_id&quot;: &quot;MW-TW3&quot;, &quot;point_number&quot;: 101.0, &quot;source_elevation&quot;: &quot;\\\\\\\\ppeng.com\\\\pzdata\\\\clients\\\\Tranquillity ID-1075\\\\Ongoing-1075\\\\140-District Boundaries\\\\146 Benchmarks - GPS Control\\\\2013-01 Control-Well Survey\\\\2022-07\\\\2022July-2013Elevation_comparison.xls&quot;, &quot;source_point&quot;: &quot;\\\\\\\\ppeng.com\\\\pzdata\\\\clients\\\\Tranquillity ID-1075\\\\Ongoing-1075\\\\140-District Boundaries\\\\146 Benchmarks - GPS Control\\\\2013-01 Control-Well Survey\\\\2022-07\\\\2022July-2013Elevation_comparison.xls&quot;}, &quot;type&quot;: &quot;Feature&quot;}, {&quot;bbox&quot;: [-120.23194794083334, 36.60278699944445, -120.23194794083334, 36.60278699944445], &quot;geometry&quot;: {&quot;coordinates&quot;: [-120.23194794083334, 36.60278699944445], &quot;type&quot;: &quot;Point&quot;}, &quot;id&quot;: &quot;48&quot;, &quot;properties&quot;: {&quot;easting&quot;: 6200066.4354, &quot;elevation&quot;: 169.35, &quot;index_elevation&quot;: 36, &quot;index_point&quot;: 3, &quot;lat&quot;: 36.60278699944445, &quot;latitude&quot;: &quot;36 36 10.033198 N&quot;, &quot;lon&quot;: -120.23194794083334, &quot;longitude&quot;: &quot;120 13 55.012587 W&quot;, &quot;northing&quot;: 2104875.0673, &quot;notes&quot;: &quot;FD_MAG_NAIL&quot;, &quot;point_id&quot;: &quot;MW-TW3&quot;, &quot;point_number&quot;: 101.0, &quot;source_elevation&quot;: &quot;\\\\\\\\ppeng.com\\\\pzdata\\\\clients\\\\Tranquillity ID-1075\\\\Ongoing-1075\\\\140-District Boundaries\\\\146 Benchmarks - GPS Control\\\\2013-01 Control-Well Survey\\\\2022-07\\\\2022July-2013Elevation_comparison.xls&quot;, &quot;source_point&quot;: &quot;\\\\\\\\ppeng.com\\\\pzdata\\\\clients\\\\Tranquillity ID-1075\\\\Ongoing-1075\\\\140-District Boundaries\\\\146 Benchmarks - GPS Control\\\\2013-01 Control-Well Survey\\\\2022-07\\\\2022July-2013Elevation_comparison.xls&quot;}, &quot;type&quot;: &quot;Feature&quot;}, {&quot;bbox&quot;: [-120.23194794083334, 36.60278699944445, -120.23194794083334, 36.60278699944445], &quot;geometry&quot;: {&quot;coordinates&quot;: [-120.23194794083334, 36.60278699944445], &quot;type&quot;: &quot;Point&quot;}, &quot;id&quot;: &quot;49&quot;, &quot;properties&quot;: {&quot;easting&quot;: 6200066.4354, &quot;elevation&quot;: 169.53, &quot;index_elevation&quot;: 47, &quot;index_point&quot;: 3, &quot;lat&quot;: 36.60278699944445, &quot;latitude&quot;: &quot;36 36 10.033198 N&quot;, &quot;lon&quot;: -120.23194794083334, &quot;longitude&quot;: &quot;120 13 55.012587 W&quot;, &quot;northing&quot;: 2104875.0673, &quot;notes&quot;: &quot;FD_MAG_NAIL&quot;, &quot;point_id&quot;: &quot;MW-TW3&quot;, &quot;point_number&quot;: 101.0, &quot;source_elevation&quot;: &quot;\\\\\\\\ppeng.com\\\\pzdata\\\\clients\\\\Tranquillity ID-1075\\\\Ongoing-1075\\\\140-District Boundaries\\\\146 Benchmarks - GPS Control\\\\2013-01 Control-Well Survey\\\\2022-07\\\\2022July-2013Elevation_comparison.xls&quot;, &quot;source_point&quot;: &quot;\\\\\\\\ppeng.com\\\\pzdata\\\\clients\\\\Tranquillity ID-1075\\\\Ongoing-1075\\\\140-District Boundaries\\\\146 Benchmarks - GPS Control\\\\2013-01 Control-Well Survey\\\\2022-07\\\\2022July-2013Elevation_comparison.xls&quot;}, &quot;type&quot;: &quot;Feature&quot;}, {&quot;bbox&quot;: [-120.23194794083334, 36.60278699944445, -120.23194794083334, 36.60278699944445], &quot;geometry&quot;: {&quot;coordinates&quot;: [-120.23194794083334, 36.60278699944445], &quot;type&quot;: &quot;Point&quot;}, &quot;id&quot;: &quot;50&quot;, &quot;properties&quot;: {&quot;easting&quot;: 6200066.4354, &quot;elevation&quot;: 169.55, &quot;index_elevation&quot;: 58, &quot;index_point&quot;: 3, &quot;lat&quot;: 36.60278699944445, &quot;latitude&quot;: &quot;36 36 10.033198 N&quot;, &quot;lon&quot;: -120.23194794083334, &quot;longitude&quot;: &quot;120 13 55.012587 W&quot;, &quot;northing&quot;: 2104875.0673, &quot;notes&quot;: &quot;FD_MAG_NAIL&quot;, &quot;point_id&quot;: &quot;MW-TW3&quot;, &quot;point_number&quot;: 101.0, &quot;source_elevation&quot;: &quot;\\\\\\\\ppeng.com\\\\pzdata\\\\clients\\\\Tranquillity ID-1075\\\\Ongoing-1075\\\\140-District Boundaries\\\\146 Benchmarks - GPS Control\\\\2013-01 Control-Well Survey\\\\2022-07\\\\2022July-2013Elevation_comparison.xls&quot;, &quot;source_point&quot;: &quot;\\\\\\\\ppeng.com\\\\pzdata\\\\clients\\\\Tranquillity ID-1075\\\\Ongoing-1075\\\\140-District Boundaries\\\\146 Benchmarks - GPS Control\\\\2013-01 Control-Well Survey\\\\2022-07\\\\2022July-2013Elevation_comparison.xls&quot;}, &quot;type&quot;: &quot;Feature&quot;}, {&quot;bbox&quot;: [-120.23194794083334, 36.60278699944445, -120.23194794083334, 36.60278699944445], &quot;geometry&quot;: {&quot;coordinates&quot;: [-120.23194794083334, 36.60278699944445], &quot;type&quot;: &quot;Point&quot;}, &quot;id&quot;: &quot;51&quot;, &quot;properties&quot;: {&quot;easting&quot;: 6200066.4354, &quot;elevation&quot;: 169.67, &quot;index_elevation&quot;: 69, &quot;index_point&quot;: 3, &quot;lat&quot;: 36.60278699944445, &quot;latitude&quot;: &quot;36 36 10.033198 N&quot;, &quot;lon&quot;: -120.23194794083334, &quot;longitude&quot;: &quot;120 13 55.012587 W&quot;, &quot;northing&quot;: 2104875.0673, &quot;notes&quot;: &quot;FD_MAG_NAIL&quot;, &quot;point_id&quot;: &quot;MW-TW3&quot;, &quot;point_number&quot;: 101.0, &quot;source_elevation&quot;: &quot;\\\\\\\\ppeng.com\\\\pzdata\\\\clients\\\\Tranquillity ID-1075\\\\Ongoing-1075\\\\140-District Boundaries\\\\146 Benchmarks - GPS Control\\\\2013-01 Control-Well Survey\\\\2022-07\\\\2022July-2013Elevation_comparison.xls&quot;, &quot;source_point&quot;: &quot;\\\\\\\\ppeng.com\\\\pzdata\\\\clients\\\\Tranquillity ID-1075\\\\Ongoing-1075\\\\140-District Boundaries\\\\146 Benchmarks - GPS Control\\\\2013-01 Control-Well Survey\\\\2022-07\\\\2022July-2013Elevation_comparison.xls&quot;}, &quot;type&quot;: &quot;Feature&quot;}, {&quot;bbox&quot;: [-120.23194794083334, 36.60278699944445, -120.23194794083334, 36.60278699944445], &quot;geometry&quot;: {&quot;coordinates&quot;: [-120.23194794083334, 36.60278699944445], &quot;type&quot;: &quot;Point&quot;}, &quot;id&quot;: &quot;52&quot;, &quot;properties&quot;: {&quot;easting&quot;: 6200066.4354, &quot;elevation&quot;: 169.49, &quot;index_elevation&quot;: 80, &quot;index_point&quot;: 3, &quot;lat&quot;: 36.60278699944445, &quot;latitude&quot;: &quot;36 36 10.033198 N&quot;, &quot;lon&quot;: -120.23194794083334, &quot;longitude&quot;: &quot;120 13 55.012587 W&quot;, &quot;northing&quot;: 2104875.0673, &quot;notes&quot;: &quot;FD_MAG_NAIL&quot;, &quot;point_id&quot;: &quot;MW-TW3&quot;, &quot;point_number&quot;: 101.0, &quot;source_elevation&quot;: &quot;\\\\\\\\ppeng.com\\\\pzdata\\\\clients\\\\Tranquillity ID-1075\\\\Ongoing-1075\\\\140-District Boundaries\\\\146 Benchmarks - GPS Control\\\\2013-01 Control-Well Survey\\\\2022-07\\\\2022July-2013Elevation_comparison.xls&quot;, &quot;source_point&quot;: &quot;\\\\\\\\ppeng.com\\\\pzdata\\\\clients\\\\Tranquillity ID-1075\\\\Ongoing-1075\\\\140-District Boundaries\\\\146 Benchmarks - GPS Control\\\\2013-01 Control-Well Survey\\\\2022-07\\\\2022July-2013Elevation_comparison.xls&quot;}, &quot;type&quot;: &quot;Feature&quot;}, {&quot;bbox&quot;: [-120.23194794083334, 36.60278699944445, -120.23194794083334, 36.60278699944445], &quot;geometry&quot;: {&quot;coordinates&quot;: [-120.23194794083334, 36.60278699944445], &quot;type&quot;: &quot;Point&quot;}, &quot;id&quot;: &quot;53&quot;, &quot;properties&quot;: {&quot;easting&quot;: 6200066.4354, &quot;elevation&quot;: 169.67, &quot;index_elevation&quot;: 91, &quot;index_point&quot;: 3, &quot;lat&quot;: 36.60278699944445, &quot;latitude&quot;: &quot;36 36 10.033198 N&quot;, &quot;lon&quot;: -120.23194794083334, &quot;longitude&quot;: &quot;120 13 55.012587 W&quot;, &quot;northing&quot;: 2104875.0673, &quot;notes&quot;: &quot;FD_MAG_NAIL&quot;, &quot;point_id&quot;: &quot;MW-TW3&quot;, &quot;point_number&quot;: 101.0, &quot;source_elevation&quot;: &quot;\\\\\\\\ppeng.com\\\\pzdata\\\\clients\\\\Tranquillity ID-1075\\\\Ongoing-1075\\\\140-District Boundaries\\\\146 Benchmarks - GPS Control\\\\2013-01 Control-Well Survey\\\\2022-07\\\\2022July-2013Elevation_comparison.xls&quot;, &quot;source_point&quot;: &quot;\\\\\\\\ppeng.com\\\\pzdata\\\\clients\\\\Tranquillity ID-1075\\\\Ongoing-1075\\\\140-District Boundaries\\\\146 Benchmarks - GPS Control\\\\2013-01 Control-Well Survey\\\\2022-07\\\\2022July-2013Elevation_comparison.xls&quot;}, &quot;type&quot;: &quot;Feature&quot;}, {&quot;bbox&quot;: [-120.23194794083334, 36.60278699944445, -120.23194794083334, 36.60278699944445], &quot;geometry&quot;: {&quot;coordinates&quot;: [-120.23194794083334, 36.60278699944445], &quot;type&quot;: &quot;Point&quot;}, &quot;id&quot;: &quot;54&quot;, &quot;properties&quot;: {&quot;easting&quot;: 6200066.4354, &quot;elevation&quot;: 169.61, &quot;index_elevation&quot;: 102, &quot;index_point&quot;: 3, &quot;lat&quot;: 36.60278699944445, &quot;latitude&quot;: &quot;36 36 10.033198 N&quot;, &quot;lon&quot;: -120.23194794083334, &quot;longitude&quot;: &quot;120 13 55.012587 W&quot;, &quot;northing&quot;: 2104875.0673, &quot;notes&quot;: &quot;FD_MAG_NAIL&quot;, &quot;point_id&quot;: &quot;MW-TW3&quot;, &quot;point_number&quot;: 101.0, &quot;source_elevation&quot;: &quot;\\\\\\\\ppeng.com\\\\pzdata\\\\clients\\\\Tranquillity ID-1075\\\\Ongoing-1075\\\\140-District Boundaries\\\\146 Benchmarks - GPS Control\\\\2013-01 Control-Well Survey\\\\2022-07\\\\2022July-2013Elevation_comparison.xls&quot;, &quot;source_point&quot;: &quot;\\\\\\\\ppeng.com\\\\pzdata\\\\clients\\\\Tranquillity ID-1075\\\\Ongoing-1075\\\\140-District Boundaries\\\\146 Benchmarks - GPS Control\\\\2013-01 Control-Well Survey\\\\2022-07\\\\2022July-2013Elevation_comparison.xls&quot;}, &quot;type&quot;: &quot;Feature&quot;}, {&quot;bbox&quot;: [-120.23194794083334, 36.60278699944445, -120.23194794083334, 36.60278699944445], &quot;geometry&quot;: {&quot;coordinates&quot;: [-120.23194794083334, 36.60278699944445], &quot;type&quot;: &quot;Point&quot;}, &quot;id&quot;: &quot;55&quot;, &quot;properties&quot;: {&quot;easting&quot;: 6200066.4354, &quot;elevation&quot;: 169.6449, &quot;index_elevation&quot;: 113, &quot;index_point&quot;: 3, &quot;lat&quot;: 36.60278699944445, &quot;latitude&quot;: &quot;36 36 10.033198 N&quot;, &quot;lon&quot;: -120.23194794083334, &quot;longitude&quot;: &quot;120 13 55.012587 W&quot;, &quot;northing&quot;: 2104875.0673, &quot;notes&quot;: &quot;FD_MAG_NAIL&quot;, &quot;point_id&quot;: &quot;MW-TW3&quot;, &quot;point_number&quot;: 101.0, &quot;source_elevation&quot;: &quot;\\\\\\\\ppeng.com\\\\pzdata\\\\clients\\\\Tranquillity ID-1075\\\\Ongoing-1075\\\\140-District Boundaries\\\\146 Benchmarks - GPS Control\\\\2013-01 Control-Well Survey\\\\2022-07\\\\2022July-2013Elevation_comparison.xls&quot;, &quot;source_point&quot;: &quot;\\\\\\\\ppeng.com\\\\pzdata\\\\clients\\\\Tranquillity ID-1075\\\\Ongoing-1075\\\\140-District Boundaries\\\\146 Benchmarks - GPS Control\\\\2013-01 Control-Well Survey\\\\2022-07\\\\2022July-2013Elevation_comparison.xls&quot;}, &quot;type&quot;: &quot;Feature&quot;}, {&quot;bbox&quot;: [-120.23194794083334, 36.60278699944445, -120.23194794083334, 36.60278699944445], &quot;geometry&quot;: {&quot;coordinates&quot;: [-120.23194794083334, 36.60278699944445], &quot;type&quot;: &quot;Point&quot;}, &quot;id&quot;: &quot;56&quot;, &quot;properties&quot;: {&quot;easting&quot;: 6200066.4354, &quot;elevation&quot;: 170.52, &quot;index_elevation&quot;: 124, &quot;index_point&quot;: 3, &quot;lat&quot;: 36.60278699944445, &quot;latitude&quot;: &quot;36 36 10.033198 N&quot;, &quot;lon&quot;: -120.23194794083334, &quot;longitude&quot;: &quot;120 13 55.012587 W&quot;, &quot;northing&quot;: 2104875.0673, &quot;notes&quot;: &quot;FD_MAG_NAIL&quot;, &quot;point_id&quot;: &quot;MW-TW3&quot;, &quot;point_number&quot;: 101.0, &quot;source_elevation&quot;: &quot;\\\\\\\\ppeng.com\\\\pzdata\\\\clients\\\\Tranquillity ID-1075\\\\Ongoing-1075\\\\140-District Boundaries\\\\146 Benchmarks - GPS Control\\\\2013-01 Control-Well Survey\\\\2022-07\\\\2022July-2013Elevation_comparison.xls&quot;, &quot;source_point&quot;: &quot;\\\\\\\\ppeng.com\\\\pzdata\\\\clients\\\\Tranquillity ID-1075\\\\Ongoing-1075\\\\140-District Boundaries\\\\146 Benchmarks - GPS Control\\\\2013-01 Control-Well Survey\\\\2022-07\\\\2022July-2013Elevation_comparison.xls&quot;}, &quot;type&quot;: &quot;Feature&quot;}, {&quot;bbox&quot;: [-120.23194794083334, 36.60278699944445, -120.23194794083334, 36.60278699944445], &quot;geometry&quot;: {&quot;coordinates&quot;: [-120.23194794083334, 36.60278699944445], &quot;type&quot;: &quot;Point&quot;}, &quot;id&quot;: &quot;57&quot;, &quot;properties&quot;: {&quot;easting&quot;: 6200066.4354, &quot;elevation&quot;: 170.64, &quot;index_elevation&quot;: 135, &quot;index_point&quot;: 3, &quot;lat&quot;: 36.60278699944445, &quot;latitude&quot;: &quot;36 36 10.033198 N&quot;, &quot;lon&quot;: -120.23194794083334, &quot;longitude&quot;: &quot;120 13 55.012587 W&quot;, &quot;northing&quot;: 2104875.0673, &quot;notes&quot;: &quot;FD_MAG_NAIL&quot;, &quot;point_id&quot;: &quot;MW-TW3&quot;, &quot;point_number&quot;: 101.0, &quot;source_elevation&quot;: &quot;\\\\\\\\ppeng.com\\\\pzdata\\\\clients\\\\Tranquillity ID-1075\\\\Ongoing-1075\\\\140-District Boundaries\\\\146 Benchmarks - GPS Control\\\\2013-01 Control-Well Survey\\\\2022-07\\\\2022July-2013Elevation_comparison.xls&quot;, &quot;source_point&quot;: &quot;\\\\\\\\ppeng.com\\\\pzdata\\\\clients\\\\Tranquillity ID-1075\\\\Ongoing-1075\\\\140-District Boundaries\\\\146 Benchmarks - GPS Control\\\\2013-01 Control-Well Survey\\\\2022-07\\\\2022July-2013Elevation_comparison.xls&quot;}, &quot;type&quot;: &quot;Feature&quot;}, {&quot;bbox&quot;: [-120.23194794083334, 36.60278699944445, -120.23194794083334, 36.60278699944445], &quot;geometry&quot;: {&quot;coordinates&quot;: [-120.23194794083334, 36.60278699944445], &quot;type&quot;: &quot;Point&quot;}, &quot;id&quot;: &quot;58&quot;, &quot;properties&quot;: {&quot;easting&quot;: 6200066.4354, &quot;elevation&quot;: 170.78, &quot;index_elevation&quot;: 146, &quot;index_point&quot;: 3, &quot;lat&quot;: 36.60278699944445, &quot;latitude&quot;: &quot;36 36 10.033198 N&quot;, &quot;lon&quot;: -120.23194794083334, &quot;longitude&quot;: &quot;120 13 55.012587 W&quot;, &quot;northing&quot;: 2104875.0673, &quot;notes&quot;: &quot;FD_MAG_NAIL&quot;, &quot;point_id&quot;: &quot;MW-TW3&quot;, &quot;point_number&quot;: 101.0, &quot;source_elevation&quot;: &quot;\\\\\\\\ppeng.com\\\\pzdata\\\\clients\\\\Tranquillity ID-1075\\\\Ongoing-1075\\\\140-District Boundaries\\\\146 Benchmarks - GPS Control\\\\2013-01 Control-Well Survey\\\\2022-07\\\\2022July-2013Elevation_comparison.xls&quot;, &quot;source_point&quot;: &quot;\\\\\\\\ppeng.com\\\\pzdata\\\\clients\\\\Tranquillity ID-1075\\\\Ongoing-1075\\\\140-District Boundaries\\\\146 Benchmarks - GPS Control\\\\2013-01 Control-Well Survey\\\\2022-07\\\\2022July-2013Elevation_comparison.xls&quot;}, &quot;type&quot;: &quot;Feature&quot;}, {&quot;bbox&quot;: [-120.23194794083334, 36.60278699944445, -120.23194794083334, 36.60278699944445], &quot;geometry&quot;: {&quot;coordinates&quot;: [-120.23194794083334, 36.60278699944445], &quot;type&quot;: &quot;Point&quot;}, &quot;id&quot;: &quot;59&quot;, &quot;properties&quot;: {&quot;easting&quot;: 6200066.4354, &quot;elevation&quot;: 170.65, &quot;index_elevation&quot;: 157, &quot;index_point&quot;: 3, &quot;lat&quot;: 36.60278699944445, &quot;latitude&quot;: &quot;36 36 10.033198 N&quot;, &quot;lon&quot;: -120.23194794083334, &quot;longitude&quot;: &quot;120 13 55.012587 W&quot;, &quot;northing&quot;: 2104875.0673, &quot;notes&quot;: &quot;FD_MAG_NAIL&quot;, &quot;point_id&quot;: &quot;MW-TW3&quot;, &quot;point_number&quot;: 101.0, &quot;source_elevation&quot;: &quot;\\\\\\\\ppeng.com\\\\pzdata\\\\clients\\\\Tranquillity ID-1075\\\\Ongoing-1075\\\\140-District Boundaries\\\\146 Benchmarks - GPS Control\\\\2013-01 Control-Well Survey\\\\2022-07\\\\2022July-2013Elevation_comparison.xls&quot;, &quot;source_point&quot;: &quot;\\\\\\\\ppeng.com\\\\pzdata\\\\clients\\\\Tranquillity ID-1075\\\\Ongoing-1075\\\\140-District Boundaries\\\\146 Benchmarks - GPS Control\\\\2013-01 Control-Well Survey\\\\2022-07\\\\2022July-2013Elevation_comparison.xls&quot;}, &quot;type&quot;: &quot;Feature&quot;}, {&quot;bbox&quot;: [-120.24110910861111, 36.66158279611111, -120.24110910861111, 36.66158279611111], &quot;geometry&quot;: {&quot;coordinates&quot;: [-120.24110910861111, 36.66158279611111], &quot;type&quot;: &quot;Point&quot;}, &quot;id&quot;: &quot;60&quot;, &quot;properties&quot;: {&quot;easting&quot;: 6197654.2136, &quot;elevation&quot;: 159.96, &quot;index_elevation&quot;: 4, &quot;index_point&quot;: 4, &quot;lat&quot;: 36.66158279611111, &quot;latitude&quot;: &quot;36 39 41.698066 N&quot;, &quot;lon&quot;: -120.24110910861111, &quot;longitude&quot;: &quot;120 14 27.992791 W&quot;, &quot;northing&quot;: 2126312.8065, &quot;notes&quot;: null, &quot;point_id&quot;: &quot;TID A&quot;, &quot;point_number&quot;: 120.0, &quot;source_elevation&quot;: &quot;\\\\\\\\ppeng.com\\\\pzdata\\\\clients\\\\Tranquillity ID-1075\\\\Ongoing-1075\\\\140-District Boundaries\\\\146 Benchmarks - GPS Control\\\\2013-01 Control-Well Survey\\\\2022-07\\\\2022July-2013Elevation_comparison.xls&quot;, &quot;source_point&quot;: &quot;\\\\\\\\ppeng.com\\\\pzdata\\\\clients\\\\Tranquillity ID-1075\\\\Ongoing-1075\\\\140-District Boundaries\\\\146 Benchmarks - GPS Control\\\\2013-01 Control-Well Survey\\\\2022-07\\\\2022July-2013Elevation_comparison.xls&quot;}, &quot;type&quot;: &quot;Feature&quot;}, {&quot;bbox&quot;: [-120.24110910861111, 36.66158279611111, -120.24110910861111, 36.66158279611111], &quot;geometry&quot;: {&quot;coordinates&quot;: [-120.24110910861111, 36.66158279611111], &quot;type&quot;: &quot;Point&quot;}, &quot;id&quot;: &quot;61&quot;, &quot;properties&quot;: {&quot;easting&quot;: 6197654.2136, &quot;elevation&quot;: 160.1434, &quot;index_elevation&quot;: 15, &quot;index_point&quot;: 4, &quot;lat&quot;: 36.66158279611111, &quot;latitude&quot;: &quot;36 39 41.698066 N&quot;, &quot;lon&quot;: -120.24110910861111, &quot;longitude&quot;: &quot;120 14 27.992791 W&quot;, &quot;northing&quot;: 2126312.8065, &quot;notes&quot;: null, &quot;point_id&quot;: &quot;TID A&quot;, &quot;point_number&quot;: 120.0, &quot;source_elevation&quot;: &quot;\\\\\\\\ppeng.com\\\\pzdata\\\\clients\\\\Tranquillity ID-1075\\\\Ongoing-1075\\\\140-District Boundaries\\\\146 Benchmarks - GPS Control\\\\2013-01 Control-Well Survey\\\\2022-07\\\\2022July-2013Elevation_comparison.xls&quot;, &quot;source_point&quot;: &quot;\\\\\\\\ppeng.com\\\\pzdata\\\\clients\\\\Tranquillity ID-1075\\\\Ongoing-1075\\\\140-District Boundaries\\\\146 Benchmarks - GPS Control\\\\2013-01 Control-Well Survey\\\\2022-07\\\\2022July-2013Elevation_comparison.xls&quot;}, &quot;type&quot;: &quot;Feature&quot;}, {&quot;bbox&quot;: [-120.24110910861111, 36.66158279611111, -120.24110910861111, 36.66158279611111], &quot;geometry&quot;: {&quot;coordinates&quot;: [-120.24110910861111, 36.66158279611111], &quot;type&quot;: &quot;Point&quot;}, &quot;id&quot;: &quot;62&quot;, &quot;properties&quot;: {&quot;easting&quot;: 6197654.2136, &quot;elevation&quot;: 160.16, &quot;index_elevation&quot;: 26, &quot;index_point&quot;: 4, &quot;lat&quot;: 36.66158279611111, &quot;latitude&quot;: &quot;36 39 41.698066 N&quot;, &quot;lon&quot;: -120.24110910861111, &quot;longitude&quot;: &quot;120 14 27.992791 W&quot;, &quot;northing&quot;: 2126312.8065, &quot;notes&quot;: null, &quot;point_id&quot;: &quot;TID A&quot;, &quot;point_number&quot;: 120.0, &quot;source_elevation&quot;: &quot;\\\\\\\\ppeng.com\\\\pzdata\\\\clients\\\\Tranquillity ID-1075\\\\Ongoing-1075\\\\140-District Boundaries\\\\146 Benchmarks - GPS Control\\\\2013-01 Control-Well Survey\\\\2022-07\\\\2022July-2013Elevation_comparison.xls&quot;, &quot;source_point&quot;: &quot;\\\\\\\\ppeng.com\\\\pzdata\\\\clients\\\\Tranquillity ID-1075\\\\Ongoing-1075\\\\140-District Boundaries\\\\146 Benchmarks - GPS Control\\\\2013-01 Control-Well Survey\\\\2022-07\\\\2022July-2013Elevation_comparison.xls&quot;}, &quot;type&quot;: &quot;Feature&quot;}, {&quot;bbox&quot;: [-120.24110910861111, 36.66158279611111, -120.24110910861111, 36.66158279611111], &quot;geometry&quot;: {&quot;coordinates&quot;: [-120.24110910861111, 36.66158279611111], &quot;type&quot;: &quot;Point&quot;}, &quot;id&quot;: &quot;63&quot;, &quot;properties&quot;: {&quot;easting&quot;: 6197654.2136, &quot;elevation&quot;: 160.36, &quot;index_elevation&quot;: 37, &quot;index_point&quot;: 4, &quot;lat&quot;: 36.66158279611111, &quot;latitude&quot;: &quot;36 39 41.698066 N&quot;, &quot;lon&quot;: -120.24110910861111, &quot;longitude&quot;: &quot;120 14 27.992791 W&quot;, &quot;northing&quot;: 2126312.8065, &quot;notes&quot;: null, &quot;point_id&quot;: &quot;TID A&quot;, &quot;point_number&quot;: 120.0, &quot;source_elevation&quot;: &quot;\\\\\\\\ppeng.com\\\\pzdata\\\\clients\\\\Tranquillity ID-1075\\\\Ongoing-1075\\\\140-District Boundaries\\\\146 Benchmarks - GPS Control\\\\2013-01 Control-Well Survey\\\\2022-07\\\\2022July-2013Elevation_comparison.xls&quot;, &quot;source_point&quot;: &quot;\\\\\\\\ppeng.com\\\\pzdata\\\\clients\\\\Tranquillity ID-1075\\\\Ongoing-1075\\\\140-District Boundaries\\\\146 Benchmarks - GPS Control\\\\2013-01 Control-Well Survey\\\\2022-07\\\\2022July-2013Elevation_comparison.xls&quot;}, &quot;type&quot;: &quot;Feature&quot;}, {&quot;bbox&quot;: [-120.24110910861111, 36.66158279611111, -120.24110910861111, 36.66158279611111], &quot;geometry&quot;: {&quot;coordinates&quot;: [-120.24110910861111, 36.66158279611111], &quot;type&quot;: &quot;Point&quot;}, &quot;id&quot;: &quot;64&quot;, &quot;properties&quot;: {&quot;easting&quot;: 6197654.2136, &quot;elevation&quot;: 160.528, &quot;index_elevation&quot;: 48, &quot;index_point&quot;: 4, &quot;lat&quot;: 36.66158279611111, &quot;latitude&quot;: &quot;36 39 41.698066 N&quot;, &quot;lon&quot;: -120.24110910861111, &quot;longitude&quot;: &quot;120 14 27.992791 W&quot;, &quot;northing&quot;: 2126312.8065, &quot;notes&quot;: null, &quot;point_id&quot;: &quot;TID A&quot;, &quot;point_number&quot;: 120.0, &quot;source_elevation&quot;: &quot;\\\\\\\\ppeng.com\\\\pzdata\\\\clients\\\\Tranquillity ID-1075\\\\Ongoing-1075\\\\140-District Boundaries\\\\146 Benchmarks - GPS Control\\\\2013-01 Control-Well Survey\\\\2022-07\\\\2022July-2013Elevation_comparison.xls&quot;, &quot;source_point&quot;: &quot;\\\\\\\\ppeng.com\\\\pzdata\\\\clients\\\\Tranquillity ID-1075\\\\Ongoing-1075\\\\140-District Boundaries\\\\146 Benchmarks - GPS Control\\\\2013-01 Control-Well Survey\\\\2022-07\\\\2022July-2013Elevation_comparison.xls&quot;}, &quot;type&quot;: &quot;Feature&quot;}, {&quot;bbox&quot;: [-120.24110910861111, 36.66158279611111, -120.24110910861111, 36.66158279611111], &quot;geometry&quot;: {&quot;coordinates&quot;: [-120.24110910861111, 36.66158279611111], &quot;type&quot;: &quot;Point&quot;}, &quot;id&quot;: &quot;65&quot;, &quot;properties&quot;: {&quot;easting&quot;: 6197654.2136, &quot;elevation&quot;: 160.56, &quot;index_elevation&quot;: 59, &quot;index_point&quot;: 4, &quot;lat&quot;: 36.66158279611111, &quot;latitude&quot;: &quot;36 39 41.698066 N&quot;, &quot;lon&quot;: -120.24110910861111, &quot;longitude&quot;: &quot;120 14 27.992791 W&quot;, &quot;northing&quot;: 2126312.8065, &quot;notes&quot;: null, &quot;point_id&quot;: &quot;TID A&quot;, &quot;point_number&quot;: 120.0, &quot;source_elevation&quot;: &quot;\\\\\\\\ppeng.com\\\\pzdata\\\\clients\\\\Tranquillity ID-1075\\\\Ongoing-1075\\\\140-District Boundaries\\\\146 Benchmarks - GPS Control\\\\2013-01 Control-Well Survey\\\\2022-07\\\\2022July-2013Elevation_comparison.xls&quot;, &quot;source_point&quot;: &quot;\\\\\\\\ppeng.com\\\\pzdata\\\\clients\\\\Tranquillity ID-1075\\\\Ongoing-1075\\\\140-District Boundaries\\\\146 Benchmarks - GPS Control\\\\2013-01 Control-Well Survey\\\\2022-07\\\\2022July-2013Elevation_comparison.xls&quot;}, &quot;type&quot;: &quot;Feature&quot;}, {&quot;bbox&quot;: [-120.24110910861111, 36.66158279611111, -120.24110910861111, 36.66158279611111], &quot;geometry&quot;: {&quot;coordinates&quot;: [-120.24110910861111, 36.66158279611111], &quot;type&quot;: &quot;Point&quot;}, &quot;id&quot;: &quot;66&quot;, &quot;properties&quot;: {&quot;easting&quot;: 6197654.2136, &quot;elevation&quot;: 160.58, &quot;index_elevation&quot;: 70, &quot;index_point&quot;: 4, &quot;lat&quot;: 36.66158279611111, &quot;latitude&quot;: &quot;36 39 41.698066 N&quot;, &quot;lon&quot;: -120.24110910861111, &quot;longitude&quot;: &quot;120 14 27.992791 W&quot;, &quot;northing&quot;: 2126312.8065, &quot;notes&quot;: null, &quot;point_id&quot;: &quot;TID A&quot;, &quot;point_number&quot;: 120.0, &quot;source_elevation&quot;: &quot;\\\\\\\\ppeng.com\\\\pzdata\\\\clients\\\\Tranquillity ID-1075\\\\Ongoing-1075\\\\140-District Boundaries\\\\146 Benchmarks - GPS Control\\\\2013-01 Control-Well Survey\\\\2022-07\\\\2022July-2013Elevation_comparison.xls&quot;, &quot;source_point&quot;: &quot;\\\\\\\\ppeng.com\\\\pzdata\\\\clients\\\\Tranquillity ID-1075\\\\Ongoing-1075\\\\140-District Boundaries\\\\146 Benchmarks - GPS Control\\\\2013-01 Control-Well Survey\\\\2022-07\\\\2022July-2013Elevation_comparison.xls&quot;}, &quot;type&quot;: &quot;Feature&quot;}, {&quot;bbox&quot;: [-120.24110910861111, 36.66158279611111, -120.24110910861111, 36.66158279611111], &quot;geometry&quot;: {&quot;coordinates&quot;: [-120.24110910861111, 36.66158279611111], &quot;type&quot;: &quot;Point&quot;}, &quot;id&quot;: &quot;67&quot;, &quot;properties&quot;: {&quot;easting&quot;: 6197654.2136, &quot;elevation&quot;: 160.54, &quot;index_elevation&quot;: 81, &quot;index_point&quot;: 4, &quot;lat&quot;: 36.66158279611111, &quot;latitude&quot;: &quot;36 39 41.698066 N&quot;, &quot;lon&quot;: -120.24110910861111, &quot;longitude&quot;: &quot;120 14 27.992791 W&quot;, &quot;northing&quot;: 2126312.8065, &quot;notes&quot;: null, &quot;point_id&quot;: &quot;TID A&quot;, &quot;point_number&quot;: 120.0, &quot;source_elevation&quot;: &quot;\\\\\\\\ppeng.com\\\\pzdata\\\\clients\\\\Tranquillity ID-1075\\\\Ongoing-1075\\\\140-District Boundaries\\\\146 Benchmarks - GPS Control\\\\2013-01 Control-Well Survey\\\\2022-07\\\\2022July-2013Elevation_comparison.xls&quot;, &quot;source_point&quot;: &quot;\\\\\\\\ppeng.com\\\\pzdata\\\\clients\\\\Tranquillity ID-1075\\\\Ongoing-1075\\\\140-District Boundaries\\\\146 Benchmarks - GPS Control\\\\2013-01 Control-Well Survey\\\\2022-07\\\\2022July-2013Elevation_comparison.xls&quot;}, &quot;type&quot;: &quot;Feature&quot;}, {&quot;bbox&quot;: [-120.24110910861111, 36.66158279611111, -120.24110910861111, 36.66158279611111], &quot;geometry&quot;: {&quot;coordinates&quot;: [-120.24110910861111, 36.66158279611111], &quot;type&quot;: &quot;Point&quot;}, &quot;id&quot;: &quot;68&quot;, &quot;properties&quot;: {&quot;easting&quot;: 6197654.2136, &quot;elevation&quot;: 160.69, &quot;index_elevation&quot;: 92, &quot;index_point&quot;: 4, &quot;lat&quot;: 36.66158279611111, &quot;latitude&quot;: &quot;36 39 41.698066 N&quot;, &quot;lon&quot;: -120.24110910861111, &quot;longitude&quot;: &quot;120 14 27.992791 W&quot;, &quot;northing&quot;: 2126312.8065, &quot;notes&quot;: null, &quot;point_id&quot;: &quot;TID A&quot;, &quot;point_number&quot;: 120.0, &quot;source_elevation&quot;: &quot;\\\\\\\\ppeng.com\\\\pzdata\\\\clients\\\\Tranquillity ID-1075\\\\Ongoing-1075\\\\140-District Boundaries\\\\146 Benchmarks - GPS Control\\\\2013-01 Control-Well Survey\\\\2022-07\\\\2022July-2013Elevation_comparison.xls&quot;, &quot;source_point&quot;: &quot;\\\\\\\\ppeng.com\\\\pzdata\\\\clients\\\\Tranquillity ID-1075\\\\Ongoing-1075\\\\140-District Boundaries\\\\146 Benchmarks - GPS Control\\\\2013-01 Control-Well Survey\\\\2022-07\\\\2022July-2013Elevation_comparison.xls&quot;}, &quot;type&quot;: &quot;Feature&quot;}, {&quot;bbox&quot;: [-120.24110910861111, 36.66158279611111, -120.24110910861111, 36.66158279611111], &quot;geometry&quot;: {&quot;coordinates&quot;: [-120.24110910861111, 36.66158279611111], &quot;type&quot;: &quot;Point&quot;}, &quot;id&quot;: &quot;69&quot;, &quot;properties&quot;: {&quot;easting&quot;: 6197654.2136, &quot;elevation&quot;: 160.64, &quot;index_elevation&quot;: 103, &quot;index_point&quot;: 4, &quot;lat&quot;: 36.66158279611111, &quot;latitude&quot;: &quot;36 39 41.698066 N&quot;, &quot;lon&quot;: -120.24110910861111, &quot;longitude&quot;: &quot;120 14 27.992791 W&quot;, &quot;northing&quot;: 2126312.8065, &quot;notes&quot;: null, &quot;point_id&quot;: &quot;TID A&quot;, &quot;point_number&quot;: 120.0, &quot;source_elevation&quot;: &quot;\\\\\\\\ppeng.com\\\\pzdata\\\\clients\\\\Tranquillity ID-1075\\\\Ongoing-1075\\\\140-District Boundaries\\\\146 Benchmarks - GPS Control\\\\2013-01 Control-Well Survey\\\\2022-07\\\\2022July-2013Elevation_comparison.xls&quot;, &quot;source_point&quot;: &quot;\\\\\\\\ppeng.com\\\\pzdata\\\\clients\\\\Tranquillity ID-1075\\\\Ongoing-1075\\\\140-District Boundaries\\\\146 Benchmarks - GPS Control\\\\2013-01 Control-Well Survey\\\\2022-07\\\\2022July-2013Elevation_comparison.xls&quot;}, &quot;type&quot;: &quot;Feature&quot;}, {&quot;bbox&quot;: [-120.24110910861111, 36.66158279611111, -120.24110910861111, 36.66158279611111], &quot;geometry&quot;: {&quot;coordinates&quot;: [-120.24110910861111, 36.66158279611111], &quot;type&quot;: &quot;Point&quot;}, &quot;id&quot;: &quot;70&quot;, &quot;properties&quot;: {&quot;easting&quot;: 6197654.2136, &quot;elevation&quot;: 160.75, &quot;index_elevation&quot;: 114, &quot;index_point&quot;: 4, &quot;lat&quot;: 36.66158279611111, &quot;latitude&quot;: &quot;36 39 41.698066 N&quot;, &quot;lon&quot;: -120.24110910861111, &quot;longitude&quot;: &quot;120 14 27.992791 W&quot;, &quot;northing&quot;: 2126312.8065, &quot;notes&quot;: null, &quot;point_id&quot;: &quot;TID A&quot;, &quot;point_number&quot;: 120.0, &quot;source_elevation&quot;: &quot;\\\\\\\\ppeng.com\\\\pzdata\\\\clients\\\\Tranquillity ID-1075\\\\Ongoing-1075\\\\140-District Boundaries\\\\146 Benchmarks - GPS Control\\\\2013-01 Control-Well Survey\\\\2022-07\\\\2022July-2013Elevation_comparison.xls&quot;, &quot;source_point&quot;: &quot;\\\\\\\\ppeng.com\\\\pzdata\\\\clients\\\\Tranquillity ID-1075\\\\Ongoing-1075\\\\140-District Boundaries\\\\146 Benchmarks - GPS Control\\\\2013-01 Control-Well Survey\\\\2022-07\\\\2022July-2013Elevation_comparison.xls&quot;}, &quot;type&quot;: &quot;Feature&quot;}, {&quot;bbox&quot;: [-120.24110910861111, 36.66158279611111, -120.24110910861111, 36.66158279611111], &quot;geometry&quot;: {&quot;coordinates&quot;: [-120.24110910861111, 36.66158279611111], &quot;type&quot;: &quot;Point&quot;}, &quot;id&quot;: &quot;71&quot;, &quot;properties&quot;: {&quot;easting&quot;: 6197654.2136, &quot;elevation&quot;: null, &quot;index_elevation&quot;: 125, &quot;index_point&quot;: 4, &quot;lat&quot;: 36.66158279611111, &quot;latitude&quot;: &quot;36 39 41.698066 N&quot;, &quot;lon&quot;: -120.24110910861111, &quot;longitude&quot;: &quot;120 14 27.992791 W&quot;, &quot;northing&quot;: 2126312.8065, &quot;notes&quot;: null, &quot;point_id&quot;: &quot;TID A&quot;, &quot;point_number&quot;: 120.0, &quot;source_elevation&quot;: &quot;\\\\\\\\ppeng.com\\\\pzdata\\\\clients\\\\Tranquillity ID-1075\\\\Ongoing-1075\\\\140-District Boundaries\\\\146 Benchmarks - GPS Control\\\\2013-01 Control-Well Survey\\\\2022-07\\\\2022July-2013Elevation_comparison.xls&quot;, &quot;source_point&quot;: &quot;\\\\\\\\ppeng.com\\\\pzdata\\\\clients\\\\Tranquillity ID-1075\\\\Ongoing-1075\\\\140-District Boundaries\\\\146 Benchmarks - GPS Control\\\\2013-01 Control-Well Survey\\\\2022-07\\\\2022July-2013Elevation_comparison.xls&quot;}, &quot;type&quot;: &quot;Feature&quot;}, {&quot;bbox&quot;: [-120.24110910861111, 36.66158279611111, -120.24110910861111, 36.66158279611111], &quot;geometry&quot;: {&quot;coordinates&quot;: [-120.24110910861111, 36.66158279611111], &quot;type&quot;: &quot;Point&quot;}, &quot;id&quot;: &quot;72&quot;, &quot;properties&quot;: {&quot;easting&quot;: 6197654.2136, &quot;elevation&quot;: null, &quot;index_elevation&quot;: 136, &quot;index_point&quot;: 4, &quot;lat&quot;: 36.66158279611111, &quot;latitude&quot;: &quot;36 39 41.698066 N&quot;, &quot;lon&quot;: -120.24110910861111, &quot;longitude&quot;: &quot;120 14 27.992791 W&quot;, &quot;northing&quot;: 2126312.8065, &quot;notes&quot;: null, &quot;point_id&quot;: &quot;TID A&quot;, &quot;point_number&quot;: 120.0, &quot;source_elevation&quot;: &quot;\\\\\\\\ppeng.com\\\\pzdata\\\\clients\\\\Tranquillity ID-1075\\\\Ongoing-1075\\\\140-District Boundaries\\\\146 Benchmarks - GPS Control\\\\2013-01 Control-Well Survey\\\\2022-07\\\\2022July-2013Elevation_comparison.xls&quot;, &quot;source_point&quot;: &quot;\\\\\\\\ppeng.com\\\\pzdata\\\\clients\\\\Tranquillity ID-1075\\\\Ongoing-1075\\\\140-District Boundaries\\\\146 Benchmarks - GPS Control\\\\2013-01 Control-Well Survey\\\\2022-07\\\\2022July-2013Elevation_comparison.xls&quot;}, &quot;type&quot;: &quot;Feature&quot;}, {&quot;bbox&quot;: [-120.24110910861111, 36.66158279611111, -120.24110910861111, 36.66158279611111], &quot;geometry&quot;: {&quot;coordinates&quot;: [-120.24110910861111, 36.66158279611111], &quot;type&quot;: &quot;Point&quot;}, &quot;id&quot;: &quot;73&quot;, &quot;properties&quot;: {&quot;easting&quot;: 6197654.2136, &quot;elevation&quot;: null, &quot;index_elevation&quot;: 147, &quot;index_point&quot;: 4, &quot;lat&quot;: 36.66158279611111, &quot;latitude&quot;: &quot;36 39 41.698066 N&quot;, &quot;lon&quot;: -120.24110910861111, &quot;longitude&quot;: &quot;120 14 27.992791 W&quot;, &quot;northing&quot;: 2126312.8065, &quot;notes&quot;: null, &quot;point_id&quot;: &quot;TID A&quot;, &quot;point_number&quot;: 120.0, &quot;source_elevation&quot;: &quot;\\\\\\\\ppeng.com\\\\pzdata\\\\clients\\\\Tranquillity ID-1075\\\\Ongoing-1075\\\\140-District Boundaries\\\\146 Benchmarks - GPS Control\\\\2013-01 Control-Well Survey\\\\2022-07\\\\2022July-2013Elevation_comparison.xls&quot;, &quot;source_point&quot;: &quot;\\\\\\\\ppeng.com\\\\pzdata\\\\clients\\\\Tranquillity ID-1075\\\\Ongoing-1075\\\\140-District Boundaries\\\\146 Benchmarks - GPS Control\\\\2013-01 Control-Well Survey\\\\2022-07\\\\2022July-2013Elevation_comparison.xls&quot;}, &quot;type&quot;: &quot;Feature&quot;}, {&quot;bbox&quot;: [-120.24110910861111, 36.66158279611111, -120.24110910861111, 36.66158279611111], &quot;geometry&quot;: {&quot;coordinates&quot;: [-120.24110910861111, 36.66158279611111], &quot;type&quot;: &quot;Point&quot;}, &quot;id&quot;: &quot;74&quot;, &quot;properties&quot;: {&quot;easting&quot;: 6197654.2136, &quot;elevation&quot;: 163.19, &quot;index_elevation&quot;: 158, &quot;index_point&quot;: 4, &quot;lat&quot;: 36.66158279611111, &quot;latitude&quot;: &quot;36 39 41.698066 N&quot;, &quot;lon&quot;: -120.24110910861111, &quot;longitude&quot;: &quot;120 14 27.992791 W&quot;, &quot;northing&quot;: 2126312.8065, &quot;notes&quot;: null, &quot;point_id&quot;: &quot;TID A&quot;, &quot;point_number&quot;: 120.0, &quot;source_elevation&quot;: &quot;\\\\\\\\ppeng.com\\\\pzdata\\\\clients\\\\Tranquillity ID-1075\\\\Ongoing-1075\\\\140-District Boundaries\\\\146 Benchmarks - GPS Control\\\\2013-01 Control-Well Survey\\\\2022-07\\\\2022July-2013Elevation_comparison.xls&quot;, &quot;source_point&quot;: &quot;\\\\\\\\ppeng.com\\\\pzdata\\\\clients\\\\Tranquillity ID-1075\\\\Ongoing-1075\\\\140-District Boundaries\\\\146 Benchmarks - GPS Control\\\\2013-01 Control-Well Survey\\\\2022-07\\\\2022July-2013Elevation_comparison.xls&quot;}, &quot;type&quot;: &quot;Feature&quot;}, {&quot;bbox&quot;: [-120.24236537555555, 36.610114082222225, -120.24236537555555, 36.610114082222225], &quot;geometry&quot;: {&quot;coordinates&quot;: [-120.24236537555555, 36.610114082222225], &quot;type&quot;: &quot;Point&quot;}, &quot;id&quot;: &quot;75&quot;, &quot;properties&quot;: {&quot;easting&quot;: 6197043.3946, &quot;elevation&quot;: 168.93, &quot;index_elevation&quot;: 5, &quot;index_point&quot;: 5, &quot;lat&quot;: 36.610114082222225, &quot;latitude&quot;: &quot;36 36 36.410696 N&quot;, &quot;lon&quot;: -120.24236537555555, &quot;longitude&quot;: &quot;120 14 32.515352 W&quot;, &quot;northing&quot;: 2107581.6827, &quot;notes&quot;: null, &quot;point_id&quot;: &quot;TID B&quot;, &quot;point_number&quot;: 102.0, &quot;source_elevation&quot;: &quot;\\\\\\\\ppeng.com\\\\pzdata\\\\clients\\\\Tranquillity ID-1075\\\\Ongoing-1075\\\\140-District Boundaries\\\\146 Benchmarks - GPS Control\\\\2013-01 Control-Well Survey\\\\2022-07\\\\2022July-2013Elevation_comparison.xls&quot;, &quot;source_point&quot;: &quot;\\\\\\\\ppeng.com\\\\pzdata\\\\clients\\\\Tranquillity ID-1075\\\\Ongoing-1075\\\\140-District Boundaries\\\\146 Benchmarks - GPS Control\\\\2013-01 Control-Well Survey\\\\2022-07\\\\2022July-2013Elevation_comparison.xls&quot;}, &quot;type&quot;: &quot;Feature&quot;}, {&quot;bbox&quot;: [-120.24236537555555, 36.610114082222225, -120.24236537555555, 36.610114082222225], &quot;geometry&quot;: {&quot;coordinates&quot;: [-120.24236537555555, 36.610114082222225], &quot;type&quot;: &quot;Point&quot;}, &quot;id&quot;: &quot;76&quot;, &quot;properties&quot;: {&quot;easting&quot;: 6197043.3946, &quot;elevation&quot;: 168.9439, &quot;index_elevation&quot;: 16, &quot;index_point&quot;: 5, &quot;lat&quot;: 36.610114082222225, &quot;latitude&quot;: &quot;36 36 36.410696 N&quot;, &quot;lon&quot;: -120.24236537555555, &quot;longitude&quot;: &quot;120 14 32.515352 W&quot;, &quot;northing&quot;: 2107581.6827, &quot;notes&quot;: null, &quot;point_id&quot;: &quot;TID B&quot;, &quot;point_number&quot;: 102.0, &quot;source_elevation&quot;: &quot;\\\\\\\\ppeng.com\\\\pzdata\\\\clients\\\\Tranquillity ID-1075\\\\Ongoing-1075\\\\140-District Boundaries\\\\146 Benchmarks - GPS Control\\\\2013-01 Control-Well Survey\\\\2022-07\\\\2022July-2013Elevation_comparison.xls&quot;, &quot;source_point&quot;: &quot;\\\\\\\\ppeng.com\\\\pzdata\\\\clients\\\\Tranquillity ID-1075\\\\Ongoing-1075\\\\140-District Boundaries\\\\146 Benchmarks - GPS Control\\\\2013-01 Control-Well Survey\\\\2022-07\\\\2022July-2013Elevation_comparison.xls&quot;}, &quot;type&quot;: &quot;Feature&quot;}, {&quot;bbox&quot;: [-120.24236537555555, 36.610114082222225, -120.24236537555555, 36.610114082222225], &quot;geometry&quot;: {&quot;coordinates&quot;: [-120.24236537555555, 36.610114082222225], &quot;type&quot;: &quot;Point&quot;}, &quot;id&quot;: &quot;77&quot;, &quot;properties&quot;: {&quot;easting&quot;: 6197043.3946, &quot;elevation&quot;: 168.96, &quot;index_elevation&quot;: 27, &quot;index_point&quot;: 5, &quot;lat&quot;: 36.610114082222225, &quot;latitude&quot;: &quot;36 36 36.410696 N&quot;, &quot;lon&quot;: -120.24236537555555, &quot;longitude&quot;: &quot;120 14 32.515352 W&quot;, &quot;northing&quot;: 2107581.6827, &quot;notes&quot;: null, &quot;point_id&quot;: &quot;TID B&quot;, &quot;point_number&quot;: 102.0, &quot;source_elevation&quot;: &quot;\\\\\\\\ppeng.com\\\\pzdata\\\\clients\\\\Tranquillity ID-1075\\\\Ongoing-1075\\\\140-District Boundaries\\\\146 Benchmarks - GPS Control\\\\2013-01 Control-Well Survey\\\\2022-07\\\\2022July-2013Elevation_comparison.xls&quot;, &quot;source_point&quot;: &quot;\\\\\\\\ppeng.com\\\\pzdata\\\\clients\\\\Tranquillity ID-1075\\\\Ongoing-1075\\\\140-District Boundaries\\\\146 Benchmarks - GPS Control\\\\2013-01 Control-Well Survey\\\\2022-07\\\\2022July-2013Elevation_comparison.xls&quot;}, &quot;type&quot;: &quot;Feature&quot;}, {&quot;bbox&quot;: [-120.24236537555555, 36.610114082222225, -120.24236537555555, 36.610114082222225], &quot;geometry&quot;: {&quot;coordinates&quot;: [-120.24236537555555, 36.610114082222225], &quot;type&quot;: &quot;Point&quot;}, &quot;id&quot;: &quot;78&quot;, &quot;properties&quot;: {&quot;easting&quot;: 6197043.3946, &quot;elevation&quot;: 169.1, &quot;index_elevation&quot;: 38, &quot;index_point&quot;: 5, &quot;lat&quot;: 36.610114082222225, &quot;latitude&quot;: &quot;36 36 36.410696 N&quot;, &quot;lon&quot;: -120.24236537555555, &quot;longitude&quot;: &quot;120 14 32.515352 W&quot;, &quot;northing&quot;: 2107581.6827, &quot;notes&quot;: null, &quot;point_id&quot;: &quot;TID B&quot;, &quot;point_number&quot;: 102.0, &quot;source_elevation&quot;: &quot;\\\\\\\\ppeng.com\\\\pzdata\\\\clients\\\\Tranquillity ID-1075\\\\Ongoing-1075\\\\140-District Boundaries\\\\146 Benchmarks - GPS Control\\\\2013-01 Control-Well Survey\\\\2022-07\\\\2022July-2013Elevation_comparison.xls&quot;, &quot;source_point&quot;: &quot;\\\\\\\\ppeng.com\\\\pzdata\\\\clients\\\\Tranquillity ID-1075\\\\Ongoing-1075\\\\140-District Boundaries\\\\146 Benchmarks - GPS Control\\\\2013-01 Control-Well Survey\\\\2022-07\\\\2022July-2013Elevation_comparison.xls&quot;}, &quot;type&quot;: &quot;Feature&quot;}, {&quot;bbox&quot;: [-120.24236537555555, 36.610114082222225, -120.24236537555555, 36.610114082222225], &quot;geometry&quot;: {&quot;coordinates&quot;: [-120.24236537555555, 36.610114082222225], &quot;type&quot;: &quot;Point&quot;}, &quot;id&quot;: &quot;79&quot;, &quot;properties&quot;: {&quot;easting&quot;: 6197043.3946, &quot;elevation&quot;: 169.287, &quot;index_elevation&quot;: 49, &quot;index_point&quot;: 5, &quot;lat&quot;: 36.610114082222225, &quot;latitude&quot;: &quot;36 36 36.410696 N&quot;, &quot;lon&quot;: -120.24236537555555, &quot;longitude&quot;: &quot;120 14 32.515352 W&quot;, &quot;northing&quot;: 2107581.6827, &quot;notes&quot;: null, &quot;point_id&quot;: &quot;TID B&quot;, &quot;point_number&quot;: 102.0, &quot;source_elevation&quot;: &quot;\\\\\\\\ppeng.com\\\\pzdata\\\\clients\\\\Tranquillity ID-1075\\\\Ongoing-1075\\\\140-District Boundaries\\\\146 Benchmarks - GPS Control\\\\2013-01 Control-Well Survey\\\\2022-07\\\\2022July-2013Elevation_comparison.xls&quot;, &quot;source_point&quot;: &quot;\\\\\\\\ppeng.com\\\\pzdata\\\\clients\\\\Tranquillity ID-1075\\\\Ongoing-1075\\\\140-District Boundaries\\\\146 Benchmarks - GPS Control\\\\2013-01 Control-Well Survey\\\\2022-07\\\\2022July-2013Elevation_comparison.xls&quot;}, &quot;type&quot;: &quot;Feature&quot;}, {&quot;bbox&quot;: [-120.24236537555555, 36.610114082222225, -120.24236537555555, 36.610114082222225], &quot;geometry&quot;: {&quot;coordinates&quot;: [-120.24236537555555, 36.610114082222225], &quot;type&quot;: &quot;Point&quot;}, &quot;id&quot;: &quot;80&quot;, &quot;properties&quot;: {&quot;easting&quot;: 6197043.3946, &quot;elevation&quot;: 169.27, &quot;index_elevation&quot;: 60, &quot;index_point&quot;: 5, &quot;lat&quot;: 36.610114082222225, &quot;latitude&quot;: &quot;36 36 36.410696 N&quot;, &quot;lon&quot;: -120.24236537555555, &quot;longitude&quot;: &quot;120 14 32.515352 W&quot;, &quot;northing&quot;: 2107581.6827, &quot;notes&quot;: null, &quot;point_id&quot;: &quot;TID B&quot;, &quot;point_number&quot;: 102.0, &quot;source_elevation&quot;: &quot;\\\\\\\\ppeng.com\\\\pzdata\\\\clients\\\\Tranquillity ID-1075\\\\Ongoing-1075\\\\140-District Boundaries\\\\146 Benchmarks - GPS Control\\\\2013-01 Control-Well Survey\\\\2022-07\\\\2022July-2013Elevation_comparison.xls&quot;, &quot;source_point&quot;: &quot;\\\\\\\\ppeng.com\\\\pzdata\\\\clients\\\\Tranquillity ID-1075\\\\Ongoing-1075\\\\140-District Boundaries\\\\146 Benchmarks - GPS Control\\\\2013-01 Control-Well Survey\\\\2022-07\\\\2022July-2013Elevation_comparison.xls&quot;}, &quot;type&quot;: &quot;Feature&quot;}, {&quot;bbox&quot;: [-120.24236537555555, 36.610114082222225, -120.24236537555555, 36.610114082222225], &quot;geometry&quot;: {&quot;coordinates&quot;: [-120.24236537555555, 36.610114082222225], &quot;type&quot;: &quot;Point&quot;}, &quot;id&quot;: &quot;81&quot;, &quot;properties&quot;: {&quot;easting&quot;: 6197043.3946, &quot;elevation&quot;: 169.34, &quot;index_elevation&quot;: 71, &quot;index_point&quot;: 5, &quot;lat&quot;: 36.610114082222225, &quot;latitude&quot;: &quot;36 36 36.410696 N&quot;, &quot;lon&quot;: -120.24236537555555, &quot;longitude&quot;: &quot;120 14 32.515352 W&quot;, &quot;northing&quot;: 2107581.6827, &quot;notes&quot;: null, &quot;point_id&quot;: &quot;TID B&quot;, &quot;point_number&quot;: 102.0, &quot;source_elevation&quot;: &quot;\\\\\\\\ppeng.com\\\\pzdata\\\\clients\\\\Tranquillity ID-1075\\\\Ongoing-1075\\\\140-District Boundaries\\\\146 Benchmarks - GPS Control\\\\2013-01 Control-Well Survey\\\\2022-07\\\\2022July-2013Elevation_comparison.xls&quot;, &quot;source_point&quot;: &quot;\\\\\\\\ppeng.com\\\\pzdata\\\\clients\\\\Tranquillity ID-1075\\\\Ongoing-1075\\\\140-District Boundaries\\\\146 Benchmarks - GPS Control\\\\2013-01 Control-Well Survey\\\\2022-07\\\\2022July-2013Elevation_comparison.xls&quot;}, &quot;type&quot;: &quot;Feature&quot;}, {&quot;bbox&quot;: [-120.24236537555555, 36.610114082222225, -120.24236537555555, 36.610114082222225], &quot;geometry&quot;: {&quot;coordinates&quot;: [-120.24236537555555, 36.610114082222225], &quot;type&quot;: &quot;Point&quot;}, &quot;id&quot;: &quot;82&quot;, &quot;properties&quot;: {&quot;easting&quot;: 6197043.3946, &quot;elevation&quot;: 169.22, &quot;index_elevation&quot;: 82, &quot;index_point&quot;: 5, &quot;lat&quot;: 36.610114082222225, &quot;latitude&quot;: &quot;36 36 36.410696 N&quot;, &quot;lon&quot;: -120.24236537555555, &quot;longitude&quot;: &quot;120 14 32.515352 W&quot;, &quot;northing&quot;: 2107581.6827, &quot;notes&quot;: null, &quot;point_id&quot;: &quot;TID B&quot;, &quot;point_number&quot;: 102.0, &quot;source_elevation&quot;: &quot;\\\\\\\\ppeng.com\\\\pzdata\\\\clients\\\\Tranquillity ID-1075\\\\Ongoing-1075\\\\140-District Boundaries\\\\146 Benchmarks - GPS Control\\\\2013-01 Control-Well Survey\\\\2022-07\\\\2022July-2013Elevation_comparison.xls&quot;, &quot;source_point&quot;: &quot;\\\\\\\\ppeng.com\\\\pzdata\\\\clients\\\\Tranquillity ID-1075\\\\Ongoing-1075\\\\140-District Boundaries\\\\146 Benchmarks - GPS Control\\\\2013-01 Control-Well Survey\\\\2022-07\\\\2022July-2013Elevation_comparison.xls&quot;}, &quot;type&quot;: &quot;Feature&quot;}, {&quot;bbox&quot;: [-120.24236537555555, 36.610114082222225, -120.24236537555555, 36.610114082222225], &quot;geometry&quot;: {&quot;coordinates&quot;: [-120.24236537555555, 36.610114082222225], &quot;type&quot;: &quot;Point&quot;}, &quot;id&quot;: &quot;83&quot;, &quot;properties&quot;: {&quot;easting&quot;: 6197043.3946, &quot;elevation&quot;: 169.4, &quot;index_elevation&quot;: 93, &quot;index_point&quot;: 5, &quot;lat&quot;: 36.610114082222225, &quot;latitude&quot;: &quot;36 36 36.410696 N&quot;, &quot;lon&quot;: -120.24236537555555, &quot;longitude&quot;: &quot;120 14 32.515352 W&quot;, &quot;northing&quot;: 2107581.6827, &quot;notes&quot;: null, &quot;point_id&quot;: &quot;TID B&quot;, &quot;point_number&quot;: 102.0, &quot;source_elevation&quot;: &quot;\\\\\\\\ppeng.com\\\\pzdata\\\\clients\\\\Tranquillity ID-1075\\\\Ongoing-1075\\\\140-District Boundaries\\\\146 Benchmarks - GPS Control\\\\2013-01 Control-Well Survey\\\\2022-07\\\\2022July-2013Elevation_comparison.xls&quot;, &quot;source_point&quot;: &quot;\\\\\\\\ppeng.com\\\\pzdata\\\\clients\\\\Tranquillity ID-1075\\\\Ongoing-1075\\\\140-District Boundaries\\\\146 Benchmarks - GPS Control\\\\2013-01 Control-Well Survey\\\\2022-07\\\\2022July-2013Elevation_comparison.xls&quot;}, &quot;type&quot;: &quot;Feature&quot;}, {&quot;bbox&quot;: [-120.24236537555555, 36.610114082222225, -120.24236537555555, 36.610114082222225], &quot;geometry&quot;: {&quot;coordinates&quot;: [-120.24236537555555, 36.610114082222225], &quot;type&quot;: &quot;Point&quot;}, &quot;id&quot;: &quot;84&quot;, &quot;properties&quot;: {&quot;easting&quot;: 6197043.3946, &quot;elevation&quot;: 169.32, &quot;index_elevation&quot;: 104, &quot;index_point&quot;: 5, &quot;lat&quot;: 36.610114082222225, &quot;latitude&quot;: &quot;36 36 36.410696 N&quot;, &quot;lon&quot;: -120.24236537555555, &quot;longitude&quot;: &quot;120 14 32.515352 W&quot;, &quot;northing&quot;: 2107581.6827, &quot;notes&quot;: null, &quot;point_id&quot;: &quot;TID B&quot;, &quot;point_number&quot;: 102.0, &quot;source_elevation&quot;: &quot;\\\\\\\\ppeng.com\\\\pzdata\\\\clients\\\\Tranquillity ID-1075\\\\Ongoing-1075\\\\140-District Boundaries\\\\146 Benchmarks - GPS Control\\\\2013-01 Control-Well Survey\\\\2022-07\\\\2022July-2013Elevation_comparison.xls&quot;, &quot;source_point&quot;: &quot;\\\\\\\\ppeng.com\\\\pzdata\\\\clients\\\\Tranquillity ID-1075\\\\Ongoing-1075\\\\140-District Boundaries\\\\146 Benchmarks - GPS Control\\\\2013-01 Control-Well Survey\\\\2022-07\\\\2022July-2013Elevation_comparison.xls&quot;}, &quot;type&quot;: &quot;Feature&quot;}, {&quot;bbox&quot;: [-120.24236537555555, 36.610114082222225, -120.24236537555555, 36.610114082222225], &quot;geometry&quot;: {&quot;coordinates&quot;: [-120.24236537555555, 36.610114082222225], &quot;type&quot;: &quot;Point&quot;}, &quot;id&quot;: &quot;85&quot;, &quot;properties&quot;: {&quot;easting&quot;: 6197043.3946, &quot;elevation&quot;: 169.39, &quot;index_elevation&quot;: 115, &quot;index_point&quot;: 5, &quot;lat&quot;: 36.610114082222225, &quot;latitude&quot;: &quot;36 36 36.410696 N&quot;, &quot;lon&quot;: -120.24236537555555, &quot;longitude&quot;: &quot;120 14 32.515352 W&quot;, &quot;northing&quot;: 2107581.6827, &quot;notes&quot;: null, &quot;point_id&quot;: &quot;TID B&quot;, &quot;point_number&quot;: 102.0, &quot;source_elevation&quot;: &quot;\\\\\\\\ppeng.com\\\\pzdata\\\\clients\\\\Tranquillity ID-1075\\\\Ongoing-1075\\\\140-District Boundaries\\\\146 Benchmarks - GPS Control\\\\2013-01 Control-Well Survey\\\\2022-07\\\\2022July-2013Elevation_comparison.xls&quot;, &quot;source_point&quot;: &quot;\\\\\\\\ppeng.com\\\\pzdata\\\\clients\\\\Tranquillity ID-1075\\\\Ongoing-1075\\\\140-District Boundaries\\\\146 Benchmarks - GPS Control\\\\2013-01 Control-Well Survey\\\\2022-07\\\\2022July-2013Elevation_comparison.xls&quot;}, &quot;type&quot;: &quot;Feature&quot;}, {&quot;bbox&quot;: [-120.24236537555555, 36.610114082222225, -120.24236537555555, 36.610114082222225], &quot;geometry&quot;: {&quot;coordinates&quot;: [-120.24236537555555, 36.610114082222225], &quot;type&quot;: &quot;Point&quot;}, &quot;id&quot;: &quot;86&quot;, &quot;properties&quot;: {&quot;easting&quot;: 6197043.3946, &quot;elevation&quot;: null, &quot;index_elevation&quot;: 126, &quot;index_point&quot;: 5, &quot;lat&quot;: 36.610114082222225, &quot;latitude&quot;: &quot;36 36 36.410696 N&quot;, &quot;lon&quot;: -120.24236537555555, &quot;longitude&quot;: &quot;120 14 32.515352 W&quot;, &quot;northing&quot;: 2107581.6827, &quot;notes&quot;: null, &quot;point_id&quot;: &quot;TID B&quot;, &quot;point_number&quot;: 102.0, &quot;source_elevation&quot;: &quot;\\\\\\\\ppeng.com\\\\pzdata\\\\clients\\\\Tranquillity ID-1075\\\\Ongoing-1075\\\\140-District Boundaries\\\\146 Benchmarks - GPS Control\\\\2013-01 Control-Well Survey\\\\2022-07\\\\2022July-2013Elevation_comparison.xls&quot;, &quot;source_point&quot;: &quot;\\\\\\\\ppeng.com\\\\pzdata\\\\clients\\\\Tranquillity ID-1075\\\\Ongoing-1075\\\\140-District Boundaries\\\\146 Benchmarks - GPS Control\\\\2013-01 Control-Well Survey\\\\2022-07\\\\2022July-2013Elevation_comparison.xls&quot;}, &quot;type&quot;: &quot;Feature&quot;}, {&quot;bbox&quot;: [-120.24236537555555, 36.610114082222225, -120.24236537555555, 36.610114082222225], &quot;geometry&quot;: {&quot;coordinates&quot;: [-120.24236537555555, 36.610114082222225], &quot;type&quot;: &quot;Point&quot;}, &quot;id&quot;: &quot;87&quot;, &quot;properties&quot;: {&quot;easting&quot;: 6197043.3946, &quot;elevation&quot;: null, &quot;index_elevation&quot;: 137, &quot;index_point&quot;: 5, &quot;lat&quot;: 36.610114082222225, &quot;latitude&quot;: &quot;36 36 36.410696 N&quot;, &quot;lon&quot;: -120.24236537555555, &quot;longitude&quot;: &quot;120 14 32.515352 W&quot;, &quot;northing&quot;: 2107581.6827, &quot;notes&quot;: null, &quot;point_id&quot;: &quot;TID B&quot;, &quot;point_number&quot;: 102.0, &quot;source_elevation&quot;: &quot;\\\\\\\\ppeng.com\\\\pzdata\\\\clients\\\\Tranquillity ID-1075\\\\Ongoing-1075\\\\140-District Boundaries\\\\146 Benchmarks - GPS Control\\\\2013-01 Control-Well Survey\\\\2022-07\\\\2022July-2013Elevation_comparison.xls&quot;, &quot;source_point&quot;: &quot;\\\\\\\\ppeng.com\\\\pzdata\\\\clients\\\\Tranquillity ID-1075\\\\Ongoing-1075\\\\140-District Boundaries\\\\146 Benchmarks - GPS Control\\\\2013-01 Control-Well Survey\\\\2022-07\\\\2022July-2013Elevation_comparison.xls&quot;}, &quot;type&quot;: &quot;Feature&quot;}, {&quot;bbox&quot;: [-120.24236537555555, 36.610114082222225, -120.24236537555555, 36.610114082222225], &quot;geometry&quot;: {&quot;coordinates&quot;: [-120.24236537555555, 36.610114082222225], &quot;type&quot;: &quot;Point&quot;}, &quot;id&quot;: &quot;88&quot;, &quot;properties&quot;: {&quot;easting&quot;: 6197043.3946, &quot;elevation&quot;: null, &quot;index_elevation&quot;: 148, &quot;index_point&quot;: 5, &quot;lat&quot;: 36.610114082222225, &quot;latitude&quot;: &quot;36 36 36.410696 N&quot;, &quot;lon&quot;: -120.24236537555555, &quot;longitude&quot;: &quot;120 14 32.515352 W&quot;, &quot;northing&quot;: 2107581.6827, &quot;notes&quot;: null, &quot;point_id&quot;: &quot;TID B&quot;, &quot;point_number&quot;: 102.0, &quot;source_elevation&quot;: &quot;\\\\\\\\ppeng.com\\\\pzdata\\\\clients\\\\Tranquillity ID-1075\\\\Ongoing-1075\\\\140-District Boundaries\\\\146 Benchmarks - GPS Control\\\\2013-01 Control-Well Survey\\\\2022-07\\\\2022July-2013Elevation_comparison.xls&quot;, &quot;source_point&quot;: &quot;\\\\\\\\ppeng.com\\\\pzdata\\\\clients\\\\Tranquillity ID-1075\\\\Ongoing-1075\\\\140-District Boundaries\\\\146 Benchmarks - GPS Control\\\\2013-01 Control-Well Survey\\\\2022-07\\\\2022July-2013Elevation_comparison.xls&quot;}, &quot;type&quot;: &quot;Feature&quot;}, {&quot;bbox&quot;: [-120.24236537555555, 36.610114082222225, -120.24236537555555, 36.610114082222225], &quot;geometry&quot;: {&quot;coordinates&quot;: [-120.24236537555555, 36.610114082222225], &quot;type&quot;: &quot;Point&quot;}, &quot;id&quot;: &quot;89&quot;, &quot;properties&quot;: {&quot;easting&quot;: 6197043.3946, &quot;elevation&quot;: 170.38, &quot;index_elevation&quot;: 159, &quot;index_point&quot;: 5, &quot;lat&quot;: 36.610114082222225, &quot;latitude&quot;: &quot;36 36 36.410696 N&quot;, &quot;lon&quot;: -120.24236537555555, &quot;longitude&quot;: &quot;120 14 32.515352 W&quot;, &quot;northing&quot;: 2107581.6827, &quot;notes&quot;: null, &quot;point_id&quot;: &quot;TID B&quot;, &quot;point_number&quot;: 102.0, &quot;source_elevation&quot;: &quot;\\\\\\\\ppeng.com\\\\pzdata\\\\clients\\\\Tranquillity ID-1075\\\\Ongoing-1075\\\\140-District Boundaries\\\\146 Benchmarks - GPS Control\\\\2013-01 Control-Well Survey\\\\2022-07\\\\2022July-2013Elevation_comparison.xls&quot;, &quot;source_point&quot;: &quot;\\\\\\\\ppeng.com\\\\pzdata\\\\clients\\\\Tranquillity ID-1075\\\\Ongoing-1075\\\\140-District Boundaries\\\\146 Benchmarks - GPS Control\\\\2013-01 Control-Well Survey\\\\2022-07\\\\2022July-2013Elevation_comparison.xls&quot;}, &quot;type&quot;: &quot;Feature&quot;}, {&quot;bbox&quot;: [-120.25632744583334, 36.67599903638889, -120.25632744583334, 36.67599903638889], &quot;geometry&quot;: {&quot;coordinates&quot;: [-120.25632744583334, 36.67599903638889], &quot;type&quot;: &quot;Point&quot;}, &quot;id&quot;: &quot;90&quot;, &quot;properties&quot;: {&quot;easting&quot;: 6193259.6414, &quot;elevation&quot;: 156.05, &quot;index_elevation&quot;: 6, &quot;index_point&quot;: 6, &quot;lat&quot;: 36.67599903638889, &quot;latitude&quot;: &quot;36 40 33.596531 N&quot;, &quot;lon&quot;: -120.25632744583334, &quot;longitude&quot;: &quot;120 15 22.778805 W&quot;, &quot;northing&quot;: 2131618.7305, &quot;notes&quot;: null, &quot;point_id&quot;: &quot;TID C&quot;, &quot;point_number&quot;: 125.0, &quot;source_elevation&quot;: &quot;\\\\\\\\ppeng.com\\\\pzdata\\\\clients\\\\Tranquillity ID-1075\\\\Ongoing-1075\\\\140-District Boundaries\\\\146 Benchmarks - GPS Control\\\\2013-01 Control-Well Survey\\\\2022-07\\\\2022July-2013Elevation_comparison.xls&quot;, &quot;source_point&quot;: &quot;\\\\\\\\ppeng.com\\\\pzdata\\\\clients\\\\Tranquillity ID-1075\\\\Ongoing-1075\\\\140-District Boundaries\\\\146 Benchmarks - GPS Control\\\\2013-01 Control-Well Survey\\\\2022-07\\\\2022July-2013Elevation_comparison.xls&quot;}, &quot;type&quot;: &quot;Feature&quot;}, {&quot;bbox&quot;: [-120.25632744583334, 36.67599903638889, -120.25632744583334, 36.67599903638889], &quot;geometry&quot;: {&quot;coordinates&quot;: [-120.25632744583334, 36.67599903638889], &quot;type&quot;: &quot;Point&quot;}, &quot;id&quot;: &quot;91&quot;, &quot;properties&quot;: {&quot;easting&quot;: 6193259.6414, &quot;elevation&quot;: 156.2207, &quot;index_elevation&quot;: 17, &quot;index_point&quot;: 6, &quot;lat&quot;: 36.67599903638889, &quot;latitude&quot;: &quot;36 40 33.596531 N&quot;, &quot;lon&quot;: -120.25632744583334, &quot;longitude&quot;: &quot;120 15 22.778805 W&quot;, &quot;northing&quot;: 2131618.7305, &quot;notes&quot;: null, &quot;point_id&quot;: &quot;TID C&quot;, &quot;point_number&quot;: 125.0, &quot;source_elevation&quot;: &quot;\\\\\\\\ppeng.com\\\\pzdata\\\\clients\\\\Tranquillity ID-1075\\\\Ongoing-1075\\\\140-District Boundaries\\\\146 Benchmarks - GPS Control\\\\2013-01 Control-Well Survey\\\\2022-07\\\\2022July-2013Elevation_comparison.xls&quot;, &quot;source_point&quot;: &quot;\\\\\\\\ppeng.com\\\\pzdata\\\\clients\\\\Tranquillity ID-1075\\\\Ongoing-1075\\\\140-District Boundaries\\\\146 Benchmarks - GPS Control\\\\2013-01 Control-Well Survey\\\\2022-07\\\\2022July-2013Elevation_comparison.xls&quot;}, &quot;type&quot;: &quot;Feature&quot;}, {&quot;bbox&quot;: [-120.25632744583334, 36.67599903638889, -120.25632744583334, 36.67599903638889], &quot;geometry&quot;: {&quot;coordinates&quot;: [-120.25632744583334, 36.67599903638889], &quot;type&quot;: &quot;Point&quot;}, &quot;id&quot;: &quot;92&quot;, &quot;properties&quot;: {&quot;easting&quot;: 6193259.6414, &quot;elevation&quot;: 156.28, &quot;index_elevation&quot;: 28, &quot;index_point&quot;: 6, &quot;lat&quot;: 36.67599903638889, &quot;latitude&quot;: &quot;36 40 33.596531 N&quot;, &quot;lon&quot;: -120.25632744583334, &quot;longitude&quot;: &quot;120 15 22.778805 W&quot;, &quot;northing&quot;: 2131618.7305, &quot;notes&quot;: null, &quot;point_id&quot;: &quot;TID C&quot;, &quot;point_number&quot;: 125.0, &quot;source_elevation&quot;: &quot;\\\\\\\\ppeng.com\\\\pzdata\\\\clients\\\\Tranquillity ID-1075\\\\Ongoing-1075\\\\140-District Boundaries\\\\146 Benchmarks - GPS Control\\\\2013-01 Control-Well Survey\\\\2022-07\\\\2022July-2013Elevation_comparison.xls&quot;, &quot;source_point&quot;: &quot;\\\\\\\\ppeng.com\\\\pzdata\\\\clients\\\\Tranquillity ID-1075\\\\Ongoing-1075\\\\140-District Boundaries\\\\146 Benchmarks - GPS Control\\\\2013-01 Control-Well Survey\\\\2022-07\\\\2022July-2013Elevation_comparison.xls&quot;}, &quot;type&quot;: &quot;Feature&quot;}, {&quot;bbox&quot;: [-120.25632744583334, 36.67599903638889, -120.25632744583334, 36.67599903638889], &quot;geometry&quot;: {&quot;coordinates&quot;: [-120.25632744583334, 36.67599903638889], &quot;type&quot;: &quot;Point&quot;}, &quot;id&quot;: &quot;93&quot;, &quot;properties&quot;: {&quot;easting&quot;: 6193259.6414, &quot;elevation&quot;: 156.49, &quot;index_elevation&quot;: 39, &quot;index_point&quot;: 6, &quot;lat&quot;: 36.67599903638889, &quot;latitude&quot;: &quot;36 40 33.596531 N&quot;, &quot;lon&quot;: -120.25632744583334, &quot;longitude&quot;: &quot;120 15 22.778805 W&quot;, &quot;northing&quot;: 2131618.7305, &quot;notes&quot;: null, &quot;point_id&quot;: &quot;TID C&quot;, &quot;point_number&quot;: 125.0, &quot;source_elevation&quot;: &quot;\\\\\\\\ppeng.com\\\\pzdata\\\\clients\\\\Tranquillity ID-1075\\\\Ongoing-1075\\\\140-District Boundaries\\\\146 Benchmarks - GPS Control\\\\2013-01 Control-Well Survey\\\\2022-07\\\\2022July-2013Elevation_comparison.xls&quot;, &quot;source_point&quot;: &quot;\\\\\\\\ppeng.com\\\\pzdata\\\\clients\\\\Tranquillity ID-1075\\\\Ongoing-1075\\\\140-District Boundaries\\\\146 Benchmarks - GPS Control\\\\2013-01 Control-Well Survey\\\\2022-07\\\\2022July-2013Elevation_comparison.xls&quot;}, &quot;type&quot;: &quot;Feature&quot;}, {&quot;bbox&quot;: [-120.25632744583334, 36.67599903638889, -120.25632744583334, 36.67599903638889], &quot;geometry&quot;: {&quot;coordinates&quot;: [-120.25632744583334, 36.67599903638889], &quot;type&quot;: &quot;Point&quot;}, &quot;id&quot;: &quot;94&quot;, &quot;properties&quot;: {&quot;easting&quot;: 6193259.6414, &quot;elevation&quot;: 156.689, &quot;index_elevation&quot;: 50, &quot;index_point&quot;: 6, &quot;lat&quot;: 36.67599903638889, &quot;latitude&quot;: &quot;36 40 33.596531 N&quot;, &quot;lon&quot;: -120.25632744583334, &quot;longitude&quot;: &quot;120 15 22.778805 W&quot;, &quot;northing&quot;: 2131618.7305, &quot;notes&quot;: null, &quot;point_id&quot;: &quot;TID C&quot;, &quot;point_number&quot;: 125.0, &quot;source_elevation&quot;: &quot;\\\\\\\\ppeng.com\\\\pzdata\\\\clients\\\\Tranquillity ID-1075\\\\Ongoing-1075\\\\140-District Boundaries\\\\146 Benchmarks - GPS Control\\\\2013-01 Control-Well Survey\\\\2022-07\\\\2022July-2013Elevation_comparison.xls&quot;, &quot;source_point&quot;: &quot;\\\\\\\\ppeng.com\\\\pzdata\\\\clients\\\\Tranquillity ID-1075\\\\Ongoing-1075\\\\140-District Boundaries\\\\146 Benchmarks - GPS Control\\\\2013-01 Control-Well Survey\\\\2022-07\\\\2022July-2013Elevation_comparison.xls&quot;}, &quot;type&quot;: &quot;Feature&quot;}, {&quot;bbox&quot;: [-120.25632744583334, 36.67599903638889, -120.25632744583334, 36.67599903638889], &quot;geometry&quot;: {&quot;coordinates&quot;: [-120.25632744583334, 36.67599903638889], &quot;type&quot;: &quot;Point&quot;}, &quot;id&quot;: &quot;95&quot;, &quot;properties&quot;: {&quot;easting&quot;: 6193259.6414, &quot;elevation&quot;: 156.72, &quot;index_elevation&quot;: 61, &quot;index_point&quot;: 6, &quot;lat&quot;: 36.67599903638889, &quot;latitude&quot;: &quot;36 40 33.596531 N&quot;, &quot;lon&quot;: -120.25632744583334, &quot;longitude&quot;: &quot;120 15 22.778805 W&quot;, &quot;northing&quot;: 2131618.7305, &quot;notes&quot;: null, &quot;point_id&quot;: &quot;TID C&quot;, &quot;point_number&quot;: 125.0, &quot;source_elevation&quot;: &quot;\\\\\\\\ppeng.com\\\\pzdata\\\\clients\\\\Tranquillity ID-1075\\\\Ongoing-1075\\\\140-District Boundaries\\\\146 Benchmarks - GPS Control\\\\2013-01 Control-Well Survey\\\\2022-07\\\\2022July-2013Elevation_comparison.xls&quot;, &quot;source_point&quot;: &quot;\\\\\\\\ppeng.com\\\\pzdata\\\\clients\\\\Tranquillity ID-1075\\\\Ongoing-1075\\\\140-District Boundaries\\\\146 Benchmarks - GPS Control\\\\2013-01 Control-Well Survey\\\\2022-07\\\\2022July-2013Elevation_comparison.xls&quot;}, &quot;type&quot;: &quot;Feature&quot;}, {&quot;bbox&quot;: [-120.25632744583334, 36.67599903638889, -120.25632744583334, 36.67599903638889], &quot;geometry&quot;: {&quot;coordinates&quot;: [-120.25632744583334, 36.67599903638889], &quot;type&quot;: &quot;Point&quot;}, &quot;id&quot;: &quot;96&quot;, &quot;properties&quot;: {&quot;easting&quot;: 6193259.6414, &quot;elevation&quot;: 156.78, &quot;index_elevation&quot;: 72, &quot;index_point&quot;: 6, &quot;lat&quot;: 36.67599903638889, &quot;latitude&quot;: &quot;36 40 33.596531 N&quot;, &quot;lon&quot;: -120.25632744583334, &quot;longitude&quot;: &quot;120 15 22.778805 W&quot;, &quot;northing&quot;: 2131618.7305, &quot;notes&quot;: null, &quot;point_id&quot;: &quot;TID C&quot;, &quot;point_number&quot;: 125.0, &quot;source_elevation&quot;: &quot;\\\\\\\\ppeng.com\\\\pzdata\\\\clients\\\\Tranquillity ID-1075\\\\Ongoing-1075\\\\140-District Boundaries\\\\146 Benchmarks - GPS Control\\\\2013-01 Control-Well Survey\\\\2022-07\\\\2022July-2013Elevation_comparison.xls&quot;, &quot;source_point&quot;: &quot;\\\\\\\\ppeng.com\\\\pzdata\\\\clients\\\\Tranquillity ID-1075\\\\Ongoing-1075\\\\140-District Boundaries\\\\146 Benchmarks - GPS Control\\\\2013-01 Control-Well Survey\\\\2022-07\\\\2022July-2013Elevation_comparison.xls&quot;}, &quot;type&quot;: &quot;Feature&quot;}, {&quot;bbox&quot;: [-120.25632744583334, 36.67599903638889, -120.25632744583334, 36.67599903638889], &quot;geometry&quot;: {&quot;coordinates&quot;: [-120.25632744583334, 36.67599903638889], &quot;type&quot;: &quot;Point&quot;}, &quot;id&quot;: &quot;97&quot;, &quot;properties&quot;: {&quot;easting&quot;: 6193259.6414, &quot;elevation&quot;: 156.73, &quot;index_elevation&quot;: 83, &quot;index_point&quot;: 6, &quot;lat&quot;: 36.67599903638889, &quot;latitude&quot;: &quot;36 40 33.596531 N&quot;, &quot;lon&quot;: -120.25632744583334, &quot;longitude&quot;: &quot;120 15 22.778805 W&quot;, &quot;northing&quot;: 2131618.7305, &quot;notes&quot;: null, &quot;point_id&quot;: &quot;TID C&quot;, &quot;point_number&quot;: 125.0, &quot;source_elevation&quot;: &quot;\\\\\\\\ppeng.com\\\\pzdata\\\\clients\\\\Tranquillity ID-1075\\\\Ongoing-1075\\\\140-District Boundaries\\\\146 Benchmarks - GPS Control\\\\2013-01 Control-Well Survey\\\\2022-07\\\\2022July-2013Elevation_comparison.xls&quot;, &quot;source_point&quot;: &quot;\\\\\\\\ppeng.com\\\\pzdata\\\\clients\\\\Tranquillity ID-1075\\\\Ongoing-1075\\\\140-District Boundaries\\\\146 Benchmarks - GPS Control\\\\2013-01 Control-Well Survey\\\\2022-07\\\\2022July-2013Elevation_comparison.xls&quot;}, &quot;type&quot;: &quot;Feature&quot;}, {&quot;bbox&quot;: [-120.25632744583334, 36.67599903638889, -120.25632744583334, 36.67599903638889], &quot;geometry&quot;: {&quot;coordinates&quot;: [-120.25632744583334, 36.67599903638889], &quot;type&quot;: &quot;Point&quot;}, &quot;id&quot;: &quot;98&quot;, &quot;properties&quot;: {&quot;easting&quot;: 6193259.6414, &quot;elevation&quot;: 156.9, &quot;index_elevation&quot;: 94, &quot;index_point&quot;: 6, &quot;lat&quot;: 36.67599903638889, &quot;latitude&quot;: &quot;36 40 33.596531 N&quot;, &quot;lon&quot;: -120.25632744583334, &quot;longitude&quot;: &quot;120 15 22.778805 W&quot;, &quot;northing&quot;: 2131618.7305, &quot;notes&quot;: null, &quot;point_id&quot;: &quot;TID C&quot;, &quot;point_number&quot;: 125.0, &quot;source_elevation&quot;: &quot;\\\\\\\\ppeng.com\\\\pzdata\\\\clients\\\\Tranquillity ID-1075\\\\Ongoing-1075\\\\140-District Boundaries\\\\146 Benchmarks - GPS Control\\\\2013-01 Control-Well Survey\\\\2022-07\\\\2022July-2013Elevation_comparison.xls&quot;, &quot;source_point&quot;: &quot;\\\\\\\\ppeng.com\\\\pzdata\\\\clients\\\\Tranquillity ID-1075\\\\Ongoing-1075\\\\140-District Boundaries\\\\146 Benchmarks - GPS Control\\\\2013-01 Control-Well Survey\\\\2022-07\\\\2022July-2013Elevation_comparison.xls&quot;}, &quot;type&quot;: &quot;Feature&quot;}, {&quot;bbox&quot;: [-120.25632744583334, 36.67599903638889, -120.25632744583334, 36.67599903638889], &quot;geometry&quot;: {&quot;coordinates&quot;: [-120.25632744583334, 36.67599903638889], &quot;type&quot;: &quot;Point&quot;}, &quot;id&quot;: &quot;99&quot;, &quot;properties&quot;: {&quot;easting&quot;: 6193259.6414, &quot;elevation&quot;: 156.85, &quot;index_elevation&quot;: 105, &quot;index_point&quot;: 6, &quot;lat&quot;: 36.67599903638889, &quot;latitude&quot;: &quot;36 40 33.596531 N&quot;, &quot;lon&quot;: -120.25632744583334, &quot;longitude&quot;: &quot;120 15 22.778805 W&quot;, &quot;northing&quot;: 2131618.7305, &quot;notes&quot;: null, &quot;point_id&quot;: &quot;TID C&quot;, &quot;point_number&quot;: 125.0, &quot;source_elevation&quot;: &quot;\\\\\\\\ppeng.com\\\\pzdata\\\\clients\\\\Tranquillity ID-1075\\\\Ongoing-1075\\\\140-District Boundaries\\\\146 Benchmarks - GPS Control\\\\2013-01 Control-Well Survey\\\\2022-07\\\\2022July-2013Elevation_comparison.xls&quot;, &quot;source_point&quot;: &quot;\\\\\\\\ppeng.com\\\\pzdata\\\\clients\\\\Tranquillity ID-1075\\\\Ongoing-1075\\\\140-District Boundaries\\\\146 Benchmarks - GPS Control\\\\2013-01 Control-Well Survey\\\\2022-07\\\\2022July-2013Elevation_comparison.xls&quot;}, &quot;type&quot;: &quot;Feature&quot;}, {&quot;bbox&quot;: [-120.25632744583334, 36.67599903638889, -120.25632744583334, 36.67599903638889], &quot;geometry&quot;: {&quot;coordinates&quot;: [-120.25632744583334, 36.67599903638889], &quot;type&quot;: &quot;Point&quot;}, &quot;id&quot;: &quot;100&quot;, &quot;properties&quot;: {&quot;easting&quot;: 6193259.6414, &quot;elevation&quot;: 156.97, &quot;index_elevation&quot;: 116, &quot;index_point&quot;: 6, &quot;lat&quot;: 36.67599903638889, &quot;latitude&quot;: &quot;36 40 33.596531 N&quot;, &quot;lon&quot;: -120.25632744583334, &quot;longitude&quot;: &quot;120 15 22.778805 W&quot;, &quot;northing&quot;: 2131618.7305, &quot;notes&quot;: null, &quot;point_id&quot;: &quot;TID C&quot;, &quot;point_number&quot;: 125.0, &quot;source_elevation&quot;: &quot;\\\\\\\\ppeng.com\\\\pzdata\\\\clients\\\\Tranquillity ID-1075\\\\Ongoing-1075\\\\140-District Boundaries\\\\146 Benchmarks - GPS Control\\\\2013-01 Control-Well Survey\\\\2022-07\\\\2022July-2013Elevation_comparison.xls&quot;, &quot;source_point&quot;: &quot;\\\\\\\\ppeng.com\\\\pzdata\\\\clients\\\\Tranquillity ID-1075\\\\Ongoing-1075\\\\140-District Boundaries\\\\146 Benchmarks - GPS Control\\\\2013-01 Control-Well Survey\\\\2022-07\\\\2022July-2013Elevation_comparison.xls&quot;}, &quot;type&quot;: &quot;Feature&quot;}, {&quot;bbox&quot;: [-120.25632744583334, 36.67599903638889, -120.25632744583334, 36.67599903638889], &quot;geometry&quot;: {&quot;coordinates&quot;: [-120.25632744583334, 36.67599903638889], &quot;type&quot;: &quot;Point&quot;}, &quot;id&quot;: &quot;101&quot;, &quot;properties&quot;: {&quot;easting&quot;: 6193259.6414, &quot;elevation&quot;: null, &quot;index_elevation&quot;: 127, &quot;index_point&quot;: 6, &quot;lat&quot;: 36.67599903638889, &quot;latitude&quot;: &quot;36 40 33.596531 N&quot;, &quot;lon&quot;: -120.25632744583334, &quot;longitude&quot;: &quot;120 15 22.778805 W&quot;, &quot;northing&quot;: 2131618.7305, &quot;notes&quot;: null, &quot;point_id&quot;: &quot;TID C&quot;, &quot;point_number&quot;: 125.0, &quot;source_elevation&quot;: &quot;\\\\\\\\ppeng.com\\\\pzdata\\\\clients\\\\Tranquillity ID-1075\\\\Ongoing-1075\\\\140-District Boundaries\\\\146 Benchmarks - GPS Control\\\\2013-01 Control-Well Survey\\\\2022-07\\\\2022July-2013Elevation_comparison.xls&quot;, &quot;source_point&quot;: &quot;\\\\\\\\ppeng.com\\\\pzdata\\\\clients\\\\Tranquillity ID-1075\\\\Ongoing-1075\\\\140-District Boundaries\\\\146 Benchmarks - GPS Control\\\\2013-01 Control-Well Survey\\\\2022-07\\\\2022July-2013Elevation_comparison.xls&quot;}, &quot;type&quot;: &quot;Feature&quot;}, {&quot;bbox&quot;: [-120.25632744583334, 36.67599903638889, -120.25632744583334, 36.67599903638889], &quot;geometry&quot;: {&quot;coordinates&quot;: [-120.25632744583334, 36.67599903638889], &quot;type&quot;: &quot;Point&quot;}, &quot;id&quot;: &quot;102&quot;, &quot;properties&quot;: {&quot;easting&quot;: 6193259.6414, &quot;elevation&quot;: null, &quot;index_elevation&quot;: 138, &quot;index_point&quot;: 6, &quot;lat&quot;: 36.67599903638889, &quot;latitude&quot;: &quot;36 40 33.596531 N&quot;, &quot;lon&quot;: -120.25632744583334, &quot;longitude&quot;: &quot;120 15 22.778805 W&quot;, &quot;northing&quot;: 2131618.7305, &quot;notes&quot;: null, &quot;point_id&quot;: &quot;TID C&quot;, &quot;point_number&quot;: 125.0, &quot;source_elevation&quot;: &quot;\\\\\\\\ppeng.com\\\\pzdata\\\\clients\\\\Tranquillity ID-1075\\\\Ongoing-1075\\\\140-District Boundaries\\\\146 Benchmarks - GPS Control\\\\2013-01 Control-Well Survey\\\\2022-07\\\\2022July-2013Elevation_comparison.xls&quot;, &quot;source_point&quot;: &quot;\\\\\\\\ppeng.com\\\\pzdata\\\\clients\\\\Tranquillity ID-1075\\\\Ongoing-1075\\\\140-District Boundaries\\\\146 Benchmarks - GPS Control\\\\2013-01 Control-Well Survey\\\\2022-07\\\\2022July-2013Elevation_comparison.xls&quot;}, &quot;type&quot;: &quot;Feature&quot;}, {&quot;bbox&quot;: [-120.25632744583334, 36.67599903638889, -120.25632744583334, 36.67599903638889], &quot;geometry&quot;: {&quot;coordinates&quot;: [-120.25632744583334, 36.67599903638889], &quot;type&quot;: &quot;Point&quot;}, &quot;id&quot;: &quot;103&quot;, &quot;properties&quot;: {&quot;easting&quot;: 6193259.6414, &quot;elevation&quot;: null, &quot;index_elevation&quot;: 149, &quot;index_point&quot;: 6, &quot;lat&quot;: 36.67599903638889, &quot;latitude&quot;: &quot;36 40 33.596531 N&quot;, &quot;lon&quot;: -120.25632744583334, &quot;longitude&quot;: &quot;120 15 22.778805 W&quot;, &quot;northing&quot;: 2131618.7305, &quot;notes&quot;: null, &quot;point_id&quot;: &quot;TID C&quot;, &quot;point_number&quot;: 125.0, &quot;source_elevation&quot;: &quot;\\\\\\\\ppeng.com\\\\pzdata\\\\clients\\\\Tranquillity ID-1075\\\\Ongoing-1075\\\\140-District Boundaries\\\\146 Benchmarks - GPS Control\\\\2013-01 Control-Well Survey\\\\2022-07\\\\2022July-2013Elevation_comparison.xls&quot;, &quot;source_point&quot;: &quot;\\\\\\\\ppeng.com\\\\pzdata\\\\clients\\\\Tranquillity ID-1075\\\\Ongoing-1075\\\\140-District Boundaries\\\\146 Benchmarks - GPS Control\\\\2013-01 Control-Well Survey\\\\2022-07\\\\2022July-2013Elevation_comparison.xls&quot;}, &quot;type&quot;: &quot;Feature&quot;}, {&quot;bbox&quot;: [-120.25632744583334, 36.67599903638889, -120.25632744583334, 36.67599903638889], &quot;geometry&quot;: {&quot;coordinates&quot;: [-120.25632744583334, 36.67599903638889], &quot;type&quot;: &quot;Point&quot;}, &quot;id&quot;: &quot;104&quot;, &quot;properties&quot;: {&quot;easting&quot;: 6193259.6414, &quot;elevation&quot;: 159.76, &quot;index_elevation&quot;: 160, &quot;index_point&quot;: 6, &quot;lat&quot;: 36.67599903638889, &quot;latitude&quot;: &quot;36 40 33.596531 N&quot;, &quot;lon&quot;: -120.25632744583334, &quot;longitude&quot;: &quot;120 15 22.778805 W&quot;, &quot;northing&quot;: 2131618.7305, &quot;notes&quot;: null, &quot;point_id&quot;: &quot;TID C&quot;, &quot;point_number&quot;: 125.0, &quot;source_elevation&quot;: &quot;\\\\\\\\ppeng.com\\\\pzdata\\\\clients\\\\Tranquillity ID-1075\\\\Ongoing-1075\\\\140-District Boundaries\\\\146 Benchmarks - GPS Control\\\\2013-01 Control-Well Survey\\\\2022-07\\\\2022July-2013Elevation_comparison.xls&quot;, &quot;source_point&quot;: &quot;\\\\\\\\ppeng.com\\\\pzdata\\\\clients\\\\Tranquillity ID-1075\\\\Ongoing-1075\\\\140-District Boundaries\\\\146 Benchmarks - GPS Control\\\\2013-01 Control-Well Survey\\\\2022-07\\\\2022July-2013Elevation_comparison.xls&quot;}, &quot;type&quot;: &quot;Feature&quot;}, {&quot;bbox&quot;: [-120.2976437375, 36.64657777055555, -120.2976437375, 36.64657777055555], &quot;geometry&quot;: {&quot;coordinates&quot;: [-120.2976437375, 36.64657777055555], &quot;type&quot;: &quot;Point&quot;}, &quot;id&quot;: &quot;105&quot;, &quot;properties&quot;: {&quot;easting&quot;: 6181000.0076, &quot;elevation&quot;: 158.49, &quot;index_elevation&quot;: 7, &quot;index_point&quot;: 7, &quot;lat&quot;: 36.64657777055555, &quot;latitude&quot;: &quot;36 38 47.679974 N&quot;, &quot;lon&quot;: -120.2976437375, &quot;longitude&quot;: &quot;120 17 51.517455 W&quot;, &quot;northing&quot;: 2121069.7899, &quot;notes&quot;: null, &quot;point_id&quot;: &quot;TID D&quot;, &quot;point_number&quot;: 105.0, &quot;source_elevation&quot;: &quot;\\\\\\\\ppeng.com\\\\pzdata\\\\clients\\\\Tranquillity ID-1075\\\\Ongoing-1075\\\\140-District Boundaries\\\\146 Benchmarks - GPS Control\\\\2013-01 Control-Well Survey\\\\2022-07\\\\2022July-2013Elevation_comparison.xls&quot;, &quot;source_point&quot;: &quot;\\\\\\\\ppeng.com\\\\pzdata\\\\clients\\\\Tranquillity ID-1075\\\\Ongoing-1075\\\\140-District Boundaries\\\\146 Benchmarks - GPS Control\\\\2013-01 Control-Well Survey\\\\2022-07\\\\2022July-2013Elevation_comparison.xls&quot;}, &quot;type&quot;: &quot;Feature&quot;}, {&quot;bbox&quot;: [-120.2976437375, 36.64657777055555, -120.2976437375, 36.64657777055555], &quot;geometry&quot;: {&quot;coordinates&quot;: [-120.2976437375, 36.64657777055555], &quot;type&quot;: &quot;Point&quot;}, &quot;id&quot;: &quot;106&quot;, &quot;properties&quot;: {&quot;easting&quot;: 6181000.0076, &quot;elevation&quot;: 158.5859, &quot;index_elevation&quot;: 18, &quot;index_point&quot;: 7, &quot;lat&quot;: 36.64657777055555, &quot;latitude&quot;: &quot;36 38 47.679974 N&quot;, &quot;lon&quot;: -120.2976437375, &quot;longitude&quot;: &quot;120 17 51.517455 W&quot;, &quot;northing&quot;: 2121069.7899, &quot;notes&quot;: null, &quot;point_id&quot;: &quot;TID D&quot;, &quot;point_number&quot;: 105.0, &quot;source_elevation&quot;: &quot;\\\\\\\\ppeng.com\\\\pzdata\\\\clients\\\\Tranquillity ID-1075\\\\Ongoing-1075\\\\140-District Boundaries\\\\146 Benchmarks - GPS Control\\\\2013-01 Control-Well Survey\\\\2022-07\\\\2022July-2013Elevation_comparison.xls&quot;, &quot;source_point&quot;: &quot;\\\\\\\\ppeng.com\\\\pzdata\\\\clients\\\\Tranquillity ID-1075\\\\Ongoing-1075\\\\140-District Boundaries\\\\146 Benchmarks - GPS Control\\\\2013-01 Control-Well Survey\\\\2022-07\\\\2022July-2013Elevation_comparison.xls&quot;}, &quot;type&quot;: &quot;Feature&quot;}, {&quot;bbox&quot;: [-120.2976437375, 36.64657777055555, -120.2976437375, 36.64657777055555], &quot;geometry&quot;: {&quot;coordinates&quot;: [-120.2976437375, 36.64657777055555], &quot;type&quot;: &quot;Point&quot;}, &quot;id&quot;: &quot;107&quot;, &quot;properties&quot;: {&quot;easting&quot;: 6181000.0076, &quot;elevation&quot;: 158.66, &quot;index_elevation&quot;: 29, &quot;index_point&quot;: 7, &quot;lat&quot;: 36.64657777055555, &quot;latitude&quot;: &quot;36 38 47.679974 N&quot;, &quot;lon&quot;: -120.2976437375, &quot;longitude&quot;: &quot;120 17 51.517455 W&quot;, &quot;northing&quot;: 2121069.7899, &quot;notes&quot;: null, &quot;point_id&quot;: &quot;TID D&quot;, &quot;point_number&quot;: 105.0, &quot;source_elevation&quot;: &quot;\\\\\\\\ppeng.com\\\\pzdata\\\\clients\\\\Tranquillity ID-1075\\\\Ongoing-1075\\\\140-District Boundaries\\\\146 Benchmarks - GPS Control\\\\2013-01 Control-Well Survey\\\\2022-07\\\\2022July-2013Elevation_comparison.xls&quot;, &quot;source_point&quot;: &quot;\\\\\\\\ppeng.com\\\\pzdata\\\\clients\\\\Tranquillity ID-1075\\\\Ongoing-1075\\\\140-District Boundaries\\\\146 Benchmarks - GPS Control\\\\2013-01 Control-Well Survey\\\\2022-07\\\\2022July-2013Elevation_comparison.xls&quot;}, &quot;type&quot;: &quot;Feature&quot;}, {&quot;bbox&quot;: [-120.2976437375, 36.64657777055555, -120.2976437375, 36.64657777055555], &quot;geometry&quot;: {&quot;coordinates&quot;: [-120.2976437375, 36.64657777055555], &quot;type&quot;: &quot;Point&quot;}, &quot;id&quot;: &quot;108&quot;, &quot;properties&quot;: {&quot;easting&quot;: 6181000.0076, &quot;elevation&quot;: 158.89, &quot;index_elevation&quot;: 40, &quot;index_point&quot;: 7, &quot;lat&quot;: 36.64657777055555, &quot;latitude&quot;: &quot;36 38 47.679974 N&quot;, &quot;lon&quot;: -120.2976437375, &quot;longitude&quot;: &quot;120 17 51.517455 W&quot;, &quot;northing&quot;: 2121069.7899, &quot;notes&quot;: null, &quot;point_id&quot;: &quot;TID D&quot;, &quot;point_number&quot;: 105.0, &quot;source_elevation&quot;: &quot;\\\\\\\\ppeng.com\\\\pzdata\\\\clients\\\\Tranquillity ID-1075\\\\Ongoing-1075\\\\140-District Boundaries\\\\146 Benchmarks - GPS Control\\\\2013-01 Control-Well Survey\\\\2022-07\\\\2022July-2013Elevation_comparison.xls&quot;, &quot;source_point&quot;: &quot;\\\\\\\\ppeng.com\\\\pzdata\\\\clients\\\\Tranquillity ID-1075\\\\Ongoing-1075\\\\140-District Boundaries\\\\146 Benchmarks - GPS Control\\\\2013-01 Control-Well Survey\\\\2022-07\\\\2022July-2013Elevation_comparison.xls&quot;}, &quot;type&quot;: &quot;Feature&quot;}, {&quot;bbox&quot;: [-120.2976437375, 36.64657777055555, -120.2976437375, 36.64657777055555], &quot;geometry&quot;: {&quot;coordinates&quot;: [-120.2976437375, 36.64657777055555], &quot;type&quot;: &quot;Point&quot;}, &quot;id&quot;: &quot;109&quot;, &quot;properties&quot;: {&quot;easting&quot;: 6181000.0076, &quot;elevation&quot;: 159.129, &quot;index_elevation&quot;: 51, &quot;index_point&quot;: 7, &quot;lat&quot;: 36.64657777055555, &quot;latitude&quot;: &quot;36 38 47.679974 N&quot;, &quot;lon&quot;: -120.2976437375, &quot;longitude&quot;: &quot;120 17 51.517455 W&quot;, &quot;northing&quot;: 2121069.7899, &quot;notes&quot;: null, &quot;point_id&quot;: &quot;TID D&quot;, &quot;point_number&quot;: 105.0, &quot;source_elevation&quot;: &quot;\\\\\\\\ppeng.com\\\\pzdata\\\\clients\\\\Tranquillity ID-1075\\\\Ongoing-1075\\\\140-District Boundaries\\\\146 Benchmarks - GPS Control\\\\2013-01 Control-Well Survey\\\\2022-07\\\\2022July-2013Elevation_comparison.xls&quot;, &quot;source_point&quot;: &quot;\\\\\\\\ppeng.com\\\\pzdata\\\\clients\\\\Tranquillity ID-1075\\\\Ongoing-1075\\\\140-District Boundaries\\\\146 Benchmarks - GPS Control\\\\2013-01 Control-Well Survey\\\\2022-07\\\\2022July-2013Elevation_comparison.xls&quot;}, &quot;type&quot;: &quot;Feature&quot;}, {&quot;bbox&quot;: [-120.2976437375, 36.64657777055555, -120.2976437375, 36.64657777055555], &quot;geometry&quot;: {&quot;coordinates&quot;: [-120.2976437375, 36.64657777055555], &quot;type&quot;: &quot;Point&quot;}, &quot;id&quot;: &quot;110&quot;, &quot;properties&quot;: {&quot;easting&quot;: 6181000.0076, &quot;elevation&quot;: 159.12, &quot;index_elevation&quot;: 62, &quot;index_point&quot;: 7, &quot;lat&quot;: 36.64657777055555, &quot;latitude&quot;: &quot;36 38 47.679974 N&quot;, &quot;lon&quot;: -120.2976437375, &quot;longitude&quot;: &quot;120 17 51.517455 W&quot;, &quot;northing&quot;: 2121069.7899, &quot;notes&quot;: null, &quot;point_id&quot;: &quot;TID D&quot;, &quot;point_number&quot;: 105.0, &quot;source_elevation&quot;: &quot;\\\\\\\\ppeng.com\\\\pzdata\\\\clients\\\\Tranquillity ID-1075\\\\Ongoing-1075\\\\140-District Boundaries\\\\146 Benchmarks - GPS Control\\\\2013-01 Control-Well Survey\\\\2022-07\\\\2022July-2013Elevation_comparison.xls&quot;, &quot;source_point&quot;: &quot;\\\\\\\\ppeng.com\\\\pzdata\\\\clients\\\\Tranquillity ID-1075\\\\Ongoing-1075\\\\140-District Boundaries\\\\146 Benchmarks - GPS Control\\\\2013-01 Control-Well Survey\\\\2022-07\\\\2022July-2013Elevation_comparison.xls&quot;}, &quot;type&quot;: &quot;Feature&quot;}, {&quot;bbox&quot;: [-120.2976437375, 36.64657777055555, -120.2976437375, 36.64657777055555], &quot;geometry&quot;: {&quot;coordinates&quot;: [-120.2976437375, 36.64657777055555], &quot;type&quot;: &quot;Point&quot;}, &quot;id&quot;: &quot;111&quot;, &quot;properties&quot;: {&quot;easting&quot;: 6181000.0076, &quot;elevation&quot;: 159.19, &quot;index_elevation&quot;: 73, &quot;index_point&quot;: 7, &quot;lat&quot;: 36.64657777055555, &quot;latitude&quot;: &quot;36 38 47.679974 N&quot;, &quot;lon&quot;: -120.2976437375, &quot;longitude&quot;: &quot;120 17 51.517455 W&quot;, &quot;northing&quot;: 2121069.7899, &quot;notes&quot;: null, &quot;point_id&quot;: &quot;TID D&quot;, &quot;point_number&quot;: 105.0, &quot;source_elevation&quot;: &quot;\\\\\\\\ppeng.com\\\\pzdata\\\\clients\\\\Tranquillity ID-1075\\\\Ongoing-1075\\\\140-District Boundaries\\\\146 Benchmarks - GPS Control\\\\2013-01 Control-Well Survey\\\\2022-07\\\\2022July-2013Elevation_comparison.xls&quot;, &quot;source_point&quot;: &quot;\\\\\\\\ppeng.com\\\\pzdata\\\\clients\\\\Tranquillity ID-1075\\\\Ongoing-1075\\\\140-District Boundaries\\\\146 Benchmarks - GPS Control\\\\2013-01 Control-Well Survey\\\\2022-07\\\\2022July-2013Elevation_comparison.xls&quot;}, &quot;type&quot;: &quot;Feature&quot;}, {&quot;bbox&quot;: [-120.2976437375, 36.64657777055555, -120.2976437375, 36.64657777055555], &quot;geometry&quot;: {&quot;coordinates&quot;: [-120.2976437375, 36.64657777055555], &quot;type&quot;: &quot;Point&quot;}, &quot;id&quot;: &quot;112&quot;, &quot;properties&quot;: {&quot;easting&quot;: 6181000.0076, &quot;elevation&quot;: 159.11, &quot;index_elevation&quot;: 84, &quot;index_point&quot;: 7, &quot;lat&quot;: 36.64657777055555, &quot;latitude&quot;: &quot;36 38 47.679974 N&quot;, &quot;lon&quot;: -120.2976437375, &quot;longitude&quot;: &quot;120 17 51.517455 W&quot;, &quot;northing&quot;: 2121069.7899, &quot;notes&quot;: null, &quot;point_id&quot;: &quot;TID D&quot;, &quot;point_number&quot;: 105.0, &quot;source_elevation&quot;: &quot;\\\\\\\\ppeng.com\\\\pzdata\\\\clients\\\\Tranquillity ID-1075\\\\Ongoing-1075\\\\140-District Boundaries\\\\146 Benchmarks - GPS Control\\\\2013-01 Control-Well Survey\\\\2022-07\\\\2022July-2013Elevation_comparison.xls&quot;, &quot;source_point&quot;: &quot;\\\\\\\\ppeng.com\\\\pzdata\\\\clients\\\\Tranquillity ID-1075\\\\Ongoing-1075\\\\140-District Boundaries\\\\146 Benchmarks - GPS Control\\\\2013-01 Control-Well Survey\\\\2022-07\\\\2022July-2013Elevation_comparison.xls&quot;}, &quot;type&quot;: &quot;Feature&quot;}, {&quot;bbox&quot;: [-120.2976437375, 36.64657777055555, -120.2976437375, 36.64657777055555], &quot;geometry&quot;: {&quot;coordinates&quot;: [-120.2976437375, 36.64657777055555], &quot;type&quot;: &quot;Point&quot;}, &quot;id&quot;: &quot;113&quot;, &quot;properties&quot;: {&quot;easting&quot;: 6181000.0076, &quot;elevation&quot;: 159.3, &quot;index_elevation&quot;: 95, &quot;index_point&quot;: 7, &quot;lat&quot;: 36.64657777055555, &quot;latitude&quot;: &quot;36 38 47.679974 N&quot;, &quot;lon&quot;: -120.2976437375, &quot;longitude&quot;: &quot;120 17 51.517455 W&quot;, &quot;northing&quot;: 2121069.7899, &quot;notes&quot;: null, &quot;point_id&quot;: &quot;TID D&quot;, &quot;point_number&quot;: 105.0, &quot;source_elevation&quot;: &quot;\\\\\\\\ppeng.com\\\\pzdata\\\\clients\\\\Tranquillity ID-1075\\\\Ongoing-1075\\\\140-District Boundaries\\\\146 Benchmarks - GPS Control\\\\2013-01 Control-Well Survey\\\\2022-07\\\\2022July-2013Elevation_comparison.xls&quot;, &quot;source_point&quot;: &quot;\\\\\\\\ppeng.com\\\\pzdata\\\\clients\\\\Tranquillity ID-1075\\\\Ongoing-1075\\\\140-District Boundaries\\\\146 Benchmarks - GPS Control\\\\2013-01 Control-Well Survey\\\\2022-07\\\\2022July-2013Elevation_comparison.xls&quot;}, &quot;type&quot;: &quot;Feature&quot;}, {&quot;bbox&quot;: [-120.2976437375, 36.64657777055555, -120.2976437375, 36.64657777055555], &quot;geometry&quot;: {&quot;coordinates&quot;: [-120.2976437375, 36.64657777055555], &quot;type&quot;: &quot;Point&quot;}, &quot;id&quot;: &quot;114&quot;, &quot;properties&quot;: {&quot;easting&quot;: 6181000.0076, &quot;elevation&quot;: 159.27, &quot;index_elevation&quot;: 106, &quot;index_point&quot;: 7, &quot;lat&quot;: 36.64657777055555, &quot;latitude&quot;: &quot;36 38 47.679974 N&quot;, &quot;lon&quot;: -120.2976437375, &quot;longitude&quot;: &quot;120 17 51.517455 W&quot;, &quot;northing&quot;: 2121069.7899, &quot;notes&quot;: null, &quot;point_id&quot;: &quot;TID D&quot;, &quot;point_number&quot;: 105.0, &quot;source_elevation&quot;: &quot;\\\\\\\\ppeng.com\\\\pzdata\\\\clients\\\\Tranquillity ID-1075\\\\Ongoing-1075\\\\140-District Boundaries\\\\146 Benchmarks - GPS Control\\\\2013-01 Control-Well Survey\\\\2022-07\\\\2022July-2013Elevation_comparison.xls&quot;, &quot;source_point&quot;: &quot;\\\\\\\\ppeng.com\\\\pzdata\\\\clients\\\\Tranquillity ID-1075\\\\Ongoing-1075\\\\140-District Boundaries\\\\146 Benchmarks - GPS Control\\\\2013-01 Control-Well Survey\\\\2022-07\\\\2022July-2013Elevation_comparison.xls&quot;}, &quot;type&quot;: &quot;Feature&quot;}, {&quot;bbox&quot;: [-120.2976437375, 36.64657777055555, -120.2976437375, 36.64657777055555], &quot;geometry&quot;: {&quot;coordinates&quot;: [-120.2976437375, 36.64657777055555], &quot;type&quot;: &quot;Point&quot;}, &quot;id&quot;: &quot;115&quot;, &quot;properties&quot;: {&quot;easting&quot;: 6181000.0076, &quot;elevation&quot;: null, &quot;index_elevation&quot;: 117, &quot;index_point&quot;: 7, &quot;lat&quot;: 36.64657777055555, &quot;latitude&quot;: &quot;36 38 47.679974 N&quot;, &quot;lon&quot;: -120.2976437375, &quot;longitude&quot;: &quot;120 17 51.517455 W&quot;, &quot;northing&quot;: 2121069.7899, &quot;notes&quot;: null, &quot;point_id&quot;: &quot;TID D&quot;, &quot;point_number&quot;: 105.0, &quot;source_elevation&quot;: &quot;\\\\\\\\ppeng.com\\\\pzdata\\\\clients\\\\Tranquillity ID-1075\\\\Ongoing-1075\\\\140-District Boundaries\\\\146 Benchmarks - GPS Control\\\\2013-01 Control-Well Survey\\\\2022-07\\\\2022July-2013Elevation_comparison.xls&quot;, &quot;source_point&quot;: &quot;\\\\\\\\ppeng.com\\\\pzdata\\\\clients\\\\Tranquillity ID-1075\\\\Ongoing-1075\\\\140-District Boundaries\\\\146 Benchmarks - GPS Control\\\\2013-01 Control-Well Survey\\\\2022-07\\\\2022July-2013Elevation_comparison.xls&quot;}, &quot;type&quot;: &quot;Feature&quot;}, {&quot;bbox&quot;: [-120.2976437375, 36.64657777055555, -120.2976437375, 36.64657777055555], &quot;geometry&quot;: {&quot;coordinates&quot;: [-120.2976437375, 36.64657777055555], &quot;type&quot;: &quot;Point&quot;}, &quot;id&quot;: &quot;116&quot;, &quot;properties&quot;: {&quot;easting&quot;: 6181000.0076, &quot;elevation&quot;: null, &quot;index_elevation&quot;: 128, &quot;index_point&quot;: 7, &quot;lat&quot;: 36.64657777055555, &quot;latitude&quot;: &quot;36 38 47.679974 N&quot;, &quot;lon&quot;: -120.2976437375, &quot;longitude&quot;: &quot;120 17 51.517455 W&quot;, &quot;northing&quot;: 2121069.7899, &quot;notes&quot;: null, &quot;point_id&quot;: &quot;TID D&quot;, &quot;point_number&quot;: 105.0, &quot;source_elevation&quot;: &quot;\\\\\\\\ppeng.com\\\\pzdata\\\\clients\\\\Tranquillity ID-1075\\\\Ongoing-1075\\\\140-District Boundaries\\\\146 Benchmarks - GPS Control\\\\2013-01 Control-Well Survey\\\\2022-07\\\\2022July-2013Elevation_comparison.xls&quot;, &quot;source_point&quot;: &quot;\\\\\\\\ppeng.com\\\\pzdata\\\\clients\\\\Tranquillity ID-1075\\\\Ongoing-1075\\\\140-District Boundaries\\\\146 Benchmarks - GPS Control\\\\2013-01 Control-Well Survey\\\\2022-07\\\\2022July-2013Elevation_comparison.xls&quot;}, &quot;type&quot;: &quot;Feature&quot;}, {&quot;bbox&quot;: [-120.2976437375, 36.64657777055555, -120.2976437375, 36.64657777055555], &quot;geometry&quot;: {&quot;coordinates&quot;: [-120.2976437375, 36.64657777055555], &quot;type&quot;: &quot;Point&quot;}, &quot;id&quot;: &quot;117&quot;, &quot;properties&quot;: {&quot;easting&quot;: 6181000.0076, &quot;elevation&quot;: null, &quot;index_elevation&quot;: 139, &quot;index_point&quot;: 7, &quot;lat&quot;: 36.64657777055555, &quot;latitude&quot;: &quot;36 38 47.679974 N&quot;, &quot;lon&quot;: -120.2976437375, &quot;longitude&quot;: &quot;120 17 51.517455 W&quot;, &quot;northing&quot;: 2121069.7899, &quot;notes&quot;: null, &quot;point_id&quot;: &quot;TID D&quot;, &quot;point_number&quot;: 105.0, &quot;source_elevation&quot;: &quot;\\\\\\\\ppeng.com\\\\pzdata\\\\clients\\\\Tranquillity ID-1075\\\\Ongoing-1075\\\\140-District Boundaries\\\\146 Benchmarks - GPS Control\\\\2013-01 Control-Well Survey\\\\2022-07\\\\2022July-2013Elevation_comparison.xls&quot;, &quot;source_point&quot;: &quot;\\\\\\\\ppeng.com\\\\pzdata\\\\clients\\\\Tranquillity ID-1075\\\\Ongoing-1075\\\\140-District Boundaries\\\\146 Benchmarks - GPS Control\\\\2013-01 Control-Well Survey\\\\2022-07\\\\2022July-2013Elevation_comparison.xls&quot;}, &quot;type&quot;: &quot;Feature&quot;}, {&quot;bbox&quot;: [-120.2976437375, 36.64657777055555, -120.2976437375, 36.64657777055555], &quot;geometry&quot;: {&quot;coordinates&quot;: [-120.2976437375, 36.64657777055555], &quot;type&quot;: &quot;Point&quot;}, &quot;id&quot;: &quot;118&quot;, &quot;properties&quot;: {&quot;easting&quot;: 6181000.0076, &quot;elevation&quot;: null, &quot;index_elevation&quot;: 150, &quot;index_point&quot;: 7, &quot;lat&quot;: 36.64657777055555, &quot;latitude&quot;: &quot;36 38 47.679974 N&quot;, &quot;lon&quot;: -120.2976437375, &quot;longitude&quot;: &quot;120 17 51.517455 W&quot;, &quot;northing&quot;: 2121069.7899, &quot;notes&quot;: null, &quot;point_id&quot;: &quot;TID D&quot;, &quot;point_number&quot;: 105.0, &quot;source_elevation&quot;: &quot;\\\\\\\\ppeng.com\\\\pzdata\\\\clients\\\\Tranquillity ID-1075\\\\Ongoing-1075\\\\140-District Boundaries\\\\146 Benchmarks - GPS Control\\\\2013-01 Control-Well Survey\\\\2022-07\\\\2022July-2013Elevation_comparison.xls&quot;, &quot;source_point&quot;: &quot;\\\\\\\\ppeng.com\\\\pzdata\\\\clients\\\\Tranquillity ID-1075\\\\Ongoing-1075\\\\140-District Boundaries\\\\146 Benchmarks - GPS Control\\\\2013-01 Control-Well Survey\\\\2022-07\\\\2022July-2013Elevation_comparison.xls&quot;}, &quot;type&quot;: &quot;Feature&quot;}, {&quot;bbox&quot;: [-120.2976437375, 36.64657777055555, -120.2976437375, 36.64657777055555], &quot;geometry&quot;: {&quot;coordinates&quot;: [-120.2976437375, 36.64657777055555], &quot;type&quot;: &quot;Point&quot;}, &quot;id&quot;: &quot;119&quot;, &quot;properties&quot;: {&quot;easting&quot;: 6181000.0076, &quot;elevation&quot;: 161.17, &quot;index_elevation&quot;: 161, &quot;index_point&quot;: 7, &quot;lat&quot;: 36.64657777055555, &quot;latitude&quot;: &quot;36 38 47.679974 N&quot;, &quot;lon&quot;: -120.2976437375, &quot;longitude&quot;: &quot;120 17 51.517455 W&quot;, &quot;northing&quot;: 2121069.7899, &quot;notes&quot;: null, &quot;point_id&quot;: &quot;TID D&quot;, &quot;point_number&quot;: 105.0, &quot;source_elevation&quot;: &quot;\\\\\\\\ppeng.com\\\\pzdata\\\\clients\\\\Tranquillity ID-1075\\\\Ongoing-1075\\\\140-District Boundaries\\\\146 Benchmarks - GPS Control\\\\2013-01 Control-Well Survey\\\\2022-07\\\\2022July-2013Elevation_comparison.xls&quot;, &quot;source_point&quot;: &quot;\\\\\\\\ppeng.com\\\\pzdata\\\\clients\\\\Tranquillity ID-1075\\\\Ongoing-1075\\\\140-District Boundaries\\\\146 Benchmarks - GPS Control\\\\2013-01 Control-Well Survey\\\\2022-07\\\\2022July-2013Elevation_comparison.xls&quot;}, &quot;type&quot;: &quot;Feature&quot;}, {&quot;bbox&quot;: [-120.16262884555556, 36.589257136111115, -120.16262884555556, 36.589257136111115], &quot;geometry&quot;: {&quot;coordinates&quot;: [-120.16262884555556, 36.589257136111115], &quot;type&quot;: &quot;Point&quot;}, &quot;id&quot;: &quot;120&quot;, &quot;properties&quot;: {&quot;easting&quot;: 6220352.2627, &quot;elevation&quot;: 174.64, &quot;index_elevation&quot;: 8, &quot;index_point&quot;: 8, &quot;lat&quot;: 36.589257136111115, &quot;latitude&quot;: &quot;36 35 21.325690 N&quot;, &quot;lon&quot;: -120.16262884555556, &quot;longitude&quot;: &quot;120 09 45.463844 W&quot;, &quot;northing&quot;: 2099696.19, &quot;notes&quot;: null, &quot;point_id&quot;: &quot;Martin&quot;, &quot;point_number&quot;: null, &quot;source_elevation&quot;: &quot;\\\\\\\\ppeng.com\\\\pzdata\\\\clients\\\\Tranquillity ID-1075\\\\Ongoing-1075\\\\140-District Boundaries\\\\146 Benchmarks - GPS Control\\\\2013-01 Control-Well Survey\\\\2022-07\\\\2022July-2013Elevation_comparison.xls&quot;, &quot;source_point&quot;: &quot;\\\\\\\\ppeng.com\\\\pzdata\\\\clients\\\\Tranquillity ID-1075\\\\Ongoing-1075\\\\140-District Boundaries\\\\146 Benchmarks - GPS Control\\\\2013-01 Control-Well Survey\\\\2022-07\\\\2022July-2013Elevation_comparison.xls&quot;}, &quot;type&quot;: &quot;Feature&quot;}, {&quot;bbox&quot;: [-120.16262884555556, 36.589257136111115, -120.16262884555556, 36.589257136111115], &quot;geometry&quot;: {&quot;coordinates&quot;: [-120.16262884555556, 36.589257136111115], &quot;type&quot;: &quot;Point&quot;}, &quot;id&quot;: &quot;121&quot;, &quot;properties&quot;: {&quot;easting&quot;: 6220352.2627, &quot;elevation&quot;: 174.626, &quot;index_elevation&quot;: 19, &quot;index_point&quot;: 8, &quot;lat&quot;: 36.589257136111115, &quot;latitude&quot;: &quot;36 35 21.325690 N&quot;, &quot;lon&quot;: -120.16262884555556, &quot;longitude&quot;: &quot;120 09 45.463844 W&quot;, &quot;northing&quot;: 2099696.19, &quot;notes&quot;: null, &quot;point_id&quot;: &quot;Martin&quot;, &quot;point_number&quot;: null, &quot;source_elevation&quot;: &quot;\\\\\\\\ppeng.com\\\\pzdata\\\\clients\\\\Tranquillity ID-1075\\\\Ongoing-1075\\\\140-District Boundaries\\\\146 Benchmarks - GPS Control\\\\2013-01 Control-Well Survey\\\\2022-07\\\\2022July-2013Elevation_comparison.xls&quot;, &quot;source_point&quot;: &quot;\\\\\\\\ppeng.com\\\\pzdata\\\\clients\\\\Tranquillity ID-1075\\\\Ongoing-1075\\\\140-District Boundaries\\\\146 Benchmarks - GPS Control\\\\2013-01 Control-Well Survey\\\\2022-07\\\\2022July-2013Elevation_comparison.xls&quot;}, &quot;type&quot;: &quot;Feature&quot;}, {&quot;bbox&quot;: [-120.16262884555556, 36.589257136111115, -120.16262884555556, 36.589257136111115], &quot;geometry&quot;: {&quot;coordinates&quot;: [-120.16262884555556, 36.589257136111115], &quot;type&quot;: &quot;Point&quot;}, &quot;id&quot;: &quot;122&quot;, &quot;properties&quot;: {&quot;easting&quot;: 6220352.2627, &quot;elevation&quot;: 174.73, &quot;index_elevation&quot;: 30, &quot;index_point&quot;: 8, &quot;lat&quot;: 36.589257136111115, &quot;latitude&quot;: &quot;36 35 21.325690 N&quot;, &quot;lon&quot;: -120.16262884555556, &quot;longitude&quot;: &quot;120 09 45.463844 W&quot;, &quot;northing&quot;: 2099696.19, &quot;notes&quot;: null, &quot;point_id&quot;: &quot;Martin&quot;, &quot;point_number&quot;: null, &quot;source_elevation&quot;: &quot;\\\\\\\\ppeng.com\\\\pzdata\\\\clients\\\\Tranquillity ID-1075\\\\Ongoing-1075\\\\140-District Boundaries\\\\146 Benchmarks - GPS Control\\\\2013-01 Control-Well Survey\\\\2022-07\\\\2022July-2013Elevation_comparison.xls&quot;, &quot;source_point&quot;: &quot;\\\\\\\\ppeng.com\\\\pzdata\\\\clients\\\\Tranquillity ID-1075\\\\Ongoing-1075\\\\140-District Boundaries\\\\146 Benchmarks - GPS Control\\\\2013-01 Control-Well Survey\\\\2022-07\\\\2022July-2013Elevation_comparison.xls&quot;}, &quot;type&quot;: &quot;Feature&quot;}, {&quot;bbox&quot;: [-120.16262884555556, 36.589257136111115, -120.16262884555556, 36.589257136111115], &quot;geometry&quot;: {&quot;coordinates&quot;: [-120.16262884555556, 36.589257136111115], &quot;type&quot;: &quot;Point&quot;}, &quot;id&quot;: &quot;123&quot;, &quot;properties&quot;: {&quot;easting&quot;: 6220352.2627, &quot;elevation&quot;: 174.83, &quot;index_elevation&quot;: 41, &quot;index_point&quot;: 8, &quot;lat&quot;: 36.589257136111115, &quot;latitude&quot;: &quot;36 35 21.325690 N&quot;, &quot;lon&quot;: -120.16262884555556, &quot;longitude&quot;: &quot;120 09 45.463844 W&quot;, &quot;northing&quot;: 2099696.19, &quot;notes&quot;: null, &quot;point_id&quot;: &quot;Martin&quot;, &quot;point_number&quot;: null, &quot;source_elevation&quot;: &quot;\\\\\\\\ppeng.com\\\\pzdata\\\\clients\\\\Tranquillity ID-1075\\\\Ongoing-1075\\\\140-District Boundaries\\\\146 Benchmarks - GPS Control\\\\2013-01 Control-Well Survey\\\\2022-07\\\\2022July-2013Elevation_comparison.xls&quot;, &quot;source_point&quot;: &quot;\\\\\\\\ppeng.com\\\\pzdata\\\\clients\\\\Tranquillity ID-1075\\\\Ongoing-1075\\\\140-District Boundaries\\\\146 Benchmarks - GPS Control\\\\2013-01 Control-Well Survey\\\\2022-07\\\\2022July-2013Elevation_comparison.xls&quot;}, &quot;type&quot;: &quot;Feature&quot;}, {&quot;bbox&quot;: [-120.16262884555556, 36.589257136111115, -120.16262884555556, 36.589257136111115], &quot;geometry&quot;: {&quot;coordinates&quot;: [-120.16262884555556, 36.589257136111115], &quot;type&quot;: &quot;Point&quot;}, &quot;id&quot;: &quot;124&quot;, &quot;properties&quot;: {&quot;easting&quot;: 6220352.2627, &quot;elevation&quot;: 174.989, &quot;index_elevation&quot;: 52, &quot;index_point&quot;: 8, &quot;lat&quot;: 36.589257136111115, &quot;latitude&quot;: &quot;36 35 21.325690 N&quot;, &quot;lon&quot;: -120.16262884555556, &quot;longitude&quot;: &quot;120 09 45.463844 W&quot;, &quot;northing&quot;: 2099696.19, &quot;notes&quot;: null, &quot;point_id&quot;: &quot;Martin&quot;, &quot;point_number&quot;: null, &quot;source_elevation&quot;: &quot;\\\\\\\\ppeng.com\\\\pzdata\\\\clients\\\\Tranquillity ID-1075\\\\Ongoing-1075\\\\140-District Boundaries\\\\146 Benchmarks - GPS Control\\\\2013-01 Control-Well Survey\\\\2022-07\\\\2022July-2013Elevation_comparison.xls&quot;, &quot;source_point&quot;: &quot;\\\\\\\\ppeng.com\\\\pzdata\\\\clients\\\\Tranquillity ID-1075\\\\Ongoing-1075\\\\140-District Boundaries\\\\146 Benchmarks - GPS Control\\\\2013-01 Control-Well Survey\\\\2022-07\\\\2022July-2013Elevation_comparison.xls&quot;}, &quot;type&quot;: &quot;Feature&quot;}, {&quot;bbox&quot;: [-120.16262884555556, 36.589257136111115, -120.16262884555556, 36.589257136111115], &quot;geometry&quot;: {&quot;coordinates&quot;: [-120.16262884555556, 36.589257136111115], &quot;type&quot;: &quot;Point&quot;}, &quot;id&quot;: &quot;125&quot;, &quot;properties&quot;: {&quot;easting&quot;: 6220352.2627, &quot;elevation&quot;: 175.05, &quot;index_elevation&quot;: 63, &quot;index_point&quot;: 8, &quot;lat&quot;: 36.589257136111115, &quot;latitude&quot;: &quot;36 35 21.325690 N&quot;, &quot;lon&quot;: -120.16262884555556, &quot;longitude&quot;: &quot;120 09 45.463844 W&quot;, &quot;northing&quot;: 2099696.19, &quot;notes&quot;: null, &quot;point_id&quot;: &quot;Martin&quot;, &quot;point_number&quot;: null, &quot;source_elevation&quot;: &quot;\\\\\\\\ppeng.com\\\\pzdata\\\\clients\\\\Tranquillity ID-1075\\\\Ongoing-1075\\\\140-District Boundaries\\\\146 Benchmarks - GPS Control\\\\2013-01 Control-Well Survey\\\\2022-07\\\\2022July-2013Elevation_comparison.xls&quot;, &quot;source_point&quot;: &quot;\\\\\\\\ppeng.com\\\\pzdata\\\\clients\\\\Tranquillity ID-1075\\\\Ongoing-1075\\\\140-District Boundaries\\\\146 Benchmarks - GPS Control\\\\2013-01 Control-Well Survey\\\\2022-07\\\\2022July-2013Elevation_comparison.xls&quot;}, &quot;type&quot;: &quot;Feature&quot;}, {&quot;bbox&quot;: [-120.16262884555556, 36.589257136111115, -120.16262884555556, 36.589257136111115], &quot;geometry&quot;: {&quot;coordinates&quot;: [-120.16262884555556, 36.589257136111115], &quot;type&quot;: &quot;Point&quot;}, &quot;id&quot;: &quot;126&quot;, &quot;properties&quot;: {&quot;easting&quot;: 6220352.2627, &quot;elevation&quot;: 175.1, &quot;index_elevation&quot;: 74, &quot;index_point&quot;: 8, &quot;lat&quot;: 36.589257136111115, &quot;latitude&quot;: &quot;36 35 21.325690 N&quot;, &quot;lon&quot;: -120.16262884555556, &quot;longitude&quot;: &quot;120 09 45.463844 W&quot;, &quot;northing&quot;: 2099696.19, &quot;notes&quot;: null, &quot;point_id&quot;: &quot;Martin&quot;, &quot;point_number&quot;: null, &quot;source_elevation&quot;: &quot;\\\\\\\\ppeng.com\\\\pzdata\\\\clients\\\\Tranquillity ID-1075\\\\Ongoing-1075\\\\140-District Boundaries\\\\146 Benchmarks - GPS Control\\\\2013-01 Control-Well Survey\\\\2022-07\\\\2022July-2013Elevation_comparison.xls&quot;, &quot;source_point&quot;: &quot;\\\\\\\\ppeng.com\\\\pzdata\\\\clients\\\\Tranquillity ID-1075\\\\Ongoing-1075\\\\140-District Boundaries\\\\146 Benchmarks - GPS Control\\\\2013-01 Control-Well Survey\\\\2022-07\\\\2022July-2013Elevation_comparison.xls&quot;}, &quot;type&quot;: &quot;Feature&quot;}, {&quot;bbox&quot;: [-120.16262884555556, 36.589257136111115, -120.16262884555556, 36.589257136111115], &quot;geometry&quot;: {&quot;coordinates&quot;: [-120.16262884555556, 36.589257136111115], &quot;type&quot;: &quot;Point&quot;}, &quot;id&quot;: &quot;127&quot;, &quot;properties&quot;: {&quot;easting&quot;: 6220352.2627, &quot;elevation&quot;: 175.01, &quot;index_elevation&quot;: 85, &quot;index_point&quot;: 8, &quot;lat&quot;: 36.589257136111115, &quot;latitude&quot;: &quot;36 35 21.325690 N&quot;, &quot;lon&quot;: -120.16262884555556, &quot;longitude&quot;: &quot;120 09 45.463844 W&quot;, &quot;northing&quot;: 2099696.19, &quot;notes&quot;: null, &quot;point_id&quot;: &quot;Martin&quot;, &quot;point_number&quot;: null, &quot;source_elevation&quot;: &quot;\\\\\\\\ppeng.com\\\\pzdata\\\\clients\\\\Tranquillity ID-1075\\\\Ongoing-1075\\\\140-District Boundaries\\\\146 Benchmarks - GPS Control\\\\2013-01 Control-Well Survey\\\\2022-07\\\\2022July-2013Elevation_comparison.xls&quot;, &quot;source_point&quot;: &quot;\\\\\\\\ppeng.com\\\\pzdata\\\\clients\\\\Tranquillity ID-1075\\\\Ongoing-1075\\\\140-District Boundaries\\\\146 Benchmarks - GPS Control\\\\2013-01 Control-Well Survey\\\\2022-07\\\\2022July-2013Elevation_comparison.xls&quot;}, &quot;type&quot;: &quot;Feature&quot;}, {&quot;bbox&quot;: [-120.16262884555556, 36.589257136111115, -120.16262884555556, 36.589257136111115], &quot;geometry&quot;: {&quot;coordinates&quot;: [-120.16262884555556, 36.589257136111115], &quot;type&quot;: &quot;Point&quot;}, &quot;id&quot;: &quot;128&quot;, &quot;properties&quot;: {&quot;easting&quot;: 6220352.2627, &quot;elevation&quot;: 175.2, &quot;index_elevation&quot;: 96, &quot;index_point&quot;: 8, &quot;lat&quot;: 36.589257136111115, &quot;latitude&quot;: &quot;36 35 21.325690 N&quot;, &quot;lon&quot;: -120.16262884555556, &quot;longitude&quot;: &quot;120 09 45.463844 W&quot;, &quot;northing&quot;: 2099696.19, &quot;notes&quot;: null, &quot;point_id&quot;: &quot;Martin&quot;, &quot;point_number&quot;: null, &quot;source_elevation&quot;: &quot;\\\\\\\\ppeng.com\\\\pzdata\\\\clients\\\\Tranquillity ID-1075\\\\Ongoing-1075\\\\140-District Boundaries\\\\146 Benchmarks - GPS Control\\\\2013-01 Control-Well Survey\\\\2022-07\\\\2022July-2013Elevation_comparison.xls&quot;, &quot;source_point&quot;: &quot;\\\\\\\\ppeng.com\\\\pzdata\\\\clients\\\\Tranquillity ID-1075\\\\Ongoing-1075\\\\140-District Boundaries\\\\146 Benchmarks - GPS Control\\\\2013-01 Control-Well Survey\\\\2022-07\\\\2022July-2013Elevation_comparison.xls&quot;}, &quot;type&quot;: &quot;Feature&quot;}, {&quot;bbox&quot;: [-120.16262884555556, 36.589257136111115, -120.16262884555556, 36.589257136111115], &quot;geometry&quot;: {&quot;coordinates&quot;: [-120.16262884555556, 36.589257136111115], &quot;type&quot;: &quot;Point&quot;}, &quot;id&quot;: &quot;129&quot;, &quot;properties&quot;: {&quot;easting&quot;: 6220352.2627, &quot;elevation&quot;: 175.23, &quot;index_elevation&quot;: 107, &quot;index_point&quot;: 8, &quot;lat&quot;: 36.589257136111115, &quot;latitude&quot;: &quot;36 35 21.325690 N&quot;, &quot;lon&quot;: -120.16262884555556, &quot;longitude&quot;: &quot;120 09 45.463844 W&quot;, &quot;northing&quot;: 2099696.19, &quot;notes&quot;: null, &quot;point_id&quot;: &quot;Martin&quot;, &quot;point_number&quot;: null, &quot;source_elevation&quot;: &quot;\\\\\\\\ppeng.com\\\\pzdata\\\\clients\\\\Tranquillity ID-1075\\\\Ongoing-1075\\\\140-District Boundaries\\\\146 Benchmarks - GPS Control\\\\2013-01 Control-Well Survey\\\\2022-07\\\\2022July-2013Elevation_comparison.xls&quot;, &quot;source_point&quot;: &quot;\\\\\\\\ppeng.com\\\\pzdata\\\\clients\\\\Tranquillity ID-1075\\\\Ongoing-1075\\\\140-District Boundaries\\\\146 Benchmarks - GPS Control\\\\2013-01 Control-Well Survey\\\\2022-07\\\\2022July-2013Elevation_comparison.xls&quot;}, &quot;type&quot;: &quot;Feature&quot;}, {&quot;bbox&quot;: [-120.16262884555556, 36.589257136111115, -120.16262884555556, 36.589257136111115], &quot;geometry&quot;: {&quot;coordinates&quot;: [-120.16262884555556, 36.589257136111115], &quot;type&quot;: &quot;Point&quot;}, &quot;id&quot;: &quot;130&quot;, &quot;properties&quot;: {&quot;easting&quot;: 6220352.2627, &quot;elevation&quot;: null, &quot;index_elevation&quot;: 118, &quot;index_point&quot;: 8, &quot;lat&quot;: 36.589257136111115, &quot;latitude&quot;: &quot;36 35 21.325690 N&quot;, &quot;lon&quot;: -120.16262884555556, &quot;longitude&quot;: &quot;120 09 45.463844 W&quot;, &quot;northing&quot;: 2099696.19, &quot;notes&quot;: null, &quot;point_id&quot;: &quot;Martin&quot;, &quot;point_number&quot;: null, &quot;source_elevation&quot;: &quot;\\\\\\\\ppeng.com\\\\pzdata\\\\clients\\\\Tranquillity ID-1075\\\\Ongoing-1075\\\\140-District Boundaries\\\\146 Benchmarks - GPS Control\\\\2013-01 Control-Well Survey\\\\2022-07\\\\2022July-2013Elevation_comparison.xls&quot;, &quot;source_point&quot;: &quot;\\\\\\\\ppeng.com\\\\pzdata\\\\clients\\\\Tranquillity ID-1075\\\\Ongoing-1075\\\\140-District Boundaries\\\\146 Benchmarks - GPS Control\\\\2013-01 Control-Well Survey\\\\2022-07\\\\2022July-2013Elevation_comparison.xls&quot;}, &quot;type&quot;: &quot;Feature&quot;}, {&quot;bbox&quot;: [-120.16262884555556, 36.589257136111115, -120.16262884555556, 36.589257136111115], &quot;geometry&quot;: {&quot;coordinates&quot;: [-120.16262884555556, 36.589257136111115], &quot;type&quot;: &quot;Point&quot;}, &quot;id&quot;: &quot;131&quot;, &quot;properties&quot;: {&quot;easting&quot;: 6220352.2627, &quot;elevation&quot;: null, &quot;index_elevation&quot;: 129, &quot;index_point&quot;: 8, &quot;lat&quot;: 36.589257136111115, &quot;latitude&quot;: &quot;36 35 21.325690 N&quot;, &quot;lon&quot;: -120.16262884555556, &quot;longitude&quot;: &quot;120 09 45.463844 W&quot;, &quot;northing&quot;: 2099696.19, &quot;notes&quot;: null, &quot;point_id&quot;: &quot;Martin&quot;, &quot;point_number&quot;: null, &quot;source_elevation&quot;: &quot;\\\\\\\\ppeng.com\\\\pzdata\\\\clients\\\\Tranquillity ID-1075\\\\Ongoing-1075\\\\140-District Boundaries\\\\146 Benchmarks - GPS Control\\\\2013-01 Control-Well Survey\\\\2022-07\\\\2022July-2013Elevation_comparison.xls&quot;, &quot;source_point&quot;: &quot;\\\\\\\\ppeng.com\\\\pzdata\\\\clients\\\\Tranquillity ID-1075\\\\Ongoing-1075\\\\140-District Boundaries\\\\146 Benchmarks - GPS Control\\\\2013-01 Control-Well Survey\\\\2022-07\\\\2022July-2013Elevation_comparison.xls&quot;}, &quot;type&quot;: &quot;Feature&quot;}, {&quot;bbox&quot;: [-120.16262884555556, 36.589257136111115, -120.16262884555556, 36.589257136111115], &quot;geometry&quot;: {&quot;coordinates&quot;: [-120.16262884555556, 36.589257136111115], &quot;type&quot;: &quot;Point&quot;}, &quot;id&quot;: &quot;132&quot;, &quot;properties&quot;: {&quot;easting&quot;: 6220352.2627, &quot;elevation&quot;: null, &quot;index_elevation&quot;: 140, &quot;index_point&quot;: 8, &quot;lat&quot;: 36.589257136111115, &quot;latitude&quot;: &quot;36 35 21.325690 N&quot;, &quot;lon&quot;: -120.16262884555556, &quot;longitude&quot;: &quot;120 09 45.463844 W&quot;, &quot;northing&quot;: 2099696.19, &quot;notes&quot;: null, &quot;point_id&quot;: &quot;Martin&quot;, &quot;point_number&quot;: null, &quot;source_elevation&quot;: &quot;\\\\\\\\ppeng.com\\\\pzdata\\\\clients\\\\Tranquillity ID-1075\\\\Ongoing-1075\\\\140-District Boundaries\\\\146 Benchmarks - GPS Control\\\\2013-01 Control-Well Survey\\\\2022-07\\\\2022July-2013Elevation_comparison.xls&quot;, &quot;source_point&quot;: &quot;\\\\\\\\ppeng.com\\\\pzdata\\\\clients\\\\Tranquillity ID-1075\\\\Ongoing-1075\\\\140-District Boundaries\\\\146 Benchmarks - GPS Control\\\\2013-01 Control-Well Survey\\\\2022-07\\\\2022July-2013Elevation_comparison.xls&quot;}, &quot;type&quot;: &quot;Feature&quot;}, {&quot;bbox&quot;: [-120.16262884555556, 36.589257136111115, -120.16262884555556, 36.589257136111115], &quot;geometry&quot;: {&quot;coordinates&quot;: [-120.16262884555556, 36.589257136111115], &quot;type&quot;: &quot;Point&quot;}, &quot;id&quot;: &quot;133&quot;, &quot;properties&quot;: {&quot;easting&quot;: 6220352.2627, &quot;elevation&quot;: null, &quot;index_elevation&quot;: 151, &quot;index_point&quot;: 8, &quot;lat&quot;: 36.589257136111115, &quot;latitude&quot;: &quot;36 35 21.325690 N&quot;, &quot;lon&quot;: -120.16262884555556, &quot;longitude&quot;: &quot;120 09 45.463844 W&quot;, &quot;northing&quot;: 2099696.19, &quot;notes&quot;: null, &quot;point_id&quot;: &quot;Martin&quot;, &quot;point_number&quot;: null, &quot;source_elevation&quot;: &quot;\\\\\\\\ppeng.com\\\\pzdata\\\\clients\\\\Tranquillity ID-1075\\\\Ongoing-1075\\\\140-District Boundaries\\\\146 Benchmarks - GPS Control\\\\2013-01 Control-Well Survey\\\\2022-07\\\\2022July-2013Elevation_comparison.xls&quot;, &quot;source_point&quot;: &quot;\\\\\\\\ppeng.com\\\\pzdata\\\\clients\\\\Tranquillity ID-1075\\\\Ongoing-1075\\\\140-District Boundaries\\\\146 Benchmarks - GPS Control\\\\2013-01 Control-Well Survey\\\\2022-07\\\\2022July-2013Elevation_comparison.xls&quot;}, &quot;type&quot;: &quot;Feature&quot;}, {&quot;bbox&quot;: [-120.16262884555556, 36.589257136111115, -120.16262884555556, 36.589257136111115], &quot;geometry&quot;: {&quot;coordinates&quot;: [-120.16262884555556, 36.589257136111115], &quot;type&quot;: &quot;Point&quot;}, &quot;id&quot;: &quot;134&quot;, &quot;properties&quot;: {&quot;easting&quot;: 6220352.2627, &quot;elevation&quot;: null, &quot;index_elevation&quot;: 162, &quot;index_point&quot;: 8, &quot;lat&quot;: 36.589257136111115, &quot;latitude&quot;: &quot;36 35 21.325690 N&quot;, &quot;lon&quot;: -120.16262884555556, &quot;longitude&quot;: &quot;120 09 45.463844 W&quot;, &quot;northing&quot;: 2099696.19, &quot;notes&quot;: null, &quot;point_id&quot;: &quot;Martin&quot;, &quot;point_number&quot;: null, &quot;source_elevation&quot;: &quot;\\\\\\\\ppeng.com\\\\pzdata\\\\clients\\\\Tranquillity ID-1075\\\\Ongoing-1075\\\\140-District Boundaries\\\\146 Benchmarks - GPS Control\\\\2013-01 Control-Well Survey\\\\2022-07\\\\2022July-2013Elevation_comparison.xls&quot;, &quot;source_point&quot;: &quot;\\\\\\\\ppeng.com\\\\pzdata\\\\clients\\\\Tranquillity ID-1075\\\\Ongoing-1075\\\\140-District Boundaries\\\\146 Benchmarks - GPS Control\\\\2013-01 Control-Well Survey\\\\2022-07\\\\2022July-2013Elevation_comparison.xls&quot;}, &quot;type&quot;: &quot;Feature&quot;}, {&quot;bbox&quot;: [-120.31783753361111, 36.63205899916667, -120.31783753361111, 36.63205899916667], &quot;geometry&quot;: {&quot;coordinates&quot;: [-120.31783753361111, 36.63205899916667], &quot;type&quot;: &quot;Point&quot;}, &quot;id&quot;: &quot;135&quot;, &quot;properties&quot;: {&quot;easting&quot;: 6175003.9553, &quot;elevation&quot;: 164.14, &quot;index_elevation&quot;: 9, &quot;index_point&quot;: 9, &quot;lat&quot;: 36.63205899916667, &quot;latitude&quot;: &quot;36 37 55.412397 N&quot;, &quot;lon&quot;: -120.31783753361111, &quot;longitude&quot;: &quot;120 19 04.215121 W&quot;, &quot;northing&quot;: 2115865.3137, &quot;notes&quot;: null, &quot;point_id&quot;: &quot;Murietta&quot;, &quot;point_number&quot;: null, &quot;source_elevation&quot;: &quot;\\\\\\\\ppeng.com\\\\pzdata\\\\clients\\\\Tranquillity ID-1075\\\\Ongoing-1075\\\\140-District Boundaries\\\\146 Benchmarks - GPS Control\\\\2013-01 Control-Well Survey\\\\2022-07\\\\2022July-2013Elevation_comparison.xls&quot;, &quot;source_point&quot;: &quot;\\\\\\\\ppeng.com\\\\pzdata\\\\clients\\\\Tranquillity ID-1075\\\\Ongoing-1075\\\\140-District Boundaries\\\\146 Benchmarks - GPS Control\\\\2013-01 Control-Well Survey\\\\2022-07\\\\2022July-2013Elevation_comparison.xls&quot;}, &quot;type&quot;: &quot;Feature&quot;}, {&quot;bbox&quot;: [-120.31783753361111, 36.63205899916667, -120.31783753361111, 36.63205899916667], &quot;geometry&quot;: {&quot;coordinates&quot;: [-120.31783753361111, 36.63205899916667], &quot;type&quot;: &quot;Point&quot;}, &quot;id&quot;: &quot;136&quot;, &quot;properties&quot;: {&quot;easting&quot;: 6175003.9553, &quot;elevation&quot;: 164.3063, &quot;index_elevation&quot;: 20, &quot;index_point&quot;: 9, &quot;lat&quot;: 36.63205899916667, &quot;latitude&quot;: &quot;36 37 55.412397 N&quot;, &quot;lon&quot;: -120.31783753361111, &quot;longitude&quot;: &quot;120 19 04.215121 W&quot;, &quot;northing&quot;: 2115865.3137, &quot;notes&quot;: null, &quot;point_id&quot;: &quot;Murietta&quot;, &quot;point_number&quot;: null, &quot;source_elevation&quot;: &quot;\\\\\\\\ppeng.com\\\\pzdata\\\\clients\\\\Tranquillity ID-1075\\\\Ongoing-1075\\\\140-District Boundaries\\\\146 Benchmarks - GPS Control\\\\2013-01 Control-Well Survey\\\\2022-07\\\\2022July-2013Elevation_comparison.xls&quot;, &quot;source_point&quot;: &quot;\\\\\\\\ppeng.com\\\\pzdata\\\\clients\\\\Tranquillity ID-1075\\\\Ongoing-1075\\\\140-District Boundaries\\\\146 Benchmarks - GPS Control\\\\2013-01 Control-Well Survey\\\\2022-07\\\\2022July-2013Elevation_comparison.xls&quot;}, &quot;type&quot;: &quot;Feature&quot;}, {&quot;bbox&quot;: [-120.31783753361111, 36.63205899916667, -120.31783753361111, 36.63205899916667], &quot;geometry&quot;: {&quot;coordinates&quot;: [-120.31783753361111, 36.63205899916667], &quot;type&quot;: &quot;Point&quot;}, &quot;id&quot;: &quot;137&quot;, &quot;properties&quot;: {&quot;easting&quot;: 6175003.9553, &quot;elevation&quot;: 164.43, &quot;index_elevation&quot;: 31, &quot;index_point&quot;: 9, &quot;lat&quot;: 36.63205899916667, &quot;latitude&quot;: &quot;36 37 55.412397 N&quot;, &quot;lon&quot;: -120.31783753361111, &quot;longitude&quot;: &quot;120 19 04.215121 W&quot;, &quot;northing&quot;: 2115865.3137, &quot;notes&quot;: null, &quot;point_id&quot;: &quot;Murietta&quot;, &quot;point_number&quot;: null, &quot;source_elevation&quot;: &quot;\\\\\\\\ppeng.com\\\\pzdata\\\\clients\\\\Tranquillity ID-1075\\\\Ongoing-1075\\\\140-District Boundaries\\\\146 Benchmarks - GPS Control\\\\2013-01 Control-Well Survey\\\\2022-07\\\\2022July-2013Elevation_comparison.xls&quot;, &quot;source_point&quot;: &quot;\\\\\\\\ppeng.com\\\\pzdata\\\\clients\\\\Tranquillity ID-1075\\\\Ongoing-1075\\\\140-District Boundaries\\\\146 Benchmarks - GPS Control\\\\2013-01 Control-Well Survey\\\\2022-07\\\\2022July-2013Elevation_comparison.xls&quot;}, &quot;type&quot;: &quot;Feature&quot;}, {&quot;bbox&quot;: [-120.31783753361111, 36.63205899916667, -120.31783753361111, 36.63205899916667], &quot;geometry&quot;: {&quot;coordinates&quot;: [-120.31783753361111, 36.63205899916667], &quot;type&quot;: &quot;Point&quot;}, &quot;id&quot;: &quot;138&quot;, &quot;properties&quot;: {&quot;easting&quot;: 6175003.9553, &quot;elevation&quot;: 164.56, &quot;index_elevation&quot;: 42, &quot;index_point&quot;: 9, &quot;lat&quot;: 36.63205899916667, &quot;latitude&quot;: &quot;36 37 55.412397 N&quot;, &quot;lon&quot;: -120.31783753361111, &quot;longitude&quot;: &quot;120 19 04.215121 W&quot;, &quot;northing&quot;: 2115865.3137, &quot;notes&quot;: null, &quot;point_id&quot;: &quot;Murietta&quot;, &quot;point_number&quot;: null, &quot;source_elevation&quot;: &quot;\\\\\\\\ppeng.com\\\\pzdata\\\\clients\\\\Tranquillity ID-1075\\\\Ongoing-1075\\\\140-District Boundaries\\\\146 Benchmarks - GPS Control\\\\2013-01 Control-Well Survey\\\\2022-07\\\\2022July-2013Elevation_comparison.xls&quot;, &quot;source_point&quot;: &quot;\\\\\\\\ppeng.com\\\\pzdata\\\\clients\\\\Tranquillity ID-1075\\\\Ongoing-1075\\\\140-District Boundaries\\\\146 Benchmarks - GPS Control\\\\2013-01 Control-Well Survey\\\\2022-07\\\\2022July-2013Elevation_comparison.xls&quot;}, &quot;type&quot;: &quot;Feature&quot;}, {&quot;bbox&quot;: [-120.31783753361111, 36.63205899916667, -120.31783753361111, 36.63205899916667], &quot;geometry&quot;: {&quot;coordinates&quot;: [-120.31783753361111, 36.63205899916667], &quot;type&quot;: &quot;Point&quot;}, &quot;id&quot;: &quot;139&quot;, &quot;properties&quot;: {&quot;easting&quot;: 6175003.9553, &quot;elevation&quot;: 164.79, &quot;index_elevation&quot;: 53, &quot;index_point&quot;: 9, &quot;lat&quot;: 36.63205899916667, &quot;latitude&quot;: &quot;36 37 55.412397 N&quot;, &quot;lon&quot;: -120.31783753361111, &quot;longitude&quot;: &quot;120 19 04.215121 W&quot;, &quot;northing&quot;: 2115865.3137, &quot;notes&quot;: null, &quot;point_id&quot;: &quot;Murietta&quot;, &quot;point_number&quot;: null, &quot;source_elevation&quot;: &quot;\\\\\\\\ppeng.com\\\\pzdata\\\\clients\\\\Tranquillity ID-1075\\\\Ongoing-1075\\\\140-District Boundaries\\\\146 Benchmarks - GPS Control\\\\2013-01 Control-Well Survey\\\\2022-07\\\\2022July-2013Elevation_comparison.xls&quot;, &quot;source_point&quot;: &quot;\\\\\\\\ppeng.com\\\\pzdata\\\\clients\\\\Tranquillity ID-1075\\\\Ongoing-1075\\\\140-District Boundaries\\\\146 Benchmarks - GPS Control\\\\2013-01 Control-Well Survey\\\\2022-07\\\\2022July-2013Elevation_comparison.xls&quot;}, &quot;type&quot;: &quot;Feature&quot;}, {&quot;bbox&quot;: [-120.31783753361111, 36.63205899916667, -120.31783753361111, 36.63205899916667], &quot;geometry&quot;: {&quot;coordinates&quot;: [-120.31783753361111, 36.63205899916667], &quot;type&quot;: &quot;Point&quot;}, &quot;id&quot;: &quot;140&quot;, &quot;properties&quot;: {&quot;easting&quot;: 6175003.9553, &quot;elevation&quot;: 164.79, &quot;index_elevation&quot;: 64, &quot;index_point&quot;: 9, &quot;lat&quot;: 36.63205899916667, &quot;latitude&quot;: &quot;36 37 55.412397 N&quot;, &quot;lon&quot;: -120.31783753361111, &quot;longitude&quot;: &quot;120 19 04.215121 W&quot;, &quot;northing&quot;: 2115865.3137, &quot;notes&quot;: null, &quot;point_id&quot;: &quot;Murietta&quot;, &quot;point_number&quot;: null, &quot;source_elevation&quot;: &quot;\\\\\\\\ppeng.com\\\\pzdata\\\\clients\\\\Tranquillity ID-1075\\\\Ongoing-1075\\\\140-District Boundaries\\\\146 Benchmarks - GPS Control\\\\2013-01 Control-Well Survey\\\\2022-07\\\\2022July-2013Elevation_comparison.xls&quot;, &quot;source_point&quot;: &quot;\\\\\\\\ppeng.com\\\\pzdata\\\\clients\\\\Tranquillity ID-1075\\\\Ongoing-1075\\\\140-District Boundaries\\\\146 Benchmarks - GPS Control\\\\2013-01 Control-Well Survey\\\\2022-07\\\\2022July-2013Elevation_comparison.xls&quot;}, &quot;type&quot;: &quot;Feature&quot;}, {&quot;bbox&quot;: [-120.31783753361111, 36.63205899916667, -120.31783753361111, 36.63205899916667], &quot;geometry&quot;: {&quot;coordinates&quot;: [-120.31783753361111, 36.63205899916667], &quot;type&quot;: &quot;Point&quot;}, &quot;id&quot;: &quot;141&quot;, &quot;properties&quot;: {&quot;easting&quot;: 6175003.9553, &quot;elevation&quot;: 164.89, &quot;index_elevation&quot;: 75, &quot;index_point&quot;: 9, &quot;lat&quot;: 36.63205899916667, &quot;latitude&quot;: &quot;36 37 55.412397 N&quot;, &quot;lon&quot;: -120.31783753361111, &quot;longitude&quot;: &quot;120 19 04.215121 W&quot;, &quot;northing&quot;: 2115865.3137, &quot;notes&quot;: null, &quot;point_id&quot;: &quot;Murietta&quot;, &quot;point_number&quot;: null, &quot;source_elevation&quot;: &quot;\\\\\\\\ppeng.com\\\\pzdata\\\\clients\\\\Tranquillity ID-1075\\\\Ongoing-1075\\\\140-District Boundaries\\\\146 Benchmarks - GPS Control\\\\2013-01 Control-Well Survey\\\\2022-07\\\\2022July-2013Elevation_comparison.xls&quot;, &quot;source_point&quot;: &quot;\\\\\\\\ppeng.com\\\\pzdata\\\\clients\\\\Tranquillity ID-1075\\\\Ongoing-1075\\\\140-District Boundaries\\\\146 Benchmarks - GPS Control\\\\2013-01 Control-Well Survey\\\\2022-07\\\\2022July-2013Elevation_comparison.xls&quot;}, &quot;type&quot;: &quot;Feature&quot;}, {&quot;bbox&quot;: [-120.31783753361111, 36.63205899916667, -120.31783753361111, 36.63205899916667], &quot;geometry&quot;: {&quot;coordinates&quot;: [-120.31783753361111, 36.63205899916667], &quot;type&quot;: &quot;Point&quot;}, &quot;id&quot;: &quot;142&quot;, &quot;properties&quot;: {&quot;easting&quot;: 6175003.9553, &quot;elevation&quot;: 164.75, &quot;index_elevation&quot;: 86, &quot;index_point&quot;: 9, &quot;lat&quot;: 36.63205899916667, &quot;latitude&quot;: &quot;36 37 55.412397 N&quot;, &quot;lon&quot;: -120.31783753361111, &quot;longitude&quot;: &quot;120 19 04.215121 W&quot;, &quot;northing&quot;: 2115865.3137, &quot;notes&quot;: null, &quot;point_id&quot;: &quot;Murietta&quot;, &quot;point_number&quot;: null, &quot;source_elevation&quot;: &quot;\\\\\\\\ppeng.com\\\\pzdata\\\\clients\\\\Tranquillity ID-1075\\\\Ongoing-1075\\\\140-District Boundaries\\\\146 Benchmarks - GPS Control\\\\2013-01 Control-Well Survey\\\\2022-07\\\\2022July-2013Elevation_comparison.xls&quot;, &quot;source_point&quot;: &quot;\\\\\\\\ppeng.com\\\\pzdata\\\\clients\\\\Tranquillity ID-1075\\\\Ongoing-1075\\\\140-District Boundaries\\\\146 Benchmarks - GPS Control\\\\2013-01 Control-Well Survey\\\\2022-07\\\\2022July-2013Elevation_comparison.xls&quot;}, &quot;type&quot;: &quot;Feature&quot;}, {&quot;bbox&quot;: [-120.31783753361111, 36.63205899916667, -120.31783753361111, 36.63205899916667], &quot;geometry&quot;: {&quot;coordinates&quot;: [-120.31783753361111, 36.63205899916667], &quot;type&quot;: &quot;Point&quot;}, &quot;id&quot;: &quot;143&quot;, &quot;properties&quot;: {&quot;easting&quot;: 6175003.9553, &quot;elevation&quot;: 164.92, &quot;index_elevation&quot;: 97, &quot;index_point&quot;: 9, &quot;lat&quot;: 36.63205899916667, &quot;latitude&quot;: &quot;36 37 55.412397 N&quot;, &quot;lon&quot;: -120.31783753361111, &quot;longitude&quot;: &quot;120 19 04.215121 W&quot;, &quot;northing&quot;: 2115865.3137, &quot;notes&quot;: null, &quot;point_id&quot;: &quot;Murietta&quot;, &quot;point_number&quot;: null, &quot;source_elevation&quot;: &quot;\\\\\\\\ppeng.com\\\\pzdata\\\\clients\\\\Tranquillity ID-1075\\\\Ongoing-1075\\\\140-District Boundaries\\\\146 Benchmarks - GPS Control\\\\2013-01 Control-Well Survey\\\\2022-07\\\\2022July-2013Elevation_comparison.xls&quot;, &quot;source_point&quot;: &quot;\\\\\\\\ppeng.com\\\\pzdata\\\\clients\\\\Tranquillity ID-1075\\\\Ongoing-1075\\\\140-District Boundaries\\\\146 Benchmarks - GPS Control\\\\2013-01 Control-Well Survey\\\\2022-07\\\\2022July-2013Elevation_comparison.xls&quot;}, &quot;type&quot;: &quot;Feature&quot;}, {&quot;bbox&quot;: [-120.31783753361111, 36.63205899916667, -120.31783753361111, 36.63205899916667], &quot;geometry&quot;: {&quot;coordinates&quot;: [-120.31783753361111, 36.63205899916667], &quot;type&quot;: &quot;Point&quot;}, &quot;id&quot;: &quot;144&quot;, &quot;properties&quot;: {&quot;easting&quot;: 6175003.9553, &quot;elevation&quot;: 164.9, &quot;index_elevation&quot;: 108, &quot;index_point&quot;: 9, &quot;lat&quot;: 36.63205899916667, &quot;latitude&quot;: &quot;36 37 55.412397 N&quot;, &quot;lon&quot;: -120.31783753361111, &quot;longitude&quot;: &quot;120 19 04.215121 W&quot;, &quot;northing&quot;: 2115865.3137, &quot;notes&quot;: null, &quot;point_id&quot;: &quot;Murietta&quot;, &quot;point_number&quot;: null, &quot;source_elevation&quot;: &quot;\\\\\\\\ppeng.com\\\\pzdata\\\\clients\\\\Tranquillity ID-1075\\\\Ongoing-1075\\\\140-District Boundaries\\\\146 Benchmarks - GPS Control\\\\2013-01 Control-Well Survey\\\\2022-07\\\\2022July-2013Elevation_comparison.xls&quot;, &quot;source_point&quot;: &quot;\\\\\\\\ppeng.com\\\\pzdata\\\\clients\\\\Tranquillity ID-1075\\\\Ongoing-1075\\\\140-District Boundaries\\\\146 Benchmarks - GPS Control\\\\2013-01 Control-Well Survey\\\\2022-07\\\\2022July-2013Elevation_comparison.xls&quot;}, &quot;type&quot;: &quot;Feature&quot;}, {&quot;bbox&quot;: [-120.31783753361111, 36.63205899916667, -120.31783753361111, 36.63205899916667], &quot;geometry&quot;: {&quot;coordinates&quot;: [-120.31783753361111, 36.63205899916667], &quot;type&quot;: &quot;Point&quot;}, &quot;id&quot;: &quot;145&quot;, &quot;properties&quot;: {&quot;easting&quot;: 6175003.9553, &quot;elevation&quot;: null, &quot;index_elevation&quot;: 119, &quot;index_point&quot;: 9, &quot;lat&quot;: 36.63205899916667, &quot;latitude&quot;: &quot;36 37 55.412397 N&quot;, &quot;lon&quot;: -120.31783753361111, &quot;longitude&quot;: &quot;120 19 04.215121 W&quot;, &quot;northing&quot;: 2115865.3137, &quot;notes&quot;: null, &quot;point_id&quot;: &quot;Murietta&quot;, &quot;point_number&quot;: null, &quot;source_elevation&quot;: &quot;\\\\\\\\ppeng.com\\\\pzdata\\\\clients\\\\Tranquillity ID-1075\\\\Ongoing-1075\\\\140-District Boundaries\\\\146 Benchmarks - GPS Control\\\\2013-01 Control-Well Survey\\\\2022-07\\\\2022July-2013Elevation_comparison.xls&quot;, &quot;source_point&quot;: &quot;\\\\\\\\ppeng.com\\\\pzdata\\\\clients\\\\Tranquillity ID-1075\\\\Ongoing-1075\\\\140-District Boundaries\\\\146 Benchmarks - GPS Control\\\\2013-01 Control-Well Survey\\\\2022-07\\\\2022July-2013Elevation_comparison.xls&quot;}, &quot;type&quot;: &quot;Feature&quot;}, {&quot;bbox&quot;: [-120.31783753361111, 36.63205899916667, -120.31783753361111, 36.63205899916667], &quot;geometry&quot;: {&quot;coordinates&quot;: [-120.31783753361111, 36.63205899916667], &quot;type&quot;: &quot;Point&quot;}, &quot;id&quot;: &quot;146&quot;, &quot;properties&quot;: {&quot;easting&quot;: 6175003.9553, &quot;elevation&quot;: null, &quot;index_elevation&quot;: 130, &quot;index_point&quot;: 9, &quot;lat&quot;: 36.63205899916667, &quot;latitude&quot;: &quot;36 37 55.412397 N&quot;, &quot;lon&quot;: -120.31783753361111, &quot;longitude&quot;: &quot;120 19 04.215121 W&quot;, &quot;northing&quot;: 2115865.3137, &quot;notes&quot;: null, &quot;point_id&quot;: &quot;Murietta&quot;, &quot;point_number&quot;: null, &quot;source_elevation&quot;: &quot;\\\\\\\\ppeng.com\\\\pzdata\\\\clients\\\\Tranquillity ID-1075\\\\Ongoing-1075\\\\140-District Boundaries\\\\146 Benchmarks - GPS Control\\\\2013-01 Control-Well Survey\\\\2022-07\\\\2022July-2013Elevation_comparison.xls&quot;, &quot;source_point&quot;: &quot;\\\\\\\\ppeng.com\\\\pzdata\\\\clients\\\\Tranquillity ID-1075\\\\Ongoing-1075\\\\140-District Boundaries\\\\146 Benchmarks - GPS Control\\\\2013-01 Control-Well Survey\\\\2022-07\\\\2022July-2013Elevation_comparison.xls&quot;}, &quot;type&quot;: &quot;Feature&quot;}, {&quot;bbox&quot;: [-120.31783753361111, 36.63205899916667, -120.31783753361111, 36.63205899916667], &quot;geometry&quot;: {&quot;coordinates&quot;: [-120.31783753361111, 36.63205899916667], &quot;type&quot;: &quot;Point&quot;}, &quot;id&quot;: &quot;147&quot;, &quot;properties&quot;: {&quot;easting&quot;: 6175003.9553, &quot;elevation&quot;: null, &quot;index_elevation&quot;: 141, &quot;index_point&quot;: 9, &quot;lat&quot;: 36.63205899916667, &quot;latitude&quot;: &quot;36 37 55.412397 N&quot;, &quot;lon&quot;: -120.31783753361111, &quot;longitude&quot;: &quot;120 19 04.215121 W&quot;, &quot;northing&quot;: 2115865.3137, &quot;notes&quot;: null, &quot;point_id&quot;: &quot;Murietta&quot;, &quot;point_number&quot;: null, &quot;source_elevation&quot;: &quot;\\\\\\\\ppeng.com\\\\pzdata\\\\clients\\\\Tranquillity ID-1075\\\\Ongoing-1075\\\\140-District Boundaries\\\\146 Benchmarks - GPS Control\\\\2013-01 Control-Well Survey\\\\2022-07\\\\2022July-2013Elevation_comparison.xls&quot;, &quot;source_point&quot;: &quot;\\\\\\\\ppeng.com\\\\pzdata\\\\clients\\\\Tranquillity ID-1075\\\\Ongoing-1075\\\\140-District Boundaries\\\\146 Benchmarks - GPS Control\\\\2013-01 Control-Well Survey\\\\2022-07\\\\2022July-2013Elevation_comparison.xls&quot;}, &quot;type&quot;: &quot;Feature&quot;}, {&quot;bbox&quot;: [-120.31783753361111, 36.63205899916667, -120.31783753361111, 36.63205899916667], &quot;geometry&quot;: {&quot;coordinates&quot;: [-120.31783753361111, 36.63205899916667], &quot;type&quot;: &quot;Point&quot;}, &quot;id&quot;: &quot;148&quot;, &quot;properties&quot;: {&quot;easting&quot;: 6175003.9553, &quot;elevation&quot;: null, &quot;index_elevation&quot;: 152, &quot;index_point&quot;: 9, &quot;lat&quot;: 36.63205899916667, &quot;latitude&quot;: &quot;36 37 55.412397 N&quot;, &quot;lon&quot;: -120.31783753361111, &quot;longitude&quot;: &quot;120 19 04.215121 W&quot;, &quot;northing&quot;: 2115865.3137, &quot;notes&quot;: null, &quot;point_id&quot;: &quot;Murietta&quot;, &quot;point_number&quot;: null, &quot;source_elevation&quot;: &quot;\\\\\\\\ppeng.com\\\\pzdata\\\\clients\\\\Tranquillity ID-1075\\\\Ongoing-1075\\\\140-District Boundaries\\\\146 Benchmarks - GPS Control\\\\2013-01 Control-Well Survey\\\\2022-07\\\\2022July-2013Elevation_comparison.xls&quot;, &quot;source_point&quot;: &quot;\\\\\\\\ppeng.com\\\\pzdata\\\\clients\\\\Tranquillity ID-1075\\\\Ongoing-1075\\\\140-District Boundaries\\\\146 Benchmarks - GPS Control\\\\2013-01 Control-Well Survey\\\\2022-07\\\\2022July-2013Elevation_comparison.xls&quot;}, &quot;type&quot;: &quot;Feature&quot;}, {&quot;bbox&quot;: [-120.31783753361111, 36.63205899916667, -120.31783753361111, 36.63205899916667], &quot;geometry&quot;: {&quot;coordinates&quot;: [-120.31783753361111, 36.63205899916667], &quot;type&quot;: &quot;Point&quot;}, &quot;id&quot;: &quot;149&quot;, &quot;properties&quot;: {&quot;easting&quot;: 6175003.9553, &quot;elevation&quot;: null, &quot;index_elevation&quot;: 163, &quot;index_point&quot;: 9, &quot;lat&quot;: 36.63205899916667, &quot;latitude&quot;: &quot;36 37 55.412397 N&quot;, &quot;lon&quot;: -120.31783753361111, &quot;longitude&quot;: &quot;120 19 04.215121 W&quot;, &quot;northing&quot;: 2115865.3137, &quot;notes&quot;: null, &quot;point_id&quot;: &quot;Murietta&quot;, &quot;point_number&quot;: null, &quot;source_elevation&quot;: &quot;\\\\\\\\ppeng.com\\\\pzdata\\\\clients\\\\Tranquillity ID-1075\\\\Ongoing-1075\\\\140-District Boundaries\\\\146 Benchmarks - GPS Control\\\\2013-01 Control-Well Survey\\\\2022-07\\\\2022July-2013Elevation_comparison.xls&quot;, &quot;source_point&quot;: &quot;\\\\\\\\ppeng.com\\\\pzdata\\\\clients\\\\Tranquillity ID-1075\\\\Ongoing-1075\\\\140-District Boundaries\\\\146 Benchmarks - GPS Control\\\\2013-01 Control-Well Survey\\\\2022-07\\\\2022July-2013Elevation_comparison.xls&quot;}, &quot;type&quot;: &quot;Feature&quot;}, {&quot;bbox&quot;: [-120.24902877333334, 36.65084620527777, -120.24902877333334, 36.65084620527777], &quot;geometry&quot;: {&quot;coordinates&quot;: [-120.24902877333334, 36.65084620527777], &quot;type&quot;: &quot;Point&quot;}, &quot;id&quot;: &quot;150&quot;, &quot;properties&quot;: {&quot;easting&quot;: 6195280.7043, &quot;elevation&quot;: 177.77, &quot;index_elevation&quot;: 10, &quot;index_point&quot;: 10, &quot;lat&quot;: 36.65084620527777, &quot;latitude&quot;: &quot;36 39 03.046339 N&quot;, &quot;lon&quot;: -120.24902877333334, &quot;longitude&quot;: &quot;120 14 56.503584 W&quot;, &quot;northing&quot;: 2122434.5242, &quot;notes&quot;: &quot;REFERENCE STATION&quot;, &quot;point_id&quot;: &quot;RTCM Ref 3237&quot;, &quot;point_number&quot;: null, &quot;source_elevation&quot;: &quot;\\\\\\\\ppeng.com\\\\pzdata\\\\clients\\\\Tranquillity ID-1075\\\\Ongoing-1075\\\\140-District Boundaries\\\\146 Benchmarks - GPS Control\\\\2013-01 Control-Well Survey\\\\2022-07\\\\2022July-2013Elevation_comparison.xls&quot;, &quot;source_point&quot;: &quot;\\\\\\\\ppeng.com\\\\pzdata\\\\clients\\\\Tranquillity ID-1075\\\\Ongoing-1075\\\\140-District Boundaries\\\\146 Benchmarks - GPS Control\\\\2013-01 Control-Well Survey\\\\2022-07\\\\2022July-2013Elevation_comparison.xls&quot;}, &quot;type&quot;: &quot;Feature&quot;}, {&quot;bbox&quot;: [-120.24902877333334, 36.65084620527777, -120.24902877333334, 36.65084620527777], &quot;geometry&quot;: {&quot;coordinates&quot;: [-120.24902877333334, 36.65084620527777], &quot;type&quot;: &quot;Point&quot;}, &quot;id&quot;: &quot;151&quot;, &quot;properties&quot;: {&quot;easting&quot;: 6195280.7043, &quot;elevation&quot;: 177.7883, &quot;index_elevation&quot;: 21, &quot;index_point&quot;: 10, &quot;lat&quot;: 36.65084620527777, &quot;latitude&quot;: &quot;36 39 03.046339 N&quot;, &quot;lon&quot;: -120.24902877333334, &quot;longitude&quot;: &quot;120 14 56.503584 W&quot;, &quot;northing&quot;: 2122434.5242, &quot;notes&quot;: &quot;REFERENCE STATION&quot;, &quot;point_id&quot;: &quot;RTCM Ref 3237&quot;, &quot;point_number&quot;: null, &quot;source_elevation&quot;: &quot;\\\\\\\\ppeng.com\\\\pzdata\\\\clients\\\\Tranquillity ID-1075\\\\Ongoing-1075\\\\140-District Boundaries\\\\146 Benchmarks - GPS Control\\\\2013-01 Control-Well Survey\\\\2022-07\\\\2022July-2013Elevation_comparison.xls&quot;, &quot;source_point&quot;: &quot;\\\\\\\\ppeng.com\\\\pzdata\\\\clients\\\\Tranquillity ID-1075\\\\Ongoing-1075\\\\140-District Boundaries\\\\146 Benchmarks - GPS Control\\\\2013-01 Control-Well Survey\\\\2022-07\\\\2022July-2013Elevation_comparison.xls&quot;}, &quot;type&quot;: &quot;Feature&quot;}, {&quot;bbox&quot;: [-120.24902877333334, 36.65084620527777, -120.24902877333334, 36.65084620527777], &quot;geometry&quot;: {&quot;coordinates&quot;: [-120.24902877333334, 36.65084620527777], &quot;type&quot;: &quot;Point&quot;}, &quot;id&quot;: &quot;152&quot;, &quot;properties&quot;: {&quot;easting&quot;: 6195280.7043, &quot;elevation&quot;: 178.05, &quot;index_elevation&quot;: 32, &quot;index_point&quot;: 10, &quot;lat&quot;: 36.65084620527777, &quot;latitude&quot;: &quot;36 39 03.046339 N&quot;, &quot;lon&quot;: -120.24902877333334, &quot;longitude&quot;: &quot;120 14 56.503584 W&quot;, &quot;northing&quot;: 2122434.5242, &quot;notes&quot;: &quot;REFERENCE STATION&quot;, &quot;point_id&quot;: &quot;RTCM Ref 3237&quot;, &quot;point_number&quot;: null, &quot;source_elevation&quot;: &quot;\\\\\\\\ppeng.com\\\\pzdata\\\\clients\\\\Tranquillity ID-1075\\\\Ongoing-1075\\\\140-District Boundaries\\\\146 Benchmarks - GPS Control\\\\2013-01 Control-Well Survey\\\\2022-07\\\\2022July-2013Elevation_comparison.xls&quot;, &quot;source_point&quot;: &quot;\\\\\\\\ppeng.com\\\\pzdata\\\\clients\\\\Tranquillity ID-1075\\\\Ongoing-1075\\\\140-District Boundaries\\\\146 Benchmarks - GPS Control\\\\2013-01 Control-Well Survey\\\\2022-07\\\\2022July-2013Elevation_comparison.xls&quot;}, &quot;type&quot;: &quot;Feature&quot;}, {&quot;bbox&quot;: [-120.24902877333334, 36.65084620527777, -120.24902877333334, 36.65084620527777], &quot;geometry&quot;: {&quot;coordinates&quot;: [-120.24902877333334, 36.65084620527777], &quot;type&quot;: &quot;Point&quot;}, &quot;id&quot;: &quot;153&quot;, &quot;properties&quot;: {&quot;easting&quot;: 6195280.7043, &quot;elevation&quot;: 178.01, &quot;index_elevation&quot;: 43, &quot;index_point&quot;: 10, &quot;lat&quot;: 36.65084620527777, &quot;latitude&quot;: &quot;36 39 03.046339 N&quot;, &quot;lon&quot;: -120.24902877333334, &quot;longitude&quot;: &quot;120 14 56.503584 W&quot;, &quot;northing&quot;: 2122434.5242, &quot;notes&quot;: &quot;REFERENCE STATION&quot;, &quot;point_id&quot;: &quot;RTCM Ref 3237&quot;, &quot;point_number&quot;: null, &quot;source_elevation&quot;: &quot;\\\\\\\\ppeng.com\\\\pzdata\\\\clients\\\\Tranquillity ID-1075\\\\Ongoing-1075\\\\140-District Boundaries\\\\146 Benchmarks - GPS Control\\\\2013-01 Control-Well Survey\\\\2022-07\\\\2022July-2013Elevation_comparison.xls&quot;, &quot;source_point&quot;: &quot;\\\\\\\\ppeng.com\\\\pzdata\\\\clients\\\\Tranquillity ID-1075\\\\Ongoing-1075\\\\140-District Boundaries\\\\146 Benchmarks - GPS Control\\\\2013-01 Control-Well Survey\\\\2022-07\\\\2022July-2013Elevation_comparison.xls&quot;}, &quot;type&quot;: &quot;Feature&quot;}, {&quot;bbox&quot;: [-120.24902877333334, 36.65084620527777, -120.24902877333334, 36.65084620527777], &quot;geometry&quot;: {&quot;coordinates&quot;: [-120.24902877333334, 36.65084620527777], &quot;type&quot;: &quot;Point&quot;}, &quot;id&quot;: &quot;154&quot;, &quot;properties&quot;: {&quot;easting&quot;: 6195280.7043, &quot;elevation&quot;: 178.216, &quot;index_elevation&quot;: 54, &quot;index_point&quot;: 10, &quot;lat&quot;: 36.65084620527777, &quot;latitude&quot;: &quot;36 39 03.046339 N&quot;, &quot;lon&quot;: -120.24902877333334, &quot;longitude&quot;: &quot;120 14 56.503584 W&quot;, &quot;northing&quot;: 2122434.5242, &quot;notes&quot;: &quot;REFERENCE STATION&quot;, &quot;point_id&quot;: &quot;RTCM Ref 3237&quot;, &quot;point_number&quot;: null, &quot;source_elevation&quot;: &quot;\\\\\\\\ppeng.com\\\\pzdata\\\\clients\\\\Tranquillity ID-1075\\\\Ongoing-1075\\\\140-District Boundaries\\\\146 Benchmarks - GPS Control\\\\2013-01 Control-Well Survey\\\\2022-07\\\\2022July-2013Elevation_comparison.xls&quot;, &quot;source_point&quot;: &quot;\\\\\\\\ppeng.com\\\\pzdata\\\\clients\\\\Tranquillity ID-1075\\\\Ongoing-1075\\\\140-District Boundaries\\\\146 Benchmarks - GPS Control\\\\2013-01 Control-Well Survey\\\\2022-07\\\\2022July-2013Elevation_comparison.xls&quot;}, &quot;type&quot;: &quot;Feature&quot;}, {&quot;bbox&quot;: [-120.24902877333334, 36.65084620527777, -120.24902877333334, 36.65084620527777], &quot;geometry&quot;: {&quot;coordinates&quot;: [-120.24902877333334, 36.65084620527777], &quot;type&quot;: &quot;Point&quot;}, &quot;id&quot;: &quot;155&quot;, &quot;properties&quot;: {&quot;easting&quot;: 6195280.7043, &quot;elevation&quot;: 178.25, &quot;index_elevation&quot;: 65, &quot;index_point&quot;: 10, &quot;lat&quot;: 36.65084620527777, &quot;latitude&quot;: &quot;36 39 03.046339 N&quot;, &quot;lon&quot;: -120.24902877333334, &quot;longitude&quot;: &quot;120 14 56.503584 W&quot;, &quot;northing&quot;: 2122434.5242, &quot;notes&quot;: &quot;REFERENCE STATION&quot;, &quot;point_id&quot;: &quot;RTCM Ref 3237&quot;, &quot;point_number&quot;: null, &quot;source_elevation&quot;: &quot;\\\\\\\\ppeng.com\\\\pzdata\\\\clients\\\\Tranquillity ID-1075\\\\Ongoing-1075\\\\140-District Boundaries\\\\146 Benchmarks - GPS Control\\\\2013-01 Control-Well Survey\\\\2022-07\\\\2022July-2013Elevation_comparison.xls&quot;, &quot;source_point&quot;: &quot;\\\\\\\\ppeng.com\\\\pzdata\\\\clients\\\\Tranquillity ID-1075\\\\Ongoing-1075\\\\140-District Boundaries\\\\146 Benchmarks - GPS Control\\\\2013-01 Control-Well Survey\\\\2022-07\\\\2022July-2013Elevation_comparison.xls&quot;}, &quot;type&quot;: &quot;Feature&quot;}, {&quot;bbox&quot;: [-120.24902877333334, 36.65084620527777, -120.24902877333334, 36.65084620527777], &quot;geometry&quot;: {&quot;coordinates&quot;: [-120.24902877333334, 36.65084620527777], &quot;type&quot;: &quot;Point&quot;}, &quot;id&quot;: &quot;156&quot;, &quot;properties&quot;: {&quot;easting&quot;: 6195280.7043, &quot;elevation&quot;: 178.28, &quot;index_elevation&quot;: 76, &quot;index_point&quot;: 10, &quot;lat&quot;: 36.65084620527777, &quot;latitude&quot;: &quot;36 39 03.046339 N&quot;, &quot;lon&quot;: -120.24902877333334, &quot;longitude&quot;: &quot;120 14 56.503584 W&quot;, &quot;northing&quot;: 2122434.5242, &quot;notes&quot;: &quot;REFERENCE STATION&quot;, &quot;point_id&quot;: &quot;RTCM Ref 3237&quot;, &quot;point_number&quot;: null, &quot;source_elevation&quot;: &quot;\\\\\\\\ppeng.com\\\\pzdata\\\\clients\\\\Tranquillity ID-1075\\\\Ongoing-1075\\\\140-District Boundaries\\\\146 Benchmarks - GPS Control\\\\2013-01 Control-Well Survey\\\\2022-07\\\\2022July-2013Elevation_comparison.xls&quot;, &quot;source_point&quot;: &quot;\\\\\\\\ppeng.com\\\\pzdata\\\\clients\\\\Tranquillity ID-1075\\\\Ongoing-1075\\\\140-District Boundaries\\\\146 Benchmarks - GPS Control\\\\2013-01 Control-Well Survey\\\\2022-07\\\\2022July-2013Elevation_comparison.xls&quot;}, &quot;type&quot;: &quot;Feature&quot;}, {&quot;bbox&quot;: [-120.24902877333334, 36.65084620527777, -120.24902877333334, 36.65084620527777], &quot;geometry&quot;: {&quot;coordinates&quot;: [-120.24902877333334, 36.65084620527777], &quot;type&quot;: &quot;Point&quot;}, &quot;id&quot;: &quot;157&quot;, &quot;properties&quot;: {&quot;easting&quot;: 6195280.7043, &quot;elevation&quot;: 178.23, &quot;index_elevation&quot;: 87, &quot;index_point&quot;: 10, &quot;lat&quot;: 36.65084620527777, &quot;latitude&quot;: &quot;36 39 03.046339 N&quot;, &quot;lon&quot;: -120.24902877333334, &quot;longitude&quot;: &quot;120 14 56.503584 W&quot;, &quot;northing&quot;: 2122434.5242, &quot;notes&quot;: &quot;REFERENCE STATION&quot;, &quot;point_id&quot;: &quot;RTCM Ref 3237&quot;, &quot;point_number&quot;: null, &quot;source_elevation&quot;: &quot;\\\\\\\\ppeng.com\\\\pzdata\\\\clients\\\\Tranquillity ID-1075\\\\Ongoing-1075\\\\140-District Boundaries\\\\146 Benchmarks - GPS Control\\\\2013-01 Control-Well Survey\\\\2022-07\\\\2022July-2013Elevation_comparison.xls&quot;, &quot;source_point&quot;: &quot;\\\\\\\\ppeng.com\\\\pzdata\\\\clients\\\\Tranquillity ID-1075\\\\Ongoing-1075\\\\140-District Boundaries\\\\146 Benchmarks - GPS Control\\\\2013-01 Control-Well Survey\\\\2022-07\\\\2022July-2013Elevation_comparison.xls&quot;}, &quot;type&quot;: &quot;Feature&quot;}, {&quot;bbox&quot;: [-120.24902877333334, 36.65084620527777, -120.24902877333334, 36.65084620527777], &quot;geometry&quot;: {&quot;coordinates&quot;: [-120.24902877333334, 36.65084620527777], &quot;type&quot;: &quot;Point&quot;}, &quot;id&quot;: &quot;158&quot;, &quot;properties&quot;: {&quot;easting&quot;: 6195280.7043, &quot;elevation&quot;: 178.36, &quot;index_elevation&quot;: 98, &quot;index_point&quot;: 10, &quot;lat&quot;: 36.65084620527777, &quot;latitude&quot;: &quot;36 39 03.046339 N&quot;, &quot;lon&quot;: -120.24902877333334, &quot;longitude&quot;: &quot;120 14 56.503584 W&quot;, &quot;northing&quot;: 2122434.5242, &quot;notes&quot;: &quot;REFERENCE STATION&quot;, &quot;point_id&quot;: &quot;RTCM Ref 3237&quot;, &quot;point_number&quot;: null, &quot;source_elevation&quot;: &quot;\\\\\\\\ppeng.com\\\\pzdata\\\\clients\\\\Tranquillity ID-1075\\\\Ongoing-1075\\\\140-District Boundaries\\\\146 Benchmarks - GPS Control\\\\2013-01 Control-Well Survey\\\\2022-07\\\\2022July-2013Elevation_comparison.xls&quot;, &quot;source_point&quot;: &quot;\\\\\\\\ppeng.com\\\\pzdata\\\\clients\\\\Tranquillity ID-1075\\\\Ongoing-1075\\\\140-District Boundaries\\\\146 Benchmarks - GPS Control\\\\2013-01 Control-Well Survey\\\\2022-07\\\\2022July-2013Elevation_comparison.xls&quot;}, &quot;type&quot;: &quot;Feature&quot;}, {&quot;bbox&quot;: [-120.24902877333334, 36.65084620527777, -120.24902877333334, 36.65084620527777], &quot;geometry&quot;: {&quot;coordinates&quot;: [-120.24902877333334, 36.65084620527777], &quot;type&quot;: &quot;Point&quot;}, &quot;id&quot;: &quot;159&quot;, &quot;properties&quot;: {&quot;easting&quot;: 6195280.7043, &quot;elevation&quot;: 178.32, &quot;index_elevation&quot;: 109, &quot;index_point&quot;: 10, &quot;lat&quot;: 36.65084620527777, &quot;latitude&quot;: &quot;36 39 03.046339 N&quot;, &quot;lon&quot;: -120.24902877333334, &quot;longitude&quot;: &quot;120 14 56.503584 W&quot;, &quot;northing&quot;: 2122434.5242, &quot;notes&quot;: &quot;REFERENCE STATION&quot;, &quot;point_id&quot;: &quot;RTCM Ref 3237&quot;, &quot;point_number&quot;: null, &quot;source_elevation&quot;: &quot;\\\\\\\\ppeng.com\\\\pzdata\\\\clients\\\\Tranquillity ID-1075\\\\Ongoing-1075\\\\140-District Boundaries\\\\146 Benchmarks - GPS Control\\\\2013-01 Control-Well Survey\\\\2022-07\\\\2022July-2013Elevation_comparison.xls&quot;, &quot;source_point&quot;: &quot;\\\\\\\\ppeng.com\\\\pzdata\\\\clients\\\\Tranquillity ID-1075\\\\Ongoing-1075\\\\140-District Boundaries\\\\146 Benchmarks - GPS Control\\\\2013-01 Control-Well Survey\\\\2022-07\\\\2022July-2013Elevation_comparison.xls&quot;}, &quot;type&quot;: &quot;Feature&quot;}, {&quot;bbox&quot;: [-120.24902877333334, 36.65084620527777, -120.24902877333334, 36.65084620527777], &quot;geometry&quot;: {&quot;coordinates&quot;: [-120.24902877333334, 36.65084620527777], &quot;type&quot;: &quot;Point&quot;}, &quot;id&quot;: &quot;160&quot;, &quot;properties&quot;: {&quot;easting&quot;: 6195280.7043, &quot;elevation&quot;: 178.4385, &quot;index_elevation&quot;: 120, &quot;index_point&quot;: 10, &quot;lat&quot;: 36.65084620527777, &quot;latitude&quot;: &quot;36 39 03.046339 N&quot;, &quot;lon&quot;: -120.24902877333334, &quot;longitude&quot;: &quot;120 14 56.503584 W&quot;, &quot;northing&quot;: 2122434.5242, &quot;notes&quot;: &quot;REFERENCE STATION&quot;, &quot;point_id&quot;: &quot;RTCM Ref 3237&quot;, &quot;point_number&quot;: null, &quot;source_elevation&quot;: &quot;\\\\\\\\ppeng.com\\\\pzdata\\\\clients\\\\Tranquillity ID-1075\\\\Ongoing-1075\\\\140-District Boundaries\\\\146 Benchmarks - GPS Control\\\\2013-01 Control-Well Survey\\\\2022-07\\\\2022July-2013Elevation_comparison.xls&quot;, &quot;source_point&quot;: &quot;\\\\\\\\ppeng.com\\\\pzdata\\\\clients\\\\Tranquillity ID-1075\\\\Ongoing-1075\\\\140-District Boundaries\\\\146 Benchmarks - GPS Control\\\\2013-01 Control-Well Survey\\\\2022-07\\\\2022July-2013Elevation_comparison.xls&quot;}, &quot;type&quot;: &quot;Feature&quot;}, {&quot;bbox&quot;: [-120.24902877333334, 36.65084620527777, -120.24902877333334, 36.65084620527777], &quot;geometry&quot;: {&quot;coordinates&quot;: [-120.24902877333334, 36.65084620527777], &quot;type&quot;: &quot;Point&quot;}, &quot;id&quot;: &quot;161&quot;, &quot;properties&quot;: {&quot;easting&quot;: 6195280.7043, &quot;elevation&quot;: 179.68, &quot;index_elevation&quot;: 131, &quot;index_point&quot;: 10, &quot;lat&quot;: 36.65084620527777, &quot;latitude&quot;: &quot;36 39 03.046339 N&quot;, &quot;lon&quot;: -120.24902877333334, &quot;longitude&quot;: &quot;120 14 56.503584 W&quot;, &quot;northing&quot;: 2122434.5242, &quot;notes&quot;: &quot;REFERENCE STATION&quot;, &quot;point_id&quot;: &quot;RTCM Ref 3237&quot;, &quot;point_number&quot;: null, &quot;source_elevation&quot;: &quot;\\\\\\\\ppeng.com\\\\pzdata\\\\clients\\\\Tranquillity ID-1075\\\\Ongoing-1075\\\\140-District Boundaries\\\\146 Benchmarks - GPS Control\\\\2013-01 Control-Well Survey\\\\2022-07\\\\2022July-2013Elevation_comparison.xls&quot;, &quot;source_point&quot;: &quot;\\\\\\\\ppeng.com\\\\pzdata\\\\clients\\\\Tranquillity ID-1075\\\\Ongoing-1075\\\\140-District Boundaries\\\\146 Benchmarks - GPS Control\\\\2013-01 Control-Well Survey\\\\2022-07\\\\2022July-2013Elevation_comparison.xls&quot;}, &quot;type&quot;: &quot;Feature&quot;}, {&quot;bbox&quot;: [-120.24902877333334, 36.65084620527777, -120.24902877333334, 36.65084620527777], &quot;geometry&quot;: {&quot;coordinates&quot;: [-120.24902877333334, 36.65084620527777], &quot;type&quot;: &quot;Point&quot;}, &quot;id&quot;: &quot;162&quot;, &quot;properties&quot;: {&quot;easting&quot;: 6195280.7043, &quot;elevation&quot;: 179.68, &quot;index_elevation&quot;: 142, &quot;index_point&quot;: 10, &quot;lat&quot;: 36.65084620527777, &quot;latitude&quot;: &quot;36 39 03.046339 N&quot;, &quot;lon&quot;: -120.24902877333334, &quot;longitude&quot;: &quot;120 14 56.503584 W&quot;, &quot;northing&quot;: 2122434.5242, &quot;notes&quot;: &quot;REFERENCE STATION&quot;, &quot;point_id&quot;: &quot;RTCM Ref 3237&quot;, &quot;point_number&quot;: null, &quot;source_elevation&quot;: &quot;\\\\\\\\ppeng.com\\\\pzdata\\\\clients\\\\Tranquillity ID-1075\\\\Ongoing-1075\\\\140-District Boundaries\\\\146 Benchmarks - GPS Control\\\\2013-01 Control-Well Survey\\\\2022-07\\\\2022July-2013Elevation_comparison.xls&quot;, &quot;source_point&quot;: &quot;\\\\\\\\ppeng.com\\\\pzdata\\\\clients\\\\Tranquillity ID-1075\\\\Ongoing-1075\\\\140-District Boundaries\\\\146 Benchmarks - GPS Control\\\\2013-01 Control-Well Survey\\\\2022-07\\\\2022July-2013Elevation_comparison.xls&quot;}, &quot;type&quot;: &quot;Feature&quot;}, {&quot;bbox&quot;: [-120.24902877333334, 36.65084620527777, -120.24902877333334, 36.65084620527777], &quot;geometry&quot;: {&quot;coordinates&quot;: [-120.24902877333334, 36.65084620527777], &quot;type&quot;: &quot;Point&quot;}, &quot;id&quot;: &quot;163&quot;, &quot;properties&quot;: {&quot;easting&quot;: 6195280.7043, &quot;elevation&quot;: 180.35, &quot;index_elevation&quot;: 153, &quot;index_point&quot;: 10, &quot;lat&quot;: 36.65084620527777, &quot;latitude&quot;: &quot;36 39 03.046339 N&quot;, &quot;lon&quot;: -120.24902877333334, &quot;longitude&quot;: &quot;120 14 56.503584 W&quot;, &quot;northing&quot;: 2122434.5242, &quot;notes&quot;: &quot;REFERENCE STATION&quot;, &quot;point_id&quot;: &quot;RTCM Ref 3237&quot;, &quot;point_number&quot;: null, &quot;source_elevation&quot;: &quot;\\\\\\\\ppeng.com\\\\pzdata\\\\clients\\\\Tranquillity ID-1075\\\\Ongoing-1075\\\\140-District Boundaries\\\\146 Benchmarks - GPS Control\\\\2013-01 Control-Well Survey\\\\2022-07\\\\2022July-2013Elevation_comparison.xls&quot;, &quot;source_point&quot;: &quot;\\\\\\\\ppeng.com\\\\pzdata\\\\clients\\\\Tranquillity ID-1075\\\\Ongoing-1075\\\\140-District Boundaries\\\\146 Benchmarks - GPS Control\\\\2013-01 Control-Well Survey\\\\2022-07\\\\2022July-2013Elevation_comparison.xls&quot;}, &quot;type&quot;: &quot;Feature&quot;}, {&quot;bbox&quot;: [-120.24902877333334, 36.65084620527777, -120.24902877333334, 36.65084620527777], &quot;geometry&quot;: {&quot;coordinates&quot;: [-120.24902877333334, 36.65084620527777], &quot;type&quot;: &quot;Point&quot;}, &quot;id&quot;: &quot;164&quot;, &quot;properties&quot;: {&quot;easting&quot;: 6195280.7043, &quot;elevation&quot;: 180.8065, &quot;index_elevation&quot;: 164, &quot;index_point&quot;: 10, &quot;lat&quot;: 36.65084620527777, &quot;latitude&quot;: &quot;36 39 03.046339 N&quot;, &quot;lon&quot;: -120.24902877333334, &quot;longitude&quot;: &quot;120 14 56.503584 W&quot;, &quot;northing&quot;: 2122434.5242, &quot;notes&quot;: &quot;REFERENCE STATION&quot;, &quot;point_id&quot;: &quot;RTCM Ref 3237&quot;, &quot;point_number&quot;: null, &quot;source_elevation&quot;: &quot;\\\\\\\\ppeng.com\\\\pzdata\\\\clients\\\\Tranquillity ID-1075\\\\Ongoing-1075\\\\140-District Boundaries\\\\146 Benchmarks - GPS Control\\\\2013-01 Control-Well Survey\\\\2022-07\\\\2022July-2013Elevation_comparison.xls&quot;, &quot;source_point&quot;: &quot;\\\\\\\\ppeng.com\\\\pzdata\\\\clients\\\\Tranquillity ID-1075\\\\Ongoing-1075\\\\140-District Boundaries\\\\146 Benchmarks - GPS Control\\\\2013-01 Control-Well Survey\\\\2022-07\\\\2022July-2013Elevation_comparison.xls&quot;}, &quot;type&quot;: &quot;Feature&quot;}], &quot;type&quot;: &quot;FeatureCollection&quot;});\n",
       "\n",
       "        \n",
       "    \n",
       "    geo_json_9bf69f528fcddce7949dcd47c3c744dd.bindTooltip(\n",
       "    function(layer){\n",
       "    let div = L.DomUtil.create(&#x27;div&#x27;);\n",
       "    \n",
       "    let handleObject = feature=&gt;typeof(feature)==&#x27;object&#x27; ? JSON.stringify(feature) : feature;\n",
       "    let fields = [&quot;index_point&quot;, &quot;point_id&quot;, &quot;point_number&quot;, &quot;northing&quot;, &quot;easting&quot;, &quot;latitude&quot;, &quot;longitude&quot;, &quot;notes&quot;, &quot;source_point&quot;, &quot;index_elevation&quot;, &quot;elevation&quot;, &quot;source_elevation&quot;, &quot;lat&quot;, &quot;lon&quot;];\n",
       "    let aliases = [&quot;index_point&quot;, &quot;point_id&quot;, &quot;point_number&quot;, &quot;northing&quot;, &quot;easting&quot;, &quot;latitude&quot;, &quot;longitude&quot;, &quot;notes&quot;, &quot;source_point&quot;, &quot;index_elevation&quot;, &quot;elevation&quot;, &quot;source_elevation&quot;, &quot;lat&quot;, &quot;lon&quot;];\n",
       "    let table = &#x27;&lt;table&gt;&#x27; +\n",
       "        String(\n",
       "        fields.map(\n",
       "        (v,i)=&gt;\n",
       "        `&lt;tr&gt;\n",
       "            &lt;th&gt;${aliases[i]}&lt;/th&gt;\n",
       "            \n",
       "            &lt;td&gt;${handleObject(layer.feature.properties[v])}&lt;/td&gt;\n",
       "        &lt;/tr&gt;`).join(&#x27;&#x27;))\n",
       "    +&#x27;&lt;/table&gt;&#x27;;\n",
       "    div.innerHTML=table;\n",
       "    \n",
       "    return div\n",
       "    }\n",
       "    ,{&quot;className&quot;: &quot;foliumtooltip&quot;, &quot;sticky&quot;: true});\n",
       "                     \n",
       "    \n",
       "            map_d79f5d66f12923d688667ddd26def65c.fitBounds(\n",
       "                [[36.589257136111115, -120.16262884555556], [36.67599903638889, -120.31783753361111]],\n",
       "                {}\n",
       "            );\n",
       "        \n",
       "    \n",
       "            var layer_control_4e38cd955652547afe84da72ff0467e9 = {\n",
       "                base_layers : {\n",
       "                    &quot;openstreetmap&quot; : tile_layer_cd30403b29fa4356f81a7f101446d43e,\n",
       "                },\n",
       "                overlays :  {\n",
       "                    &quot;Untitled&quot; : geo_json_9bf69f528fcddce7949dcd47c3c744dd,\n",
       "                },\n",
       "            };\n",
       "            L.control.layers(\n",
       "                layer_control_4e38cd955652547afe84da72ff0467e9.base_layers,\n",
       "                layer_control_4e38cd955652547afe84da72ff0467e9.overlays,\n",
       "                {&quot;autoZIndex&quot;: true, &quot;collapsed&quot;: true, &quot;position&quot;: &quot;topright&quot;}\n",
       "            ).addTo(map_d79f5d66f12923d688667ddd26def65c);\n",
       "        \n",
       "&lt;/script&gt;\n",
       "&lt;/html&gt;\" width=\"100%\" height=\"600\"style=\"border:none !important;\" \"allowfullscreen\" \"webkitallowfullscreen\" \"mozallowfullscreen\"></iframe>"
      ],
      "text/plain": [
       "<leafmap.foliumap.Map at 0x25ba6043c40>"
      ]
     },
     "execution_count": 102,
     "metadata": {},
     "output_type": "execute_result"
    }
   ],
   "source": [
    "import leafmap.foliumap as leafmap\n",
    "M = leafmap.Map()\n",
    "M.add_gdf(gdf.drop(columns='date'))\n",
    "M"
   ]
  },
  {
   "cell_type": "code",
   "execution_count": 74,
   "metadata": {},
   "outputs": [
    {
     "data": {
      "application/vnd.plotly.v1+json": {
       "config": {
        "plotlyServerURL": "https://plot.ly"
       },
       "data": [
        {
         "lat": [
          36.63702426194445,
          36.67046440583333,
          36.65129153583333,
          36.60278699944445,
          36.66158279611111,
          36.610114082222225,
          36.67599903638889,
          36.64657777055555,
          36.589257136111115,
          36.63205899916667,
          36.65084620527777
         ],
         "locationmode": "USA-states",
         "lon": [
          -120.23187353638889,
          -120.26961638888889,
          -120.25238293805556,
          -120.23194794083334,
          -120.24110910861111,
          -120.24236537555555,
          -120.25632744583334,
          -120.2976437375,
          -120.16262884555556,
          -120.31783753361111,
          -120.24902877333334
         ],
         "text": [
          "AG-20",
          "AG-24",
          "MW-19B",
          "MW-TW3",
          "TID A",
          "TID B",
          "TID C",
          "TID D",
          "Martin",
          "Murietta",
          "RTCM Ref 3237"
         ],
         "type": "scattergeo"
        }
       ],
       "layout": {
        "geo": {
         "scope": "usa"
        },
        "template": {
         "data": {
          "bar": [
           {
            "error_x": {
             "color": "#2a3f5f"
            },
            "error_y": {
             "color": "#2a3f5f"
            },
            "marker": {
             "line": {
              "color": "#E5ECF6",
              "width": 0.5
             },
             "pattern": {
              "fillmode": "overlay",
              "size": 10,
              "solidity": 0.2
             }
            },
            "type": "bar"
           }
          ],
          "barpolar": [
           {
            "marker": {
             "line": {
              "color": "#E5ECF6",
              "width": 0.5
             },
             "pattern": {
              "fillmode": "overlay",
              "size": 10,
              "solidity": 0.2
             }
            },
            "type": "barpolar"
           }
          ],
          "carpet": [
           {
            "aaxis": {
             "endlinecolor": "#2a3f5f",
             "gridcolor": "white",
             "linecolor": "white",
             "minorgridcolor": "white",
             "startlinecolor": "#2a3f5f"
            },
            "baxis": {
             "endlinecolor": "#2a3f5f",
             "gridcolor": "white",
             "linecolor": "white",
             "minorgridcolor": "white",
             "startlinecolor": "#2a3f5f"
            },
            "type": "carpet"
           }
          ],
          "choropleth": [
           {
            "colorbar": {
             "outlinewidth": 0,
             "ticks": ""
            },
            "type": "choropleth"
           }
          ],
          "contour": [
           {
            "colorbar": {
             "outlinewidth": 0,
             "ticks": ""
            },
            "colorscale": [
             [
              0,
              "#0d0887"
             ],
             [
              0.1111111111111111,
              "#46039f"
             ],
             [
              0.2222222222222222,
              "#7201a8"
             ],
             [
              0.3333333333333333,
              "#9c179e"
             ],
             [
              0.4444444444444444,
              "#bd3786"
             ],
             [
              0.5555555555555556,
              "#d8576b"
             ],
             [
              0.6666666666666666,
              "#ed7953"
             ],
             [
              0.7777777777777778,
              "#fb9f3a"
             ],
             [
              0.8888888888888888,
              "#fdca26"
             ],
             [
              1,
              "#f0f921"
             ]
            ],
            "type": "contour"
           }
          ],
          "contourcarpet": [
           {
            "colorbar": {
             "outlinewidth": 0,
             "ticks": ""
            },
            "type": "contourcarpet"
           }
          ],
          "heatmap": [
           {
            "colorbar": {
             "outlinewidth": 0,
             "ticks": ""
            },
            "colorscale": [
             [
              0,
              "#0d0887"
             ],
             [
              0.1111111111111111,
              "#46039f"
             ],
             [
              0.2222222222222222,
              "#7201a8"
             ],
             [
              0.3333333333333333,
              "#9c179e"
             ],
             [
              0.4444444444444444,
              "#bd3786"
             ],
             [
              0.5555555555555556,
              "#d8576b"
             ],
             [
              0.6666666666666666,
              "#ed7953"
             ],
             [
              0.7777777777777778,
              "#fb9f3a"
             ],
             [
              0.8888888888888888,
              "#fdca26"
             ],
             [
              1,
              "#f0f921"
             ]
            ],
            "type": "heatmap"
           }
          ],
          "heatmapgl": [
           {
            "colorbar": {
             "outlinewidth": 0,
             "ticks": ""
            },
            "colorscale": [
             [
              0,
              "#0d0887"
             ],
             [
              0.1111111111111111,
              "#46039f"
             ],
             [
              0.2222222222222222,
              "#7201a8"
             ],
             [
              0.3333333333333333,
              "#9c179e"
             ],
             [
              0.4444444444444444,
              "#bd3786"
             ],
             [
              0.5555555555555556,
              "#d8576b"
             ],
             [
              0.6666666666666666,
              "#ed7953"
             ],
             [
              0.7777777777777778,
              "#fb9f3a"
             ],
             [
              0.8888888888888888,
              "#fdca26"
             ],
             [
              1,
              "#f0f921"
             ]
            ],
            "type": "heatmapgl"
           }
          ],
          "histogram": [
           {
            "marker": {
             "pattern": {
              "fillmode": "overlay",
              "size": 10,
              "solidity": 0.2
             }
            },
            "type": "histogram"
           }
          ],
          "histogram2d": [
           {
            "colorbar": {
             "outlinewidth": 0,
             "ticks": ""
            },
            "colorscale": [
             [
              0,
              "#0d0887"
             ],
             [
              0.1111111111111111,
              "#46039f"
             ],
             [
              0.2222222222222222,
              "#7201a8"
             ],
             [
              0.3333333333333333,
              "#9c179e"
             ],
             [
              0.4444444444444444,
              "#bd3786"
             ],
             [
              0.5555555555555556,
              "#d8576b"
             ],
             [
              0.6666666666666666,
              "#ed7953"
             ],
             [
              0.7777777777777778,
              "#fb9f3a"
             ],
             [
              0.8888888888888888,
              "#fdca26"
             ],
             [
              1,
              "#f0f921"
             ]
            ],
            "type": "histogram2d"
           }
          ],
          "histogram2dcontour": [
           {
            "colorbar": {
             "outlinewidth": 0,
             "ticks": ""
            },
            "colorscale": [
             [
              0,
              "#0d0887"
             ],
             [
              0.1111111111111111,
              "#46039f"
             ],
             [
              0.2222222222222222,
              "#7201a8"
             ],
             [
              0.3333333333333333,
              "#9c179e"
             ],
             [
              0.4444444444444444,
              "#bd3786"
             ],
             [
              0.5555555555555556,
              "#d8576b"
             ],
             [
              0.6666666666666666,
              "#ed7953"
             ],
             [
              0.7777777777777778,
              "#fb9f3a"
             ],
             [
              0.8888888888888888,
              "#fdca26"
             ],
             [
              1,
              "#f0f921"
             ]
            ],
            "type": "histogram2dcontour"
           }
          ],
          "mesh3d": [
           {
            "colorbar": {
             "outlinewidth": 0,
             "ticks": ""
            },
            "type": "mesh3d"
           }
          ],
          "parcoords": [
           {
            "line": {
             "colorbar": {
              "outlinewidth": 0,
              "ticks": ""
             }
            },
            "type": "parcoords"
           }
          ],
          "pie": [
           {
            "automargin": true,
            "type": "pie"
           }
          ],
          "scatter": [
           {
            "fillpattern": {
             "fillmode": "overlay",
             "size": 10,
             "solidity": 0.2
            },
            "type": "scatter"
           }
          ],
          "scatter3d": [
           {
            "line": {
             "colorbar": {
              "outlinewidth": 0,
              "ticks": ""
             }
            },
            "marker": {
             "colorbar": {
              "outlinewidth": 0,
              "ticks": ""
             }
            },
            "type": "scatter3d"
           }
          ],
          "scattercarpet": [
           {
            "marker": {
             "colorbar": {
              "outlinewidth": 0,
              "ticks": ""
             }
            },
            "type": "scattercarpet"
           }
          ],
          "scattergeo": [
           {
            "marker": {
             "colorbar": {
              "outlinewidth": 0,
              "ticks": ""
             }
            },
            "type": "scattergeo"
           }
          ],
          "scattergl": [
           {
            "marker": {
             "colorbar": {
              "outlinewidth": 0,
              "ticks": ""
             }
            },
            "type": "scattergl"
           }
          ],
          "scattermapbox": [
           {
            "marker": {
             "colorbar": {
              "outlinewidth": 0,
              "ticks": ""
             }
            },
            "type": "scattermapbox"
           }
          ],
          "scatterpolar": [
           {
            "marker": {
             "colorbar": {
              "outlinewidth": 0,
              "ticks": ""
             }
            },
            "type": "scatterpolar"
           }
          ],
          "scatterpolargl": [
           {
            "marker": {
             "colorbar": {
              "outlinewidth": 0,
              "ticks": ""
             }
            },
            "type": "scatterpolargl"
           }
          ],
          "scatterternary": [
           {
            "marker": {
             "colorbar": {
              "outlinewidth": 0,
              "ticks": ""
             }
            },
            "type": "scatterternary"
           }
          ],
          "surface": [
           {
            "colorbar": {
             "outlinewidth": 0,
             "ticks": ""
            },
            "colorscale": [
             [
              0,
              "#0d0887"
             ],
             [
              0.1111111111111111,
              "#46039f"
             ],
             [
              0.2222222222222222,
              "#7201a8"
             ],
             [
              0.3333333333333333,
              "#9c179e"
             ],
             [
              0.4444444444444444,
              "#bd3786"
             ],
             [
              0.5555555555555556,
              "#d8576b"
             ],
             [
              0.6666666666666666,
              "#ed7953"
             ],
             [
              0.7777777777777778,
              "#fb9f3a"
             ],
             [
              0.8888888888888888,
              "#fdca26"
             ],
             [
              1,
              "#f0f921"
             ]
            ],
            "type": "surface"
           }
          ],
          "table": [
           {
            "cells": {
             "fill": {
              "color": "#EBF0F8"
             },
             "line": {
              "color": "white"
             }
            },
            "header": {
             "fill": {
              "color": "#C8D4E3"
             },
             "line": {
              "color": "white"
             }
            },
            "type": "table"
           }
          ]
         },
         "layout": {
          "annotationdefaults": {
           "arrowcolor": "#2a3f5f",
           "arrowhead": 0,
           "arrowwidth": 1
          },
          "autotypenumbers": "strict",
          "coloraxis": {
           "colorbar": {
            "outlinewidth": 0,
            "ticks": ""
           }
          },
          "colorscale": {
           "diverging": [
            [
             0,
             "#8e0152"
            ],
            [
             0.1,
             "#c51b7d"
            ],
            [
             0.2,
             "#de77ae"
            ],
            [
             0.3,
             "#f1b6da"
            ],
            [
             0.4,
             "#fde0ef"
            ],
            [
             0.5,
             "#f7f7f7"
            ],
            [
             0.6,
             "#e6f5d0"
            ],
            [
             0.7,
             "#b8e186"
            ],
            [
             0.8,
             "#7fbc41"
            ],
            [
             0.9,
             "#4d9221"
            ],
            [
             1,
             "#276419"
            ]
           ],
           "sequential": [
            [
             0,
             "#0d0887"
            ],
            [
             0.1111111111111111,
             "#46039f"
            ],
            [
             0.2222222222222222,
             "#7201a8"
            ],
            [
             0.3333333333333333,
             "#9c179e"
            ],
            [
             0.4444444444444444,
             "#bd3786"
            ],
            [
             0.5555555555555556,
             "#d8576b"
            ],
            [
             0.6666666666666666,
             "#ed7953"
            ],
            [
             0.7777777777777778,
             "#fb9f3a"
            ],
            [
             0.8888888888888888,
             "#fdca26"
            ],
            [
             1,
             "#f0f921"
            ]
           ],
           "sequentialminus": [
            [
             0,
             "#0d0887"
            ],
            [
             0.1111111111111111,
             "#46039f"
            ],
            [
             0.2222222222222222,
             "#7201a8"
            ],
            [
             0.3333333333333333,
             "#9c179e"
            ],
            [
             0.4444444444444444,
             "#bd3786"
            ],
            [
             0.5555555555555556,
             "#d8576b"
            ],
            [
             0.6666666666666666,
             "#ed7953"
            ],
            [
             0.7777777777777778,
             "#fb9f3a"
            ],
            [
             0.8888888888888888,
             "#fdca26"
            ],
            [
             1,
             "#f0f921"
            ]
           ]
          },
          "colorway": [
           "#636efa",
           "#EF553B",
           "#00cc96",
           "#ab63fa",
           "#FFA15A",
           "#19d3f3",
           "#FF6692",
           "#B6E880",
           "#FF97FF",
           "#FECB52"
          ],
          "font": {
           "color": "#2a3f5f"
          },
          "geo": {
           "bgcolor": "white",
           "lakecolor": "white",
           "landcolor": "#E5ECF6",
           "showlakes": true,
           "showland": true,
           "subunitcolor": "white"
          },
          "hoverlabel": {
           "align": "left"
          },
          "hovermode": "closest",
          "mapbox": {
           "style": "light"
          },
          "paper_bgcolor": "white",
          "plot_bgcolor": "#E5ECF6",
          "polar": {
           "angularaxis": {
            "gridcolor": "white",
            "linecolor": "white",
            "ticks": ""
           },
           "bgcolor": "#E5ECF6",
           "radialaxis": {
            "gridcolor": "white",
            "linecolor": "white",
            "ticks": ""
           }
          },
          "scene": {
           "xaxis": {
            "backgroundcolor": "#E5ECF6",
            "gridcolor": "white",
            "gridwidth": 2,
            "linecolor": "white",
            "showbackground": true,
            "ticks": "",
            "zerolinecolor": "white"
           },
           "yaxis": {
            "backgroundcolor": "#E5ECF6",
            "gridcolor": "white",
            "gridwidth": 2,
            "linecolor": "white",
            "showbackground": true,
            "ticks": "",
            "zerolinecolor": "white"
           },
           "zaxis": {
            "backgroundcolor": "#E5ECF6",
            "gridcolor": "white",
            "gridwidth": 2,
            "linecolor": "white",
            "showbackground": true,
            "ticks": "",
            "zerolinecolor": "white"
           }
          },
          "shapedefaults": {
           "line": {
            "color": "#2a3f5f"
           }
          },
          "ternary": {
           "aaxis": {
            "gridcolor": "white",
            "linecolor": "white",
            "ticks": ""
           },
           "baxis": {
            "gridcolor": "white",
            "linecolor": "white",
            "ticks": ""
           },
           "bgcolor": "#E5ECF6",
           "caxis": {
            "gridcolor": "white",
            "linecolor": "white",
            "ticks": ""
           }
          },
          "title": {
           "x": 0.05
          },
          "xaxis": {
           "automargin": true,
           "gridcolor": "white",
           "linecolor": "white",
           "ticks": "",
           "title": {
            "standoff": 15
           },
           "zerolinecolor": "white",
           "zerolinewidth": 2
          },
          "yaxis": {
           "automargin": true,
           "gridcolor": "white",
           "linecolor": "white",
           "ticks": "",
           "title": {
            "standoff": 15
           },
           "zerolinecolor": "white",
           "zerolinewidth": 2
          }
         }
        }
       }
      }
     },
     "metadata": {},
     "output_type": "display_data"
    }
   ],
   "source": [
    "import plotly.express as px\n",
    "import plotly.graph_objects as go\n",
    "\n",
    "fig = go.Figure()\n",
    "fig.add_trace(\n",
    "\tgo.Scattergeo(\n",
    "\t\tlocationmode = 'USA-states',\n",
    "\n",
    "\t\t# lon = df['lon'], lat = df['lat'],\n",
    "\t\tlon = gdf.geometry.x,\n",
    "\t\tlat = gdf.geometry.y,\n",
    "\t\ttext= gdf['point_id'],\n",
    "\t\t# hoverinfo=\"name\",\n",
    "\t\t# hovertemplate=\"\"\n",
    "\t)\n",
    ")\n",
    "fig.update_layout(geo_scope='usa')\n",
    "\n",
    "fig.show()"
   ]
  }
 ],
 "metadata": {
  "kernelspec": {
   "display_name": "Python 3.10.4 ('pandas-analysis-pSGX_PKJ-py3.10')",
   "language": "python",
   "name": "python3"
  },
  "language_info": {
   "codemirror_mode": {
    "name": "ipython",
    "version": 3
   },
   "file_extension": ".py",
   "mimetype": "text/x-python",
   "name": "python",
   "nbconvert_exporter": "python",
   "pygments_lexer": "ipython3",
   "version": "3.10.4"
  },
  "orig_nbformat": 4,
  "vscode": {
   "interpreter": {
    "hash": "017bf9b655c26cc9684d72cf80cbc3448421050109bedaefe1d82803180be393"
   }
  }
 },
 "nbformat": 4,
 "nbformat_minor": 2
}
